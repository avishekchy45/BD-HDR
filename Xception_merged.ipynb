{
 "cells": [
  {
   "cell_type": "markdown",
   "id": "f8ccaf2e",
   "metadata": {
    "id": "h_wjgss_l-wv",
    "papermill": {
     "duration": 0.013098,
     "end_time": "2023-05-30T07:27:30.610866",
     "exception": false,
     "start_time": "2023-05-30T07:27:30.597768",
     "status": "completed"
    },
    "tags": []
   },
   "source": [
    "## Convolutional Neural Network"
   ]
  },
  {
   "cell_type": "markdown",
   "id": "883da098",
   "metadata": {
    "id": "qHQuMV6VWYru",
    "papermill": {
     "duration": 0.010513,
     "end_time": "2023-05-30T07:27:30.632694",
     "exception": false,
     "start_time": "2023-05-30T07:27:30.622181",
     "status": "completed"
    },
    "tags": []
   },
   "source": [
    "### Mount Drive"
   ]
  },
  {
   "cell_type": "code",
   "execution_count": 1,
   "id": "a6fc8d43",
   "metadata": {
    "execution": {
     "iopub.execute_input": "2023-05-30T07:27:30.657558Z",
     "iopub.status.busy": "2023-05-30T07:27:30.657032Z",
     "iopub.status.idle": "2023-05-30T07:27:30.663384Z",
     "shell.execute_reply": "2023-05-30T07:27:30.661764Z"
    },
    "id": "zt98eHYUWV-2",
    "papermill": {
     "duration": 0.023034,
     "end_time": "2023-05-30T07:27:30.666638",
     "exception": false,
     "start_time": "2023-05-30T07:27:30.643604",
     "status": "completed"
    },
    "tags": []
   },
   "outputs": [],
   "source": [
    "# from google.colab import drive\n",
    "# drive.mount(\"/content/drive\")"
   ]
  },
  {
   "cell_type": "markdown",
   "id": "3b19e42f",
   "metadata": {
    "id": "Ud6hFF4rnhQK",
    "papermill": {
     "duration": 0.011854,
     "end_time": "2023-05-30T07:27:30.689617",
     "exception": false,
     "start_time": "2023-05-30T07:27:30.677763",
     "status": "completed"
    },
    "tags": []
   },
   "source": [
    "### Importing Packages"
   ]
  },
  {
   "cell_type": "code",
   "execution_count": 2,
   "id": "6143f8a1",
   "metadata": {
    "execution": {
     "iopub.execute_input": "2023-05-30T07:27:30.713154Z",
     "iopub.status.busy": "2023-05-30T07:27:30.712707Z",
     "iopub.status.idle": "2023-05-30T07:27:41.608831Z",
     "shell.execute_reply": "2023-05-30T07:27:41.607199Z"
    },
    "id": "RfU8VXwvngn0",
    "papermill": {
     "duration": 10.9117,
     "end_time": "2023-05-30T07:27:41.612099",
     "exception": false,
     "start_time": "2023-05-30T07:27:30.700399",
     "status": "completed"
    },
    "tags": []
   },
   "outputs": [],
   "source": [
    "# Fetching Dataset\n",
    "import pandas as pd\n",
    "\n",
    "# Reading Images\n",
    "import numpy as np\n",
    "import cv2 as cv\n",
    "\n",
    "# Scaling Features\n",
    "from sklearn.preprocessing import MinMaxScaler\n",
    "\n",
    "# Spliting Train & Test Set\n",
    "from sklearn.model_selection import train_test_split\n",
    "# from fast_ml.model_development import train_valid_test_split\n",
    "\n",
    "# Binarizing Output\n",
    "from sklearn.preprocessing import LabelBinarizer\n",
    "\n",
    "# Creating Model\n",
    "import tensorflow as tf\n",
    "from tensorflow.keras import layers,models\n",
    "\n",
    "# Training and Evaluating the Model\n",
    "from sklearn.metrics import (classification_report, multilabel_confusion_matrix, confusion_matrix)\n",
    "import seaborn as sb\n",
    "import matplotlib.pyplot as plt\n",
    "\n",
    "# Making Predictions\n",
    "\n",
    "# BD_DB_64\n"
   ]
  },
  {
   "cell_type": "markdown",
   "id": "bf067ed5",
   "metadata": {
    "id": "DOoaGBDk-FU_",
    "papermill": {
     "duration": 0.011193,
     "end_time": "2023-05-30T07:27:41.634802",
     "exception": false,
     "start_time": "2023-05-30T07:27:41.623609",
     "status": "completed"
    },
    "tags": []
   },
   "source": [
    "### Fetching Dataset"
   ]
  },
  {
   "cell_type": "code",
   "execution_count": 3,
   "id": "4219a99d",
   "metadata": {
    "execution": {
     "iopub.execute_input": "2023-05-30T07:27:41.659466Z",
     "iopub.status.busy": "2023-05-30T07:27:41.658643Z",
     "iopub.status.idle": "2023-05-30T07:27:41.711741Z",
     "shell.execute_reply": "2023-05-30T07:27:41.710517Z"
    },
    "id": "_bPX1QuDWDmS",
    "papermill": {
     "duration": 0.068383,
     "end_time": "2023-05-30T07:27:41.714549",
     "exception": false,
     "start_time": "2023-05-30T07:27:41.646166",
     "status": "completed"
    },
    "tags": []
   },
   "outputs": [],
   "source": [
    "# dataset_dir = \"/content/drive/MyDrive/Dataset/Dataset_Thesis/\"\n",
    "dataset_dir = \"/kaggle/input/dataset-thesis/\"\n",
    "dataset = pd.read_csv(dataset_dir + \"merged/merged.csv\")"
   ]
  },
  {
   "cell_type": "code",
   "execution_count": 4,
   "id": "b17f8cdc",
   "metadata": {
    "execution": {
     "iopub.execute_input": "2023-05-30T07:27:41.739391Z",
     "iopub.status.busy": "2023-05-30T07:27:41.738486Z",
     "iopub.status.idle": "2023-05-30T07:27:41.770723Z",
     "shell.execute_reply": "2023-05-30T07:27:41.769455Z"
    },
    "executionInfo": {
     "elapsed": 40,
     "status": "ok",
     "timestamp": 1678650881154,
     "user": {
      "displayName": "1578_Avishek Chowdhury",
      "userId": "14734427622886483691"
     },
     "user_tz": -360
    },
    "id": "PixqtQeFliAX",
    "outputId": "89a79bde-5ed5-4de9-ea75-43783ea85031",
    "papermill": {
     "duration": 0.048283,
     "end_time": "2023-05-30T07:27:41.774336",
     "exception": false,
     "start_time": "2023-05-30T07:27:41.726053",
     "status": "completed"
    },
    "tags": []
   },
   "outputs": [
    {
     "data": {
      "text/html": [
       "<div>\n",
       "<style scoped>\n",
       "    .dataframe tbody tr th:only-of-type {\n",
       "        vertical-align: middle;\n",
       "    }\n",
       "\n",
       "    .dataframe tbody tr th {\n",
       "        vertical-align: top;\n",
       "    }\n",
       "\n",
       "    .dataframe thead th {\n",
       "        text-align: right;\n",
       "    }\n",
       "</style>\n",
       "<table border=\"1\" class=\"dataframe\">\n",
       "  <thead>\n",
       "    <tr style=\"text-align: right;\">\n",
       "      <th></th>\n",
       "      <th>Filename</th>\n",
       "      <th>District</th>\n",
       "    </tr>\n",
       "  </thead>\n",
       "  <tbody>\n",
       "    <tr>\n",
       "      <th>0</th>\n",
       "      <td>0_16_1_0018_ (222).png</td>\n",
       "      <td>Bagerhat</td>\n",
       "    </tr>\n",
       "    <tr>\n",
       "      <th>1</th>\n",
       "      <td>0_14_1_0010_ (45).png</td>\n",
       "      <td>Bagerhat</td>\n",
       "    </tr>\n",
       "    <tr>\n",
       "      <th>2</th>\n",
       "      <td>0_14_1_0009_ (45).png</td>\n",
       "      <td>Bagerhat</td>\n",
       "    </tr>\n",
       "    <tr>\n",
       "      <th>3</th>\n",
       "      <td>0_16_1_0018_ (221).png</td>\n",
       "      <td>Bagerhat</td>\n",
       "    </tr>\n",
       "    <tr>\n",
       "      <th>4</th>\n",
       "      <td>0_16_1_0018_ (225).png</td>\n",
       "      <td>Bagerhat</td>\n",
       "    </tr>\n",
       "    <tr>\n",
       "      <th>...</th>\n",
       "      <td>...</td>\n",
       "      <td>...</td>\n",
       "    </tr>\n",
       "    <tr>\n",
       "      <th>11515</th>\n",
       "      <td>Thakurgaon_5 (2).jpg</td>\n",
       "      <td>Thakurgaon</td>\n",
       "    </tr>\n",
       "    <tr>\n",
       "      <th>11516</th>\n",
       "      <td>Thakurgaon_61.jpg</td>\n",
       "      <td>Thakurgaon</td>\n",
       "    </tr>\n",
       "    <tr>\n",
       "      <th>11517</th>\n",
       "      <td>Thakurgaon_19 (2).jpg</td>\n",
       "      <td>Thakurgaon</td>\n",
       "    </tr>\n",
       "    <tr>\n",
       "      <th>11518</th>\n",
       "      <td>Thakurgaon_60.jpg</td>\n",
       "      <td>Thakurgaon</td>\n",
       "    </tr>\n",
       "    <tr>\n",
       "      <th>11519</th>\n",
       "      <td>Thakurgaon_62.jpg</td>\n",
       "      <td>Thakurgaon</td>\n",
       "    </tr>\n",
       "  </tbody>\n",
       "</table>\n",
       "<p>11520 rows × 2 columns</p>\n",
       "</div>"
      ],
      "text/plain": [
       "                     Filename    District\n",
       "0      0_16_1_0018_ (222).png    Bagerhat\n",
       "1       0_14_1_0010_ (45).png    Bagerhat\n",
       "2       0_14_1_0009_ (45).png    Bagerhat\n",
       "3      0_16_1_0018_ (221).png    Bagerhat\n",
       "4      0_16_1_0018_ (225).png    Bagerhat\n",
       "...                       ...         ...\n",
       "11515    Thakurgaon_5 (2).jpg  Thakurgaon\n",
       "11516       Thakurgaon_61.jpg  Thakurgaon\n",
       "11517   Thakurgaon_19 (2).jpg  Thakurgaon\n",
       "11518       Thakurgaon_60.jpg  Thakurgaon\n",
       "11519       Thakurgaon_62.jpg  Thakurgaon\n",
       "\n",
       "[11520 rows x 2 columns]"
      ]
     },
     "execution_count": 4,
     "metadata": {},
     "output_type": "execute_result"
    }
   ],
   "source": [
    "dataset"
   ]
  },
  {
   "cell_type": "code",
   "execution_count": 5,
   "id": "7e1f9327",
   "metadata": {
    "execution": {
     "iopub.execute_input": "2023-05-30T07:27:41.799140Z",
     "iopub.status.busy": "2023-05-30T07:27:41.798697Z",
     "iopub.status.idle": "2023-05-30T07:27:41.806122Z",
     "shell.execute_reply": "2023-05-30T07:27:41.804730Z"
    },
    "executionInfo": {
     "elapsed": 39,
     "status": "ok",
     "timestamp": 1678650881156,
     "user": {
      "displayName": "1578_Avishek Chowdhury",
      "userId": "14734427622886483691"
     },
     "user_tz": -360
    },
    "id": "QJxZ0txo1g00",
    "outputId": "dd4783e6-ab7e-4d33-dd82-8df25d27ecd4",
    "papermill": {
     "duration": 0.022746,
     "end_time": "2023-05-30T07:27:41.808581",
     "exception": false,
     "start_time": "2023-05-30T07:27:41.785835",
     "status": "completed"
    },
    "tags": []
   },
   "outputs": [
    {
     "name": "stdout",
     "output_type": "stream",
     "text": [
      "(11520,)\n",
      "(11520,)\n"
     ]
    }
   ],
   "source": [
    "X = dataset.iloc[:,0]\n",
    "y = dataset.iloc[:,1]\n",
    "print(X.shape)\n",
    "print(y.shape)"
   ]
  },
  {
   "cell_type": "markdown",
   "id": "461298c1",
   "metadata": {
    "id": "OC7pi_STnmM_",
    "papermill": {
     "duration": 0.010901,
     "end_time": "2023-05-30T07:27:41.831100",
     "exception": false,
     "start_time": "2023-05-30T07:27:41.820199",
     "status": "completed"
    },
    "tags": []
   },
   "source": [
    "### Reading Images"
   ]
  },
  {
   "cell_type": "code",
   "execution_count": 6,
   "id": "c28135c3",
   "metadata": {
    "execution": {
     "iopub.execute_input": "2023-05-30T07:27:41.856378Z",
     "iopub.status.busy": "2023-05-30T07:27:41.855655Z",
     "iopub.status.idle": "2023-05-30T07:27:41.862761Z",
     "shell.execute_reply": "2023-05-30T07:27:41.861823Z"
    },
    "executionInfo": {
     "elapsed": 36,
     "status": "ok",
     "timestamp": 1678650881157,
     "user": {
      "displayName": "1578_Avishek Chowdhury",
      "userId": "14734427622886483691"
     },
     "user_tz": -360
    },
    "id": "3LKOqFRYnGbZ",
    "outputId": "5ceb75e3-5092-417f-abaf-8ec12ae65caf",
    "papermill": {
     "duration": 0.022498,
     "end_time": "2023-05-30T07:27:41.865254",
     "exception": false,
     "start_time": "2023-05-30T07:27:41.842756",
     "status": "completed"
    },
    "tags": []
   },
   "outputs": [
    {
     "data": {
      "text/plain": [
       "(11520, 80, 240, 3)"
      ]
     },
     "execution_count": 6,
     "metadata": {},
     "output_type": "execute_result"
    }
   ],
   "source": [
    "new_weight = 240\n",
    "new_height = 80\n",
    "x_data = np.empty((len(X), new_height, new_weight, 3), dtype=np.int64)\n",
    "x_data.shape"
   ]
  },
  {
   "cell_type": "code",
   "execution_count": 7,
   "id": "d8ab3ccb",
   "metadata": {
    "execution": {
     "iopub.execute_input": "2023-05-30T07:27:41.890429Z",
     "iopub.status.busy": "2023-05-30T07:27:41.889737Z",
     "iopub.status.idle": "2023-05-30T07:27:41.894952Z",
     "shell.execute_reply": "2023-05-30T07:27:41.893678Z"
    },
    "id": "N1CFL7phu16x",
    "papermill": {
     "duration": 0.020976,
     "end_time": "2023-05-30T07:27:41.897738",
     "exception": false,
     "start_time": "2023-05-30T07:27:41.876762",
     "status": "completed"
    },
    "tags": []
   },
   "outputs": [],
   "source": [
    "# for i, img_path in enumerate(X):\n",
    "#   # Reading Image\n",
    "#   candidate_image = cv.imread(dataset_dir + \"merged/raw/\" + y[i] + \"/\" + img_path)\n",
    "#   # Resizing Image\n",
    "#   candidate_rs = cv.resize(candidate_image, dsize=(new_weight, new_height))\n",
    "#   # Converting Image to Grayscale\n",
    "#   candidate_gray = cv.cvtColor(candidate_rs, cv.COLOR_BGR2GRAY)\n",
    "#   # Computing a Global Threshold Value from Grayscale Image(Using Otsu's Method) & Converting to Binary Image\n",
    "#   ret, candidate_bw = cv.threshold(candidate_gray, 0, 255, cv.THRESH_BINARY + cv.THRESH_OTSU)\n",
    "#   # ret, candidate_bw = cv.threshold(candidate_gray, 0, 255, cv.THRESH_BINARY_INV + cv.THRESH_OTSU)\n",
    "  \n",
    "#   # print(img_path, end =\" \")\n",
    "#   x_data[i] = candidate_bw"
   ]
  },
  {
   "cell_type": "code",
   "execution_count": 8,
   "id": "241ac29a",
   "metadata": {
    "execution": {
     "iopub.execute_input": "2023-05-30T07:27:41.922848Z",
     "iopub.status.busy": "2023-05-30T07:27:41.922380Z",
     "iopub.status.idle": "2023-05-30T07:29:31.796048Z",
     "shell.execute_reply": "2023-05-30T07:29:31.794811Z"
    },
    "id": "sdnDa8TsVOEr",
    "papermill": {
     "duration": 109.889999,
     "end_time": "2023-05-30T07:29:31.799206",
     "exception": false,
     "start_time": "2023-05-30T07:27:41.909207",
     "status": "completed"
    },
    "tags": []
   },
   "outputs": [],
   "source": [
    "for i, img_path in enumerate(X):\n",
    "    candidate_image = cv.imread(dataset_dir + \"merged/converted_80_240/\" + y[i] + \"/\" + img_path)\n",
    "    # candidate_rs = cv.resize(candidate_image, dsize=(new_weight, new_height))\n",
    "    x_data[i] = candidate_image"
   ]
  },
  {
   "cell_type": "code",
   "execution_count": 9,
   "id": "e4fb57c4",
   "metadata": {
    "execution": {
     "iopub.execute_input": "2023-05-30T07:29:31.824852Z",
     "iopub.status.busy": "2023-05-30T07:29:31.824038Z",
     "iopub.status.idle": "2023-05-30T07:29:31.829251Z",
     "shell.execute_reply": "2023-05-30T07:29:31.827937Z"
    },
    "id": "n2E7m-iKqjCn",
    "papermill": {
     "duration": 0.020457,
     "end_time": "2023-05-30T07:29:31.831555",
     "exception": false,
     "start_time": "2023-05-30T07:29:31.811098",
     "status": "completed"
    },
    "tags": []
   },
   "outputs": [],
   "source": [
    "# plt.imshow(x_data[1], cmap=\"gray\")\n",
    "# len(x_data[0][0])"
   ]
  },
  {
   "cell_type": "code",
   "execution_count": 10,
   "id": "1767db30",
   "metadata": {
    "execution": {
     "iopub.execute_input": "2023-05-30T07:29:31.856639Z",
     "iopub.status.busy": "2023-05-30T07:29:31.855911Z",
     "iopub.status.idle": "2023-05-30T07:29:31.865770Z",
     "shell.execute_reply": "2023-05-30T07:29:31.864492Z"
    },
    "executionInfo": {
     "elapsed": 564,
     "status": "ok",
     "timestamp": 1678650929654,
     "user": {
      "displayName": "1578_Avishek Chowdhury",
      "userId": "14734427622886483691"
     },
     "user_tz": -360
    },
    "id": "qHatxo9Jn6kC",
    "outputId": "3109adb5-1a27-4e79-88ab-4b83203cb486",
    "papermill": {
     "duration": 0.025898,
     "end_time": "2023-05-30T07:29:31.868765",
     "exception": false,
     "start_time": "2023-05-30T07:29:31.842867",
     "status": "completed"
    },
    "tags": []
   },
   "outputs": [
    {
     "data": {
      "text/plain": [
       "(11520, 57600)"
      ]
     },
     "execution_count": 10,
     "metadata": {},
     "output_type": "execute_result"
    }
   ],
   "source": [
    "X = np.reshape(x_data,(X.shape[0],new_height*new_weight*3))\n",
    "X.shape"
   ]
  },
  {
   "cell_type": "markdown",
   "id": "f6f68e82",
   "metadata": {
    "id": "VhtYg63_32mi",
    "papermill": {
     "duration": 0.011239,
     "end_time": "2023-05-30T07:29:31.891813",
     "exception": false,
     "start_time": "2023-05-30T07:29:31.880574",
     "status": "completed"
    },
    "tags": []
   },
   "source": [
    "### Scaling Features"
   ]
  },
  {
   "cell_type": "code",
   "execution_count": 11,
   "id": "c2b0a0fb",
   "metadata": {
    "execution": {
     "iopub.execute_input": "2023-05-30T07:29:31.917683Z",
     "iopub.status.busy": "2023-05-30T07:29:31.916316Z",
     "iopub.status.idle": "2023-05-30T07:29:39.786532Z",
     "shell.execute_reply": "2023-05-30T07:29:39.785243Z"
    },
    "id": "2HSHvUQx3pVm",
    "papermill": {
     "duration": 7.886085,
     "end_time": "2023-05-30T07:29:39.789521",
     "exception": false,
     "start_time": "2023-05-30T07:29:31.903436",
     "status": "completed"
    },
    "tags": []
   },
   "outputs": [],
   "source": [
    "sc = MinMaxScaler()\n",
    "X = sc.fit_transform(X)"
   ]
  },
  {
   "cell_type": "code",
   "execution_count": 12,
   "id": "5c2c8576",
   "metadata": {
    "execution": {
     "iopub.execute_input": "2023-05-30T07:29:39.815207Z",
     "iopub.status.busy": "2023-05-30T07:29:39.814061Z",
     "iopub.status.idle": "2023-05-30T07:29:39.821894Z",
     "shell.execute_reply": "2023-05-30T07:29:39.820773Z"
    },
    "executionInfo": {
     "elapsed": 493,
     "status": "ok",
     "timestamp": 1678650929656,
     "user": {
      "displayName": "1578_Avishek Chowdhury",
      "userId": "14734427622886483691"
     },
     "user_tz": -360
    },
    "id": "jSj6M9SO5W1m",
    "outputId": "29b9d3c3-99ec-4411-b84d-f7e12ad99852",
    "papermill": {
     "duration": 0.023263,
     "end_time": "2023-05-30T07:29:39.824370",
     "exception": false,
     "start_time": "2023-05-30T07:29:39.801107",
     "status": "completed"
    },
    "tags": []
   },
   "outputs": [
    {
     "data": {
      "text/plain": [
       "array([[0., 0., 0., ..., 0., 0., 0.],\n",
       "       [0., 0., 0., ..., 0., 0., 0.],\n",
       "       [0., 0., 0., ..., 0., 0., 0.],\n",
       "       ...,\n",
       "       [0., 0., 0., ..., 0., 0., 0.],\n",
       "       [0., 0., 0., ..., 0., 0., 0.],\n",
       "       [1., 1., 1., ..., 1., 1., 1.]])"
      ]
     },
     "execution_count": 12,
     "metadata": {},
     "output_type": "execute_result"
    }
   ],
   "source": [
    "X"
   ]
  },
  {
   "cell_type": "markdown",
   "id": "59ca7d74",
   "metadata": {
    "id": "W_9dK6Iw5EXZ",
    "papermill": {
     "duration": 0.011185,
     "end_time": "2023-05-30T07:29:39.847169",
     "exception": false,
     "start_time": "2023-05-30T07:29:39.835984",
     "status": "completed"
    },
    "tags": []
   },
   "source": [
    "### Spliting Train & Test Set\n"
   ]
  },
  {
   "cell_type": "code",
   "execution_count": 13,
   "id": "e9521faf",
   "metadata": {
    "execution": {
     "iopub.execute_input": "2023-05-30T07:29:39.872282Z",
     "iopub.status.busy": "2023-05-30T07:29:39.871248Z",
     "iopub.status.idle": "2023-05-30T07:29:42.779429Z",
     "shell.execute_reply": "2023-05-30T07:29:42.777781Z"
    },
    "executionInfo": {
     "elapsed": 488,
     "status": "ok",
     "timestamp": 1678650929679,
     "user": {
      "displayName": "1578_Avishek Chowdhury",
      "userId": "14734427622886483691"
     },
     "user_tz": -360
    },
    "id": "ARtvOrWsWImO",
    "outputId": "a052e7ac-0eb4-4d33-c74f-89393c77e9e8",
    "papermill": {
     "duration": 2.923715,
     "end_time": "2023-05-30T07:29:42.782308",
     "exception": false,
     "start_time": "2023-05-30T07:29:39.858593",
     "status": "completed"
    },
    "tags": []
   },
   "outputs": [
    {
     "name": "stdout",
     "output_type": "stream",
     "text": [
      "(8640, 57600) (1728, 57600) (1152, 57600) (8640,) (1728,) (1152,)\n"
     ]
    }
   ],
   "source": [
    "# X_train, X_test, y_train, y_test = train_test_split(X, y, test_size=0.15, random_state=45, stratify=dataset[\"District\"])\n",
    "X_train, X_rem, y_train, y_rem = train_test_split(X, y, train_size=0.75, random_state=45, stratify=y)\n",
    "X_val, X_test, y_val, y_test = train_test_split(X_rem, y_rem, test_size=0.60, stratify=y_rem)\n",
    "print(X_train.shape, X_test.shape, X_val.shape, y_train.shape, y_test.shape, y_val.shape)"
   ]
  },
  {
   "cell_type": "code",
   "execution_count": 14,
   "id": "4e857dda",
   "metadata": {
    "execution": {
     "iopub.execute_input": "2023-05-30T07:29:42.807927Z",
     "iopub.status.busy": "2023-05-30T07:29:42.807093Z",
     "iopub.status.idle": "2023-05-30T07:29:42.812890Z",
     "shell.execute_reply": "2023-05-30T07:29:42.811602Z"
    },
    "papermill": {
     "duration": 0.021725,
     "end_time": "2023-05-30T07:29:42.815759",
     "exception": false,
     "start_time": "2023-05-30T07:29:42.794034",
     "status": "completed"
    },
    "tags": []
   },
   "outputs": [],
   "source": [
    "# print(\n",
    "#     f'NUMBER OF TARGET IN THE ORIGINAL DATA\\n{dataset[\"District\"].value_counts()}\\n\\n'\n",
    "#     + f\"NUMBER OF TARGET IN THE TRAINING SET\\n{y_train.value_counts()}\\n\\n\"\n",
    "#     + f\"NUMBER OF TARGET IN THE TEST SET\\n{y_test.value_counts()}\\n\\n\"\n",
    "#     + f\"NUMBER OF TARGET IN THE VALIDATION SET\\n{y_val.value_counts()}\"\n",
    "# )"
   ]
  },
  {
   "cell_type": "code",
   "execution_count": 15,
   "id": "f1e1e06a",
   "metadata": {
    "execution": {
     "iopub.execute_input": "2023-05-30T07:29:42.842007Z",
     "iopub.status.busy": "2023-05-30T07:29:42.841522Z",
     "iopub.status.idle": "2023-05-30T07:29:42.846899Z",
     "shell.execute_reply": "2023-05-30T07:29:42.845626Z"
    },
    "papermill": {
     "duration": 0.021294,
     "end_time": "2023-05-30T07:29:42.849491",
     "exception": false,
     "start_time": "2023-05-30T07:29:42.828197",
     "status": "completed"
    },
    "tags": []
   },
   "outputs": [],
   "source": [
    "# print(\n",
    "#     f'RATIO OF TARGET IN THE ORIGINAL DATA\\n{dataset[\"District\"].value_counts() / len(dataset)}\\n\\n'\n",
    "#     + f\"RATIO OF TARGET IN THE TRAINING SET\\n{y_train.value_counts() / len(y_train)}\\n\\n\"\n",
    "#     + f\"RATIO OF TARGET IN THE TEST SET\\n{y_test.value_counts() / len(y_test)}\\n\\n\"\n",
    "#     + f\"RATIO OF TARGET IN THE VALIDATION SET\\n{y_val.value_counts() / len(y_val)}\"\n",
    "# )"
   ]
  },
  {
   "cell_type": "code",
   "execution_count": 16,
   "id": "0348d7fc",
   "metadata": {
    "execution": {
     "iopub.execute_input": "2023-05-30T07:29:42.875946Z",
     "iopub.status.busy": "2023-05-30T07:29:42.875498Z",
     "iopub.status.idle": "2023-05-30T07:29:42.882841Z",
     "shell.execute_reply": "2023-05-30T07:29:42.881448Z"
    },
    "executionInfo": {
     "elapsed": 482,
     "status": "ok",
     "timestamp": 1678650929680,
     "user": {
      "displayName": "1578_Avishek Chowdhury",
      "userId": "14734427622886483691"
     },
     "user_tz": -360
    },
    "id": "qydb7AVI_s4C",
    "outputId": "e9dc8697-7fc9-473e-b666-e8657b341e30",
    "papermill": {
     "duration": 0.024369,
     "end_time": "2023-05-30T07:29:42.885939",
     "exception": false,
     "start_time": "2023-05-30T07:29:42.861570",
     "status": "completed"
    },
    "tags": []
   },
   "outputs": [
    {
     "name": "stdout",
     "output_type": "stream",
     "text": [
      "(8640, 80, 240, 3) (1728, 80, 240, 3) (1152, 80, 240, 3)\n"
     ]
    }
   ],
   "source": [
    "X_train = X_train.reshape(-1,new_height,new_weight,3)\n",
    "X_test = X_test.reshape(-1,new_height,new_weight,3)\n",
    "X_val = X_val.reshape(-1,new_height,new_weight,3)\n",
    "print(X_train.shape, X_test.shape, X_val.shape)"
   ]
  },
  {
   "cell_type": "markdown",
   "id": "dc7aacc7",
   "metadata": {
    "papermill": {
     "duration": 0.012328,
     "end_time": "2023-05-30T07:29:42.914054",
     "exception": false,
     "start_time": "2023-05-30T07:29:42.901726",
     "status": "completed"
    },
    "tags": []
   },
   "source": [
    "### Binarizing Output"
   ]
  },
  {
   "cell_type": "code",
   "execution_count": 17,
   "id": "13663081",
   "metadata": {
    "execution": {
     "iopub.execute_input": "2023-05-30T07:29:42.939861Z",
     "iopub.status.busy": "2023-05-30T07:29:42.939390Z",
     "iopub.status.idle": "2023-05-30T07:29:43.004490Z",
     "shell.execute_reply": "2023-05-30T07:29:43.002196Z"
    },
    "papermill": {
     "duration": 0.081235,
     "end_time": "2023-05-30T07:29:43.007451",
     "exception": false,
     "start_time": "2023-05-30T07:29:42.926216",
     "status": "completed"
    },
    "tags": []
   },
   "outputs": [
    {
     "name": "stdout",
     "output_type": "stream",
     "text": [
      "(8640, 64) (1728, 64) (1152, 64)\n"
     ]
    }
   ],
   "source": [
    "lb = LabelBinarizer()\n",
    "y_train = lb.fit_transform(y_train)\n",
    "y_test = lb.fit_transform(y_test)\n",
    "y_val = lb.fit_transform(y_val)\n",
    "print(y_train.shape, y_test.shape, y_val.shape)"
   ]
  },
  {
   "cell_type": "code",
   "execution_count": 18,
   "id": "cf0265c4",
   "metadata": {
    "execution": {
     "iopub.execute_input": "2023-05-30T07:29:43.033315Z",
     "iopub.status.busy": "2023-05-30T07:29:43.032545Z",
     "iopub.status.idle": "2023-05-30T07:29:43.040829Z",
     "shell.execute_reply": "2023-05-30T07:29:43.039296Z"
    },
    "papermill": {
     "duration": 0.024252,
     "end_time": "2023-05-30T07:29:43.043553",
     "exception": false,
     "start_time": "2023-05-30T07:29:43.019301",
     "status": "completed"
    },
    "tags": []
   },
   "outputs": [
    {
     "name": "stdout",
     "output_type": "stream",
     "text": [
      "[[0 0 0 ... 0 0 0]\n",
      " [0 0 0 ... 0 0 0]\n",
      " [0 0 0 ... 0 0 0]\n",
      " ...\n",
      " [0 0 0 ... 0 0 0]\n",
      " [0 0 0 ... 0 0 0]\n",
      " [0 0 0 ... 0 0 0]]\n",
      "[[0 0 0 ... 0 0 0]\n",
      " [0 0 0 ... 0 0 0]\n",
      " [0 0 0 ... 0 0 0]\n",
      " ...\n",
      " [0 0 0 ... 0 0 0]\n",
      " [0 0 0 ... 0 0 0]\n",
      " [0 0 0 ... 0 0 0]]\n",
      "[[0 0 0 ... 0 0 0]\n",
      " [0 0 0 ... 0 0 0]\n",
      " [0 0 0 ... 0 0 0]\n",
      " ...\n",
      " [0 0 0 ... 0 0 0]\n",
      " [0 0 0 ... 0 0 0]\n",
      " [0 0 0 ... 0 0 0]]\n"
     ]
    }
   ],
   "source": [
    "print(y_train)\n",
    "print(y_test)\n",
    "print(y_val)"
   ]
  },
  {
   "cell_type": "code",
   "execution_count": 19,
   "id": "94f85b19",
   "metadata": {
    "execution": {
     "iopub.execute_input": "2023-05-30T07:29:43.069375Z",
     "iopub.status.busy": "2023-05-30T07:29:43.068891Z",
     "iopub.status.idle": "2023-05-30T07:29:43.075202Z",
     "shell.execute_reply": "2023-05-30T07:29:43.074016Z"
    },
    "papermill": {
     "duration": 0.02228,
     "end_time": "2023-05-30T07:29:43.077830",
     "exception": false,
     "start_time": "2023-05-30T07:29:43.055550",
     "status": "completed"
    },
    "tags": []
   },
   "outputs": [
    {
     "name": "stdout",
     "output_type": "stream",
     "text": [
      "(8640, 64)\n",
      "(1728, 64)\n"
     ]
    }
   ],
   "source": [
    "print(y_train.shape)\n",
    "print(y_test.shape)"
   ]
  },
  {
   "cell_type": "markdown",
   "id": "b29156b9",
   "metadata": {
    "id": "hW66EaXA4vnR",
    "papermill": {
     "duration": 0.011673,
     "end_time": "2023-05-30T07:29:43.101510",
     "exception": false,
     "start_time": "2023-05-30T07:29:43.089837",
     "status": "completed"
    },
    "tags": []
   },
   "source": [
    "### Creating Model\n"
   ]
  },
  {
   "cell_type": "code",
   "execution_count": 20,
   "id": "1a1fc745",
   "metadata": {
    "execution": {
     "iopub.execute_input": "2023-05-30T07:29:43.127753Z",
     "iopub.status.busy": "2023-05-30T07:29:43.127295Z",
     "iopub.status.idle": "2023-05-30T07:29:43.132449Z",
     "shell.execute_reply": "2023-05-30T07:29:43.131052Z"
    },
    "id": "HO1XBt5P5bP2",
    "papermill": {
     "duration": 0.021153,
     "end_time": "2023-05-30T07:29:43.134672",
     "exception": false,
     "start_time": "2023-05-30T07:29:43.113519",
     "status": "completed"
    },
    "tags": []
   },
   "outputs": [],
   "source": [
    "# import datetime\n",
    "# from tensorflow.keras.callbacks import TensorBoard\n",
    "# log_dir = \"logs/xception/\" + datetime.datetime.now().strftime(\"%Y%m%d-%H%M%S\")\n",
    "# tensorboard_callback = tf.keras.callbacks.TensorBoard(log_dir=log_dir, histogram_freq=1)"
   ]
  },
  {
   "cell_type": "code",
   "execution_count": 21,
   "id": "4b7d1527",
   "metadata": {
    "execution": {
     "iopub.execute_input": "2023-05-30T07:29:43.161043Z",
     "iopub.status.busy": "2023-05-30T07:29:43.160003Z",
     "iopub.status.idle": "2023-05-30T07:29:43.173701Z",
     "shell.execute_reply": "2023-05-30T07:29:43.172456Z"
    },
    "id": "Na7WBFiuVxxC",
    "papermill": {
     "duration": 0.029464,
     "end_time": "2023-05-30T07:29:43.176206",
     "exception": false,
     "start_time": "2023-05-30T07:29:43.146742",
     "status": "completed"
    },
    "tags": []
   },
   "outputs": [],
   "source": [
    "num_classes = dataset.District.nunique()\n",
    "input_shape = (new_height, new_weight, 3)\n",
    "# input_shape = X.shape"
   ]
  },
  {
   "cell_type": "code",
   "execution_count": 22,
   "id": "831058ae",
   "metadata": {
    "execution": {
     "iopub.execute_input": "2023-05-30T07:29:43.203161Z",
     "iopub.status.busy": "2023-05-30T07:29:43.202241Z",
     "iopub.status.idle": "2023-05-30T07:29:43.207675Z",
     "shell.execute_reply": "2023-05-30T07:29:43.206281Z"
    },
    "id": "5w63KZn95bP3",
    "papermill": {
     "duration": 0.021232,
     "end_time": "2023-05-30T07:29:43.210079",
     "exception": false,
     "start_time": "2023-05-30T07:29:43.188847",
     "status": "completed"
    },
    "tags": []
   },
   "outputs": [],
   "source": [
    "# Set hyperparameters\n",
    "dropout_rate = 0.5"
   ]
  },
  {
   "cell_type": "code",
   "execution_count": 23,
   "id": "578e3540",
   "metadata": {
    "execution": {
     "iopub.execute_input": "2023-05-30T07:29:43.236208Z",
     "iopub.status.busy": "2023-05-30T07:29:43.235376Z",
     "iopub.status.idle": "2023-05-30T07:29:49.717725Z",
     "shell.execute_reply": "2023-05-30T07:29:49.716741Z"
    },
    "papermill": {
     "duration": 6.498137,
     "end_time": "2023-05-30T07:29:49.720334",
     "exception": false,
     "start_time": "2023-05-30T07:29:43.222197",
     "status": "completed"
    },
    "tags": []
   },
   "outputs": [
    {
     "name": "stdout",
     "output_type": "stream",
     "text": [
      "Downloading data from https://storage.googleapis.com/tensorflow/keras-applications/xception/xception_weights_tf_dim_ordering_tf_kernels_notop.h5\n",
      "83683744/83683744 [==============================] - 4s 0us/step\n"
     ]
    }
   ],
   "source": [
    "# Load the pre-trained model\n",
    "xception = tf.keras.applications.Xception(weights='imagenet',input_shape=input_shape, include_top=False)\n",
    "\n",
    "# Freeze the weights of the pre-trained layers\n",
    "for layer in xception.layers:\n",
    "    layer.trainable = False\n",
    "\n",
    "# Add custom layers to the top of the pre-trained model\n",
    "xception_model = models.Sequential()\n",
    "xception_model.add(xception)\n",
    "xception_model.add(layers.Flatten())\n",
    "xception_model.add(layers.Dense(units=num_classes, activation='softmax'))"
   ]
  },
  {
   "cell_type": "code",
   "execution_count": 24,
   "id": "68944ed9",
   "metadata": {
    "execution": {
     "iopub.execute_input": "2023-05-30T07:29:49.754603Z",
     "iopub.status.busy": "2023-05-30T07:29:49.753599Z",
     "iopub.status.idle": "2023-05-30T07:29:49.790215Z",
     "shell.execute_reply": "2023-05-30T07:29:49.788599Z"
    },
    "executionInfo": {
     "elapsed": 423,
     "status": "ok",
     "timestamp": 1678650929689,
     "user": {
      "displayName": "1578_Avishek Chowdhury",
      "userId": "14734427622886483691"
     },
     "user_tz": -360
    },
    "id": "ATyz_NHT0GBM",
    "outputId": "952dba93-f347-4fd3-d995-035110067110",
    "papermill": {
     "duration": 0.056255,
     "end_time": "2023-05-30T07:29:49.792729",
     "exception": false,
     "start_time": "2023-05-30T07:29:49.736474",
     "status": "completed"
    },
    "tags": []
   },
   "outputs": [
    {
     "name": "stdout",
     "output_type": "stream",
     "text": [
      "Model: \"sequential\"\n",
      "_________________________________________________________________\n",
      " Layer (type)                Output Shape              Param #   \n",
      "=================================================================\n",
      " xception (Functional)       (None, 3, 8, 2048)        20861480  \n",
      "                                                                 \n",
      " flatten (Flatten)           (None, 49152)             0         \n",
      "                                                                 \n",
      " dense (Dense)               (None, 64)                3145792   \n",
      "                                                                 \n",
      "=================================================================\n",
      "Total params: 24,007,272\n",
      "Trainable params: 3,145,792\n",
      "Non-trainable params: 20,861,480\n",
      "_________________________________________________________________\n"
     ]
    }
   ],
   "source": [
    "xception_model.summary()"
   ]
  },
  {
   "cell_type": "code",
   "execution_count": 25,
   "id": "8f48c0e0",
   "metadata": {
    "execution": {
     "iopub.execute_input": "2023-05-30T07:29:49.828540Z",
     "iopub.status.busy": "2023-05-30T07:29:49.828042Z",
     "iopub.status.idle": "2023-05-30T07:29:49.833341Z",
     "shell.execute_reply": "2023-05-30T07:29:49.832038Z"
    },
    "papermill": {
     "duration": 0.026299,
     "end_time": "2023-05-30T07:29:49.836046",
     "exception": false,
     "start_time": "2023-05-30T07:29:49.809747",
     "status": "completed"
    },
    "tags": []
   },
   "outputs": [],
   "source": [
    "# !pip install visualkeras\n",
    "# import visualkeras"
   ]
  },
  {
   "cell_type": "code",
   "execution_count": 26,
   "id": "4ea6a954",
   "metadata": {
    "execution": {
     "iopub.execute_input": "2023-05-30T07:29:49.873742Z",
     "iopub.status.busy": "2023-05-30T07:29:49.872568Z",
     "iopub.status.idle": "2023-05-30T07:29:49.877314Z",
     "shell.execute_reply": "2023-05-30T07:29:49.876418Z"
    },
    "papermill": {
     "duration": 0.026904,
     "end_time": "2023-05-30T07:29:49.879799",
     "exception": false,
     "start_time": "2023-05-30T07:29:49.852895",
     "status": "completed"
    },
    "tags": []
   },
   "outputs": [],
   "source": [
    "# visualkeras.layered_view(xception_model, legend=True, draw_volume=False)"
   ]
  },
  {
   "cell_type": "code",
   "execution_count": 27,
   "id": "1bb1e7f4",
   "metadata": {
    "execution": {
     "iopub.execute_input": "2023-05-30T07:29:49.918319Z",
     "iopub.status.busy": "2023-05-30T07:29:49.917853Z",
     "iopub.status.idle": "2023-05-30T07:29:50.170781Z",
     "shell.execute_reply": "2023-05-30T07:29:50.169199Z"
    },
    "papermill": {
     "duration": 0.27566,
     "end_time": "2023-05-30T07:29:50.173834",
     "exception": false,
     "start_time": "2023-05-30T07:29:49.898174",
     "status": "completed"
    },
    "tags": []
   },
   "outputs": [
    {
     "data": {
      "image/png": "[encoded data removed]",
      "text/plain": [
       "<IPython.core.display.Image object>"
      ]
     },
     "execution_count": 27,
     "metadata": {},
     "output_type": "execute_result"
    }
   ],
   "source": [
    "from tensorflow.keras.utils import plot_model\n",
    "plot_model(xception_model, to_file='xception_model.png', show_shapes=True, show_layer_activations=True)"
   ]
  },
  {
   "cell_type": "markdown",
   "id": "f2b64883",
   "metadata": {
    "papermill": {
     "duration": 0.017249,
     "end_time": "2023-05-30T07:29:50.208986",
     "exception": false,
     "start_time": "2023-05-30T07:29:50.191737",
     "status": "completed"
    },
    "tags": []
   },
   "source": [
    "### Training & Evaluating the Model\n"
   ]
  },
  {
   "cell_type": "code",
   "execution_count": 28,
   "id": "5a7ccaff",
   "metadata": {
    "execution": {
     "iopub.execute_input": "2023-05-30T07:29:50.246483Z",
     "iopub.status.busy": "2023-05-30T07:29:50.246001Z",
     "iopub.status.idle": "2023-05-30T07:29:50.251655Z",
     "shell.execute_reply": "2023-05-30T07:29:50.250296Z"
    },
    "papermill": {
     "duration": 0.027325,
     "end_time": "2023-05-30T07:29:50.254227",
     "exception": false,
     "start_time": "2023-05-30T07:29:50.226902",
     "status": "completed"
    },
    "tags": []
   },
   "outputs": [],
   "source": [
    "epochs = 25\n",
    "k = 5"
   ]
  },
  {
   "cell_type": "code",
   "execution_count": 29,
   "id": "f02e3d3c",
   "metadata": {
    "execution": {
     "iopub.execute_input": "2023-05-30T07:29:50.292065Z",
     "iopub.status.busy": "2023-05-30T07:29:50.290687Z",
     "iopub.status.idle": "2023-05-30T07:29:50.320019Z",
     "shell.execute_reply": "2023-05-30T07:29:50.318708Z"
    },
    "id": "KyFKGexVET4M",
    "papermill": {
     "duration": 0.051498,
     "end_time": "2023-05-30T07:29:50.323124",
     "exception": false,
     "start_time": "2023-05-30T07:29:50.271626",
     "status": "completed"
    },
    "tags": []
   },
   "outputs": [],
   "source": [
    "xception_model.compile(optimizer='adam', loss='categorical_crossentropy', metrics=['accuracy','top_k_categorical_accuracy'])"
   ]
  },
  {
   "cell_type": "code",
   "execution_count": 30,
   "id": "49ab00c5",
   "metadata": {
    "execution": {
     "iopub.execute_input": "2023-05-30T07:29:50.360527Z",
     "iopub.status.busy": "2023-05-30T07:29:50.360036Z",
     "iopub.status.idle": "2023-05-30T10:18:20.076457Z",
     "shell.execute_reply": "2023-05-30T10:18:20.074395Z"
    },
    "executionInfo": {
     "elapsed": 441840,
     "status": "ok",
     "timestamp": 1678651371331,
     "user": {
      "displayName": "1578_Avishek Chowdhury",
      "userId": "14734427622886483691"
     },
     "user_tz": -360
    },
    "id": "358VdnTrAD0A",
    "outputId": "9fed86f0-ab2f-4e9e-b2d6-d18c16fe7a36",
    "papermill": {
     "duration": 10109.738964,
     "end_time": "2023-05-30T10:18:20.079776",
     "exception": false,
     "start_time": "2023-05-30T07:29:50.340812",
     "status": "completed"
    },
    "tags": []
   },
   "outputs": [
    {
     "name": "stdout",
     "output_type": "stream",
     "text": [
      "Epoch 1/25\n",
      "270/270 [==============================] - 413s 2s/step - loss: 3.2318 - accuracy: 0.2793 - top_k_categorical_accuracy: 0.5701 - val_loss: 2.5435 - val_accuracy: 0.4306 - val_top_k_categorical_accuracy: 0.7170\n",
      "Epoch 2/25\n",
      "270/270 [==============================] - 410s 2s/step - loss: 1.2852 - accuracy: 0.6591 - top_k_categorical_accuracy: 0.8978 - val_loss: 2.0366 - val_accuracy: 0.5095 - val_top_k_categorical_accuracy: 0.8194\n",
      "Epoch 3/25\n",
      "270/270 [==============================] - 411s 2s/step - loss: 0.7906 - accuracy: 0.7956 - top_k_categorical_accuracy: 0.9590 - val_loss: 1.8078 - val_accuracy: 0.5712 - val_top_k_categorical_accuracy: 0.8524\n",
      "Epoch 4/25\n",
      "270/270 [==============================] - 411s 2s/step - loss: 0.5068 - accuracy: 0.8795 - top_k_categorical_accuracy: 0.9829 - val_loss: 1.7059 - val_accuracy: 0.5998 - val_top_k_categorical_accuracy: 0.8837\n",
      "Epoch 5/25\n",
      "270/270 [==============================] - 411s 2s/step - loss: 0.3555 - accuracy: 0.9253 - top_k_categorical_accuracy: 0.9919 - val_loss: 1.6528 - val_accuracy: 0.6120 - val_top_k_categorical_accuracy: 0.8889\n",
      "Epoch 6/25\n",
      "270/270 [==============================] - 409s 2s/step - loss: 0.2358 - accuracy: 0.9608 - top_k_categorical_accuracy: 0.9970 - val_loss: 1.7957 - val_accuracy: 0.5929 - val_top_k_categorical_accuracy: 0.8785\n",
      "Epoch 7/25\n",
      "270/270 [==============================] - 409s 2s/step - loss: 0.1875 - accuracy: 0.9715 - top_k_categorical_accuracy: 0.9980 - val_loss: 1.5365 - val_accuracy: 0.6406 - val_top_k_categorical_accuracy: 0.8967\n",
      "Epoch 8/25\n",
      "270/270 [==============================] - 410s 2s/step - loss: 0.1141 - accuracy: 0.9925 - top_k_categorical_accuracy: 0.9994 - val_loss: 1.5210 - val_accuracy: 0.6658 - val_top_k_categorical_accuracy: 0.8924\n",
      "Epoch 9/25\n",
      "270/270 [==============================] - 410s 2s/step - loss: 0.0935 - accuracy: 0.9937 - top_k_categorical_accuracy: 0.9998 - val_loss: 1.4760 - val_accuracy: 0.6606 - val_top_k_categorical_accuracy: 0.9071\n",
      "Epoch 10/25\n",
      "270/270 [==============================] - 411s 2s/step - loss: 0.0689 - accuracy: 0.9981 - top_k_categorical_accuracy: 1.0000 - val_loss: 1.4827 - val_accuracy: 0.6658 - val_top_k_categorical_accuracy: 0.9036\n",
      "Epoch 11/25\n",
      "270/270 [==============================] - 411s 2s/step - loss: 0.0925 - accuracy: 0.9894 - top_k_categorical_accuracy: 0.9993 - val_loss: 1.8320 - val_accuracy: 0.6250 - val_top_k_categorical_accuracy: 0.8889\n",
      "Epoch 12/25\n",
      "270/270 [==============================] - 417s 2s/step - loss: 0.4153 - accuracy: 0.9069 - top_k_categorical_accuracy: 0.9854 - val_loss: 2.7935 - val_accuracy: 0.5408 - val_top_k_categorical_accuracy: 0.8359\n",
      "Epoch 13/25\n",
      "270/270 [==============================] - 377s 1s/step - loss: 0.4606 - accuracy: 0.8929 - top_k_categorical_accuracy: 0.9889 - val_loss: 2.5641 - val_accuracy: 0.5773 - val_top_k_categorical_accuracy: 0.8455\n",
      "Epoch 14/25\n",
      "270/270 [==============================] - 407s 2s/step - loss: 0.1586 - accuracy: 0.9623 - top_k_categorical_accuracy: 0.9983 - val_loss: 1.9265 - val_accuracy: 0.6519 - val_top_k_categorical_accuracy: 0.8915\n",
      "Epoch 15/25\n",
      "270/270 [==============================] - 406s 2s/step - loss: 0.0471 - accuracy: 0.9941 - top_k_categorical_accuracy: 0.9999 - val_loss: 1.9117 - val_accuracy: 0.6406 - val_top_k_categorical_accuracy: 0.8915\n",
      "Epoch 16/25\n",
      "270/270 [==============================] - 405s 2s/step - loss: 0.0251 - accuracy: 0.9980 - top_k_categorical_accuracy: 1.0000 - val_loss: 1.7013 - val_accuracy: 0.6675 - val_top_k_categorical_accuracy: 0.9019\n",
      "Epoch 17/25\n",
      "270/270 [==============================] - 368s 1s/step - loss: 0.0146 - accuracy: 0.9997 - top_k_categorical_accuracy: 1.0000 - val_loss: 1.6796 - val_accuracy: 0.6710 - val_top_k_categorical_accuracy: 0.9019\n",
      "Epoch 18/25\n",
      "270/270 [==============================] - 405s 2s/step - loss: 0.0128 - accuracy: 0.9995 - top_k_categorical_accuracy: 1.0000 - val_loss: 1.6531 - val_accuracy: 0.6780 - val_top_k_categorical_accuracy: 0.9028\n",
      "Epoch 19/25\n",
      "270/270 [==============================] - 405s 2s/step - loss: 0.0143 - accuracy: 0.9987 - top_k_categorical_accuracy: 1.0000 - val_loss: 1.7903 - val_accuracy: 0.6719 - val_top_k_categorical_accuracy: 0.9010\n",
      "Epoch 20/25\n",
      "270/270 [==============================] - 364s 1s/step - loss: 0.1272 - accuracy: 0.9713 - top_k_categorical_accuracy: 0.9969 - val_loss: 2.9976 - val_accuracy: 0.5608 - val_top_k_categorical_accuracy: 0.8385\n",
      "Epoch 21/25\n",
      "270/270 [==============================] - 404s 1s/step - loss: 0.4563 - accuracy: 0.8977 - top_k_categorical_accuracy: 0.9880 - val_loss: 2.7929 - val_accuracy: 0.5807 - val_top_k_categorical_accuracy: 0.8568\n",
      "Epoch 22/25\n",
      "270/270 [==============================] - 403s 1s/step - loss: 0.1292 - accuracy: 0.9676 - top_k_categorical_accuracy: 0.9984 - val_loss: 2.4421 - val_accuracy: 0.6137 - val_top_k_categorical_accuracy: 0.8828\n",
      "Epoch 23/25\n",
      "270/270 [==============================] - 404s 1s/step - loss: 0.0594 - accuracy: 0.9867 - top_k_categorical_accuracy: 0.9998 - val_loss: 2.3868 - val_accuracy: 0.6293 - val_top_k_categorical_accuracy: 0.8828\n",
      "Epoch 24/25\n",
      "270/270 [==============================] - 401s 1s/step - loss: 0.0446 - accuracy: 0.9911 - top_k_categorical_accuracy: 0.9993 - val_loss: 2.2617 - val_accuracy: 0.6424 - val_top_k_categorical_accuracy: 0.8863\n",
      "Epoch 25/25\n",
      "270/270 [==============================] - 362s 1s/step - loss: 0.0094 - accuracy: 0.9986 - top_k_categorical_accuracy: 1.0000 - val_loss: 2.1175 - val_accuracy: 0.6693 - val_top_k_categorical_accuracy: 0.8950\n"
     ]
    }
   ],
   "source": [
    "# history  = xception_model.fit(X_train, y_train, validation_data=(X_val, y_val), epochs=epochs, callbacks=[tensorboard_callback])\n",
    "history  = xception_model.fit(X_train, y_train, validation_data=(X_val, y_val), epochs=epochs)"
   ]
  },
  {
   "cell_type": "code",
   "execution_count": 31,
   "id": "e6902393",
   "metadata": {
    "execution": {
     "iopub.execute_input": "2023-05-30T10:18:21.103580Z",
     "iopub.status.busy": "2023-05-30T10:18:21.102716Z",
     "iopub.status.idle": "2023-05-30T10:19:46.805791Z",
     "shell.execute_reply": "2023-05-30T10:19:46.804438Z"
    },
    "id": "XejIje1UAHZK",
    "papermill": {
     "duration": 86.257106,
     "end_time": "2023-05-30T10:19:46.808907",
     "exception": false,
     "start_time": "2023-05-30T10:18:20.551801",
     "status": "completed"
    },
    "tags": []
   },
   "outputs": [
    {
     "name": "stdout",
     "output_type": "stream",
     "text": [
      "54/54 [==============================] - 65s 1s/step - loss: 2.0664 - accuracy: 0.6811 - top_k_categorical_accuracy: 0.8958\n"
     ]
    }
   ],
   "source": [
    "# history_test = xception_model.evaluate(X_test, y_test, callbacks=[tensorboard_callback])\n",
    "history_test = xception_model.evaluate(X_test, y_test)"
   ]
  },
  {
   "cell_type": "code",
   "execution_count": 32,
   "id": "e0701de2",
   "metadata": {
    "execution": {
     "iopub.execute_input": "2023-05-30T10:19:47.749925Z",
     "iopub.status.busy": "2023-05-30T10:19:47.749508Z",
     "iopub.status.idle": "2023-05-30T10:19:47.754365Z",
     "shell.execute_reply": "2023-05-30T10:19:47.752848Z"
    },
    "papermill": {
     "duration": 0.480226,
     "end_time": "2023-05-30T10:19:47.756918",
     "exception": false,
     "start_time": "2023-05-30T10:19:47.276692",
     "status": "completed"
    },
    "tags": []
   },
   "outputs": [],
   "source": [
    "# y_predicted = xception_model.predict(X_test)"
   ]
  },
  {
   "cell_type": "code",
   "execution_count": 33,
   "id": "b7035343",
   "metadata": {
    "execution": {
     "iopub.execute_input": "2023-05-30T10:19:48.821640Z",
     "iopub.status.busy": "2023-05-30T10:19:48.819765Z",
     "iopub.status.idle": "2023-05-30T10:19:48.826556Z",
     "shell.execute_reply": "2023-05-30T10:19:48.825643Z"
    },
    "papermill": {
     "duration": 0.513714,
     "end_time": "2023-05-30T10:19:48.829198",
     "exception": false,
     "start_time": "2023-05-30T10:19:48.315484",
     "status": "completed"
    },
    "tags": []
   },
   "outputs": [],
   "source": [
    "# y_test_label = lb.inverse_transform(y_test)\n",
    "# y_predicted_label = lb.inverse_transform(y_predicted)"
   ]
  },
  {
   "cell_type": "code",
   "execution_count": 34,
   "id": "9b7f422a",
   "metadata": {
    "execution": {
     "iopub.execute_input": "2023-05-30T10:19:49.772958Z",
     "iopub.status.busy": "2023-05-30T10:19:49.772520Z",
     "iopub.status.idle": "2023-05-30T10:19:49.777551Z",
     "shell.execute_reply": "2023-05-30T10:19:49.776308Z"
    },
    "papermill": {
     "duration": 0.481949,
     "end_time": "2023-05-30T10:19:49.780051",
     "exception": false,
     "start_time": "2023-05-30T10:19:49.298102",
     "status": "completed"
    },
    "tags": []
   },
   "outputs": [],
   "source": [
    "# print(\"Classification Report:\")\n",
    "# clr = classification_report(y_test_label, y_predicted_label)\n",
    "# print(clr)"
   ]
  },
  {
   "cell_type": "code",
   "execution_count": 35,
   "id": "d9dfd849",
   "metadata": {
    "execution": {
     "iopub.execute_input": "2023-05-30T10:19:50.801254Z",
     "iopub.status.busy": "2023-05-30T10:19:50.800774Z",
     "iopub.status.idle": "2023-05-30T10:19:50.805847Z",
     "shell.execute_reply": "2023-05-30T10:19:50.804536Z"
    },
    "papermill": {
     "duration": 0.559196,
     "end_time": "2023-05-30T10:19:50.808462",
     "exception": false,
     "start_time": "2023-05-30T10:19:50.249266",
     "status": "completed"
    },
    "tags": []
   },
   "outputs": [],
   "source": [
    "# print(\"Confusion Matrix:\")\n",
    "# multilabel_cm = multilabel_confusion_matrix(y_test_label, y_predicted_label)\n",
    "# cm = confusion_matrix(y_test_label, y_predicted_label)\n",
    "# print(cm)"
   ]
  },
  {
   "cell_type": "code",
   "execution_count": 36,
   "id": "0ce221bb",
   "metadata": {
    "execution": {
     "iopub.execute_input": "2023-05-30T10:19:51.751424Z",
     "iopub.status.busy": "2023-05-30T10:19:51.750786Z",
     "iopub.status.idle": "2023-05-30T10:19:51.756381Z",
     "shell.execute_reply": "2023-05-30T10:19:51.755132Z"
    },
    "papermill": {
     "duration": 0.478719,
     "end_time": "2023-05-30T10:19:51.759134",
     "exception": false,
     "start_time": "2023-05-30T10:19:51.280415",
     "status": "completed"
    },
    "tags": []
   },
   "outputs": [],
   "source": [
    "# cm_df = pd.DataFrame(cm, index = dataset.District.unique(), columns = dataset.District.unique())\n",
    "# plt.figure(figsize=(20,20))\n",
    "# cm_plot = sb.heatmap(cm_df, cmap=\"YlGnBu\", annot=True)\n",
    "# plt.title('Confusion Matrix')\n",
    "# plt.ylabel('Actual Class')\n",
    "# plt.xlabel('Predicted Class')\n",
    "# plt.show(cm_plot)"
   ]
  },
  {
   "cell_type": "code",
   "execution_count": 37,
   "id": "3218edd4",
   "metadata": {
    "execution": {
     "iopub.execute_input": "2023-05-30T10:19:52.697167Z",
     "iopub.status.busy": "2023-05-30T10:19:52.696265Z",
     "iopub.status.idle": "2023-05-30T10:19:52.701682Z",
     "shell.execute_reply": "2023-05-30T10:19:52.700474Z"
    },
    "id": "9eIEbjfq5bQF",
    "papermill": {
     "duration": 0.477832,
     "end_time": "2023-05-30T10:19:52.706214",
     "exception": false,
     "start_time": "2023-05-30T10:19:52.228382",
     "status": "completed"
    },
    "tags": []
   },
   "outputs": [],
   "source": [
    "# !zip -r logs.zip logs/"
   ]
  }
 ],
 "metadata": {
  "kernelspec": {
   "display_name": "Python 3",
   "language": "python",
   "name": "python3"
  },
  "language_info": {
   "codemirror_mode": {
    "name": "ipython",
    "version": 3
   },
   "file_extension": ".py",
   "mimetype": "text/x-python",
   "name": "python",
   "nbconvert_exporter": "python",
   "pygments_lexer": "ipython3",
   "version": "3.7.12"
  },
  "papermill": {
   "default_parameters": {},
   "duration": 10357.854403,
   "end_time": "2023-05-30T10:19:56.008603",
   "environment_variables": {},
   "exception": null,
   "input_path": "__notebook__.ipynb",
   "output_path": "__notebook__.ipynb",
   "parameters": {},
   "start_time": "2023-05-30T07:27:18.154200",
   "version": "2.4.0"
  }
 },
 "nbformat": 4,
 "nbformat_minor": 5
}
