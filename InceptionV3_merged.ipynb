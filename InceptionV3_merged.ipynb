{
 "cells": [
  {
   "cell_type": "markdown",
   "id": "d4a86632",
   "metadata": {
    "id": "h_wjgss_l-wv",
    "papermill": {
     "duration": 0.016841,
     "end_time": "2023-05-30T07:09:33.480884",
     "exception": false,
     "start_time": "2023-05-30T07:09:33.464043",
     "status": "completed"
    },
    "tags": []
   },
   "source": [
    "## Convolutional Neural Network"
   ]
  },
  {
   "cell_type": "markdown",
   "id": "9dca4a28",
   "metadata": {
    "id": "qHQuMV6VWYru",
    "papermill": {
     "duration": 0.015352,
     "end_time": "2023-05-30T07:09:33.511810",
     "exception": false,
     "start_time": "2023-05-30T07:09:33.496458",
     "status": "completed"
    },
    "tags": []
   },
   "source": [
    "### Mount Drive"
   ]
  },
  {
   "cell_type": "code",
   "execution_count": 1,
   "id": "0a447113",
   "metadata": {
    "execution": {
     "iopub.execute_input": "2023-05-30T07:09:33.545485Z",
     "iopub.status.busy": "2023-05-30T07:09:33.544781Z",
     "iopub.status.idle": "2023-05-30T07:09:33.549642Z",
     "shell.execute_reply": "2023-05-30T07:09:33.548727Z"
    },
    "id": "zt98eHYUWV-2",
    "papermill": {
     "duration": 0.029618,
     "end_time": "2023-05-30T07:09:33.556787",
     "exception": false,
     "start_time": "2023-05-30T07:09:33.527169",
     "status": "completed"
    },
    "tags": []
   },
   "outputs": [],
   "source": [
    "# from google.colab import drive\n",
    "# drive.mount(\"/content/drive\")"
   ]
  },
  {
   "cell_type": "markdown",
   "id": "bb14e71e",
   "metadata": {
    "id": "Ud6hFF4rnhQK",
    "papermill": {
     "duration": 0.014878,
     "end_time": "2023-05-30T07:09:33.588296",
     "exception": false,
     "start_time": "2023-05-30T07:09:33.573418",
     "status": "completed"
    },
    "tags": []
   },
   "source": [
    "### Importing Packages"
   ]
  },
  {
   "cell_type": "code",
   "execution_count": 2,
   "id": "55b3b605",
   "metadata": {
    "execution": {
     "iopub.execute_input": "2023-05-30T07:09:33.621357Z",
     "iopub.status.busy": "2023-05-30T07:09:33.620624Z",
     "iopub.status.idle": "2023-05-30T07:09:44.043296Z",
     "shell.execute_reply": "2023-05-30T07:09:44.042204Z"
    },
    "id": "RfU8VXwvngn0",
    "papermill": {
     "duration": 10.442667,
     "end_time": "2023-05-30T07:09:44.046217",
     "exception": false,
     "start_time": "2023-05-30T07:09:33.603550",
     "status": "completed"
    },
    "tags": []
   },
   "outputs": [],
   "source": [
    "# Fetching Dataset\n",
    "import pandas as pd\n",
    "\n",
    "# Reading Images\n",
    "import numpy as np\n",
    "import cv2 as cv\n",
    "\n",
    "# Scaling Features\n",
    "from sklearn.preprocessing import MinMaxScaler\n",
    "\n",
    "# Spliting Train & Test Set\n",
    "from sklearn.model_selection import train_test_split\n",
    "# from fast_ml.model_development import train_valid_test_split\n",
    "\n",
    "# Binarizing Output\n",
    "from sklearn.preprocessing import LabelBinarizer\n",
    "\n",
    "# Creating Model\n",
    "import tensorflow as tf\n",
    "from tensorflow.keras import layers,models\n",
    "\n",
    "# Training and Evaluating the Model\n",
    "from sklearn.metrics import (classification_report, multilabel_confusion_matrix, confusion_matrix)\n",
    "import seaborn as sb\n",
    "import matplotlib.pyplot as plt\n",
    "\n",
    "# Making Predictions\n",
    "\n",
    "# BD_DB_64\n"
   ]
  },
  {
   "cell_type": "markdown",
   "id": "1b2d55fc",
   "metadata": {
    "id": "DOoaGBDk-FU_",
    "papermill": {
     "duration": 0.014703,
     "end_time": "2023-05-30T07:09:44.076139",
     "exception": false,
     "start_time": "2023-05-30T07:09:44.061436",
     "status": "completed"
    },
    "tags": []
   },
   "source": [
    "### Fetching Dataset"
   ]
  },
  {
   "cell_type": "code",
   "execution_count": 3,
   "id": "24033075",
   "metadata": {
    "execution": {
     "iopub.execute_input": "2023-05-30T07:09:44.109224Z",
     "iopub.status.busy": "2023-05-30T07:09:44.108032Z",
     "iopub.status.idle": "2023-05-30T07:09:44.144157Z",
     "shell.execute_reply": "2023-05-30T07:09:44.143169Z"
    },
    "id": "_bPX1QuDWDmS",
    "papermill": {
     "duration": 0.055788,
     "end_time": "2023-05-30T07:09:44.146967",
     "exception": false,
     "start_time": "2023-05-30T07:09:44.091179",
     "status": "completed"
    },
    "tags": []
   },
   "outputs": [],
   "source": [
    "# dataset_dir = \"/content/drive/MyDrive/Dataset/Dataset_Thesis/\"\n",
    "dataset_dir = \"/kaggle/input/dataset-thesis/\"\n",
    "dataset = pd.read_csv(dataset_dir + \"merged/merged.csv\")"
   ]
  },
  {
   "cell_type": "code",
   "execution_count": 4,
   "id": "226414d1",
   "metadata": {
    "execution": {
     "iopub.execute_input": "2023-05-30T07:09:44.179767Z",
     "iopub.status.busy": "2023-05-30T07:09:44.178995Z",
     "iopub.status.idle": "2023-05-30T07:09:44.211407Z",
     "shell.execute_reply": "2023-05-30T07:09:44.210147Z"
    },
    "executionInfo": {
     "elapsed": 40,
     "status": "ok",
     "timestamp": 1678650881154,
     "user": {
      "displayName": "1578_Avishek Chowdhury",
      "userId": "14734427622886483691"
     },
     "user_tz": -360
    },
    "id": "PixqtQeFliAX",
    "outputId": "89a79bde-5ed5-4de9-ea75-43783ea85031",
    "papermill": {
     "duration": 0.052033,
     "end_time": "2023-05-30T07:09:44.214401",
     "exception": false,
     "start_time": "2023-05-30T07:09:44.162368",
     "status": "completed"
    },
    "tags": []
   },
   "outputs": [
    {
     "data": {
      "text/html": [
       "<div>\n",
       "<style scoped>\n",
       "    .dataframe tbody tr th:only-of-type {\n",
       "        vertical-align: middle;\n",
       "    }\n",
       "\n",
       "    .dataframe tbody tr th {\n",
       "        vertical-align: top;\n",
       "    }\n",
       "\n",
       "    .dataframe thead th {\n",
       "        text-align: right;\n",
       "    }\n",
       "</style>\n",
       "<table border=\"1\" class=\"dataframe\">\n",
       "  <thead>\n",
       "    <tr style=\"text-align: right;\">\n",
       "      <th></th>\n",
       "      <th>Filename</th>\n",
       "      <th>District</th>\n",
       "    </tr>\n",
       "  </thead>\n",
       "  <tbody>\n",
       "    <tr>\n",
       "      <th>0</th>\n",
       "      <td>0_16_1_0018_ (222).png</td>\n",
       "      <td>Bagerhat</td>\n",
       "    </tr>\n",
       "    <tr>\n",
       "      <th>1</th>\n",
       "      <td>0_14_1_0010_ (45).png</td>\n",
       "      <td>Bagerhat</td>\n",
       "    </tr>\n",
       "    <tr>\n",
       "      <th>2</th>\n",
       "      <td>0_14_1_0009_ (45).png</td>\n",
       "      <td>Bagerhat</td>\n",
       "    </tr>\n",
       "    <tr>\n",
       "      <th>3</th>\n",
       "      <td>0_16_1_0018_ (221).png</td>\n",
       "      <td>Bagerhat</td>\n",
       "    </tr>\n",
       "    <tr>\n",
       "      <th>4</th>\n",
       "      <td>0_16_1_0018_ (225).png</td>\n",
       "      <td>Bagerhat</td>\n",
       "    </tr>\n",
       "    <tr>\n",
       "      <th>...</th>\n",
       "      <td>...</td>\n",
       "      <td>...</td>\n",
       "    </tr>\n",
       "    <tr>\n",
       "      <th>11515</th>\n",
       "      <td>Thakurgaon_5 (2).jpg</td>\n",
       "      <td>Thakurgaon</td>\n",
       "    </tr>\n",
       "    <tr>\n",
       "      <th>11516</th>\n",
       "      <td>Thakurgaon_61.jpg</td>\n",
       "      <td>Thakurgaon</td>\n",
       "    </tr>\n",
       "    <tr>\n",
       "      <th>11517</th>\n",
       "      <td>Thakurgaon_19 (2).jpg</td>\n",
       "      <td>Thakurgaon</td>\n",
       "    </tr>\n",
       "    <tr>\n",
       "      <th>11518</th>\n",
       "      <td>Thakurgaon_60.jpg</td>\n",
       "      <td>Thakurgaon</td>\n",
       "    </tr>\n",
       "    <tr>\n",
       "      <th>11519</th>\n",
       "      <td>Thakurgaon_62.jpg</td>\n",
       "      <td>Thakurgaon</td>\n",
       "    </tr>\n",
       "  </tbody>\n",
       "</table>\n",
       "<p>11520 rows × 2 columns</p>\n",
       "</div>"
      ],
      "text/plain": [
       "                     Filename    District\n",
       "0      0_16_1_0018_ (222).png    Bagerhat\n",
       "1       0_14_1_0010_ (45).png    Bagerhat\n",
       "2       0_14_1_0009_ (45).png    Bagerhat\n",
       "3      0_16_1_0018_ (221).png    Bagerhat\n",
       "4      0_16_1_0018_ (225).png    Bagerhat\n",
       "...                       ...         ...\n",
       "11515    Thakurgaon_5 (2).jpg  Thakurgaon\n",
       "11516       Thakurgaon_61.jpg  Thakurgaon\n",
       "11517   Thakurgaon_19 (2).jpg  Thakurgaon\n",
       "11518       Thakurgaon_60.jpg  Thakurgaon\n",
       "11519       Thakurgaon_62.jpg  Thakurgaon\n",
       "\n",
       "[11520 rows x 2 columns]"
      ]
     },
     "execution_count": 4,
     "metadata": {},
     "output_type": "execute_result"
    }
   ],
   "source": [
    "dataset"
   ]
  },
  {
   "cell_type": "code",
   "execution_count": 5,
   "id": "2ddd71c5",
   "metadata": {
    "execution": {
     "iopub.execute_input": "2023-05-30T07:09:44.247488Z",
     "iopub.status.busy": "2023-05-30T07:09:44.247029Z",
     "iopub.status.idle": "2023-05-30T07:09:44.254813Z",
     "shell.execute_reply": "2023-05-30T07:09:44.253589Z"
    },
    "executionInfo": {
     "elapsed": 39,
     "status": "ok",
     "timestamp": 1678650881156,
     "user": {
      "displayName": "1578_Avishek Chowdhury",
      "userId": "14734427622886483691"
     },
     "user_tz": -360
    },
    "id": "QJxZ0txo1g00",
    "outputId": "dd4783e6-ab7e-4d33-dd82-8df25d27ecd4",
    "papermill": {
     "duration": 0.027333,
     "end_time": "2023-05-30T07:09:44.257495",
     "exception": false,
     "start_time": "2023-05-30T07:09:44.230162",
     "status": "completed"
    },
    "tags": []
   },
   "outputs": [
    {
     "name": "stdout",
     "output_type": "stream",
     "text": [
      "(11520,)\n",
      "(11520,)\n"
     ]
    }
   ],
   "source": [
    "X = dataset.iloc[:,0]\n",
    "y = dataset.iloc[:,1]\n",
    "print(X.shape)\n",
    "print(y.shape)"
   ]
  },
  {
   "cell_type": "markdown",
   "id": "9e291d5d",
   "metadata": {
    "id": "OC7pi_STnmM_",
    "papermill": {
     "duration": 0.015185,
     "end_time": "2023-05-30T07:09:44.288343",
     "exception": false,
     "start_time": "2023-05-30T07:09:44.273158",
     "status": "completed"
    },
    "tags": []
   },
   "source": [
    "### Reading Images"
   ]
  },
  {
   "cell_type": "code",
   "execution_count": 6,
   "id": "627e9471",
   "metadata": {
    "execution": {
     "iopub.execute_input": "2023-05-30T07:09:44.321600Z",
     "iopub.status.busy": "2023-05-30T07:09:44.321130Z",
     "iopub.status.idle": "2023-05-30T07:09:44.533842Z",
     "shell.execute_reply": "2023-05-30T07:09:44.532748Z"
    },
    "executionInfo": {
     "elapsed": 36,
     "status": "ok",
     "timestamp": 1678650881157,
     "user": {
      "displayName": "1578_Avishek Chowdhury",
      "userId": "14734427622886483691"
     },
     "user_tz": -360
    },
    "id": "3LKOqFRYnGbZ",
    "outputId": "5ceb75e3-5092-417f-abaf-8ec12ae65caf",
    "papermill": {
     "duration": 0.232654,
     "end_time": "2023-05-30T07:09:44.536616",
     "exception": false,
     "start_time": "2023-05-30T07:09:44.303962",
     "status": "completed"
    },
    "tags": []
   },
   "outputs": [
    {
     "data": {
      "text/plain": [
       "(11520, 80, 240, 3)"
      ]
     },
     "execution_count": 6,
     "metadata": {},
     "output_type": "execute_result"
    }
   ],
   "source": [
    "new_weight = 240\n",
    "new_height = 80\n",
    "x_data = np.empty((len(X), new_height, new_weight, 3), dtype=np.int64)\n",
    "x_data.shape"
   ]
  },
  {
   "cell_type": "code",
   "execution_count": 7,
   "id": "3e7ef7f0",
   "metadata": {
    "execution": {
     "iopub.execute_input": "2023-05-30T07:09:44.570342Z",
     "iopub.status.busy": "2023-05-30T07:09:44.569574Z",
     "iopub.status.idle": "2023-05-30T07:09:44.575601Z",
     "shell.execute_reply": "2023-05-30T07:09:44.574733Z"
    },
    "id": "N1CFL7phu16x",
    "papermill": {
     "duration": 0.025724,
     "end_time": "2023-05-30T07:09:44.578131",
     "exception": false,
     "start_time": "2023-05-30T07:09:44.552407",
     "status": "completed"
    },
    "tags": []
   },
   "outputs": [],
   "source": [
    "# for i, img_path in enumerate(X):\n",
    "#   # Reading Image\n",
    "#   candidate_image = cv.imread(dataset_dir + \"merged/raw/\" + y[i] + \"/\" + img_path)\n",
    "#   # Resizing Image\n",
    "#   candidate_rs = cv.resize(candidate_image, dsize=(new_weight, new_height))\n",
    "#   # Converting Image to Grayscale\n",
    "#   candidate_gray = cv.cvtColor(candidate_rs, cv.COLOR_BGR2GRAY)\n",
    "#   # Computing a Global Threshold Value from Grayscale Image(Using Otsu's Method) & Converting to Binary Image\n",
    "#   ret, candidate_bw = cv.threshold(candidate_gray, 0, 255, cv.THRESH_BINARY + cv.THRESH_OTSU)\n",
    "#   # ret, candidate_bw = cv.threshold(candidate_gray, 0, 255, cv.THRESH_BINARY_INV + cv.THRESH_OTSU)\n",
    "  \n",
    "#   # print(img_path, end =\" \")\n",
    "#   x_data[i] = candidate_bw"
   ]
  },
  {
   "cell_type": "code",
   "execution_count": 8,
   "id": "bb4050b6",
   "metadata": {
    "execution": {
     "iopub.execute_input": "2023-05-30T07:09:44.611961Z",
     "iopub.status.busy": "2023-05-30T07:09:44.611232Z",
     "iopub.status.idle": "2023-05-30T07:10:58.921743Z",
     "shell.execute_reply": "2023-05-30T07:10:58.920565Z"
    },
    "id": "sdnDa8TsVOEr",
    "papermill": {
     "duration": 74.33075,
     "end_time": "2023-05-30T07:10:58.924715",
     "exception": false,
     "start_time": "2023-05-30T07:09:44.593965",
     "status": "completed"
    },
    "tags": []
   },
   "outputs": [],
   "source": [
    "for i, img_path in enumerate(X):\n",
    "    candidate_image = cv.imread(dataset_dir + \"merged/converted_80_240/\" + y[i] + \"/\" + img_path)\n",
    "    # candidate_rs = cv.resize(candidate_image, dsize=(new_weight, new_height))\n",
    "    x_data[i] = candidate_image"
   ]
  },
  {
   "cell_type": "code",
   "execution_count": 9,
   "id": "7fe92619",
   "metadata": {
    "execution": {
     "iopub.execute_input": "2023-05-30T07:10:58.959159Z",
     "iopub.status.busy": "2023-05-30T07:10:58.958007Z",
     "iopub.status.idle": "2023-05-30T07:10:58.963277Z",
     "shell.execute_reply": "2023-05-30T07:10:58.962354Z"
    },
    "id": "n2E7m-iKqjCn",
    "papermill": {
     "duration": 0.024658,
     "end_time": "2023-05-30T07:10:58.965621",
     "exception": false,
     "start_time": "2023-05-30T07:10:58.940963",
     "status": "completed"
    },
    "tags": []
   },
   "outputs": [],
   "source": [
    "# plt.imshow(x_data[1], cmap=\"gray\")\n",
    "# len(x_data[0][0])"
   ]
  },
  {
   "cell_type": "code",
   "execution_count": 10,
   "id": "bafad0c7",
   "metadata": {
    "execution": {
     "iopub.execute_input": "2023-05-30T07:10:58.999615Z",
     "iopub.status.busy": "2023-05-30T07:10:58.998400Z",
     "iopub.status.idle": "2023-05-30T07:10:59.007521Z",
     "shell.execute_reply": "2023-05-30T07:10:59.006126Z"
    },
    "executionInfo": {
     "elapsed": 564,
     "status": "ok",
     "timestamp": 1678650929654,
     "user": {
      "displayName": "1578_Avishek Chowdhury",
      "userId": "14734427622886483691"
     },
     "user_tz": -360
    },
    "id": "qHatxo9Jn6kC",
    "outputId": "3109adb5-1a27-4e79-88ab-4b83203cb486",
    "papermill": {
     "duration": 0.028939,
     "end_time": "2023-05-30T07:10:59.010276",
     "exception": false,
     "start_time": "2023-05-30T07:10:58.981337",
     "status": "completed"
    },
    "tags": []
   },
   "outputs": [
    {
     "data": {
      "text/plain": [
       "(11520, 57600)"
      ]
     },
     "execution_count": 10,
     "metadata": {},
     "output_type": "execute_result"
    }
   ],
   "source": [
    "X = np.reshape(x_data,(X.shape[0],new_height*new_weight*3))\n",
    "X.shape"
   ]
  },
  {
   "cell_type": "markdown",
   "id": "4895e55d",
   "metadata": {
    "id": "VhtYg63_32mi",
    "papermill": {
     "duration": 0.01528,
     "end_time": "2023-05-30T07:10:59.041408",
     "exception": false,
     "start_time": "2023-05-30T07:10:59.026128",
     "status": "completed"
    },
    "tags": []
   },
   "source": [
    "### Scaling Features"
   ]
  },
  {
   "cell_type": "code",
   "execution_count": 11,
   "id": "1c007795",
   "metadata": {
    "execution": {
     "iopub.execute_input": "2023-05-30T07:10:59.075625Z",
     "iopub.status.busy": "2023-05-30T07:10:59.075200Z",
     "iopub.status.idle": "2023-05-30T07:11:06.493171Z",
     "shell.execute_reply": "2023-05-30T07:11:06.491984Z"
    },
    "id": "2HSHvUQx3pVm",
    "papermill": {
     "duration": 7.438621,
     "end_time": "2023-05-30T07:11:06.496480",
     "exception": false,
     "start_time": "2023-05-30T07:10:59.057859",
     "status": "completed"
    },
    "tags": []
   },
   "outputs": [],
   "source": [
    "sc = MinMaxScaler()\n",
    "X = sc.fit_transform(X)"
   ]
  },
  {
   "cell_type": "code",
   "execution_count": 12,
   "id": "da735689",
   "metadata": {
    "execution": {
     "iopub.execute_input": "2023-05-30T07:11:06.530489Z",
     "iopub.status.busy": "2023-05-30T07:11:06.530062Z",
     "iopub.status.idle": "2023-05-30T07:11:06.538189Z",
     "shell.execute_reply": "2023-05-30T07:11:06.537079Z"
    },
    "executionInfo": {
     "elapsed": 493,
     "status": "ok",
     "timestamp": 1678650929656,
     "user": {
      "displayName": "1578_Avishek Chowdhury",
      "userId": "14734427622886483691"
     },
     "user_tz": -360
    },
    "id": "jSj6M9SO5W1m",
    "outputId": "29b9d3c3-99ec-4411-b84d-f7e12ad99852",
    "papermill": {
     "duration": 0.028042,
     "end_time": "2023-05-30T07:11:06.540839",
     "exception": false,
     "start_time": "2023-05-30T07:11:06.512797",
     "status": "completed"
    },
    "tags": []
   },
   "outputs": [
    {
     "data": {
      "text/plain": [
       "array([[0., 0., 0., ..., 0., 0., 0.],\n",
       "       [0., 0., 0., ..., 0., 0., 0.],\n",
       "       [0., 0., 0., ..., 0., 0., 0.],\n",
       "       ...,\n",
       "       [0., 0., 0., ..., 0., 0., 0.],\n",
       "       [0., 0., 0., ..., 0., 0., 0.],\n",
       "       [1., 1., 1., ..., 1., 1., 1.]])"
      ]
     },
     "execution_count": 12,
     "metadata": {},
     "output_type": "execute_result"
    }
   ],
   "source": [
    "X"
   ]
  },
  {
   "cell_type": "markdown",
   "id": "2f1ef125",
   "metadata": {
    "id": "W_9dK6Iw5EXZ",
    "papermill": {
     "duration": 0.015594,
     "end_time": "2023-05-30T07:11:06.572436",
     "exception": false,
     "start_time": "2023-05-30T07:11:06.556842",
     "status": "completed"
    },
    "tags": []
   },
   "source": [
    "### Spliting Train & Test Set\n"
   ]
  },
  {
   "cell_type": "code",
   "execution_count": 13,
   "id": "5c1cf33e",
   "metadata": {
    "execution": {
     "iopub.execute_input": "2023-05-30T07:11:06.606308Z",
     "iopub.status.busy": "2023-05-30T07:11:06.605872Z",
     "iopub.status.idle": "2023-05-30T07:11:09.251252Z",
     "shell.execute_reply": "2023-05-30T07:11:09.249956Z"
    },
    "executionInfo": {
     "elapsed": 488,
     "status": "ok",
     "timestamp": 1678650929679,
     "user": {
      "displayName": "1578_Avishek Chowdhury",
      "userId": "14734427622886483691"
     },
     "user_tz": -360
    },
    "id": "ARtvOrWsWImO",
    "outputId": "a052e7ac-0eb4-4d33-c74f-89393c77e9e8",
    "papermill": {
     "duration": 2.666279,
     "end_time": "2023-05-30T07:11:09.254656",
     "exception": false,
     "start_time": "2023-05-30T07:11:06.588377",
     "status": "completed"
    },
    "tags": []
   },
   "outputs": [
    {
     "name": "stdout",
     "output_type": "stream",
     "text": [
      "(8640, 57600) (1728, 57600) (1152, 57600) (8640,) (1728,) (1152,)\n"
     ]
    }
   ],
   "source": [
    "# X_train, X_test, y_train, y_test = train_test_split(X, y, test_size=0.15, random_state=45, stratify=dataset[\"District\"])\n",
    "X_train, X_rem, y_train, y_rem = train_test_split(X, y, train_size=0.75, random_state=45, stratify=y)\n",
    "X_val, X_test, y_val, y_test = train_test_split(X_rem, y_rem, test_size=0.60, stratify=y_rem)\n",
    "print(X_train.shape, X_test.shape, X_val.shape, y_train.shape, y_test.shape, y_val.shape)"
   ]
  },
  {
   "cell_type": "code",
   "execution_count": 14,
   "id": "4f32e57e",
   "metadata": {
    "execution": {
     "iopub.execute_input": "2023-05-30T07:11:09.292614Z",
     "iopub.status.busy": "2023-05-30T07:11:09.291324Z",
     "iopub.status.idle": "2023-05-30T07:11:09.299033Z",
     "shell.execute_reply": "2023-05-30T07:11:09.297740Z"
    },
    "papermill": {
     "duration": 0.031059,
     "end_time": "2023-05-30T07:11:09.302356",
     "exception": false,
     "start_time": "2023-05-30T07:11:09.271297",
     "status": "completed"
    },
    "tags": []
   },
   "outputs": [],
   "source": [
    "# print(\n",
    "#     f'NUMBER OF TARGET IN THE ORIGINAL DATA\\n{dataset[\"District\"].value_counts()}\\n\\n'\n",
    "#     + f\"NUMBER OF TARGET IN THE TRAINING SET\\n{y_train.value_counts()}\\n\\n\"\n",
    "#     + f\"NUMBER OF TARGET IN THE TEST SET\\n{y_test.value_counts()}\\n\\n\"\n",
    "#     + f\"NUMBER OF TARGET IN THE VALIDATION SET\\n{y_val.value_counts()}\"\n",
    "# )"
   ]
  },
  {
   "cell_type": "code",
   "execution_count": 15,
   "id": "1ac2c015",
   "metadata": {
    "execution": {
     "iopub.execute_input": "2023-05-30T07:11:09.341970Z",
     "iopub.status.busy": "2023-05-30T07:11:09.340426Z",
     "iopub.status.idle": "2023-05-30T07:11:09.347035Z",
     "shell.execute_reply": "2023-05-30T07:11:09.345766Z"
    },
    "papermill": {
     "duration": 0.027353,
     "end_time": "2023-05-30T07:11:09.349882",
     "exception": false,
     "start_time": "2023-05-30T07:11:09.322529",
     "status": "completed"
    },
    "tags": []
   },
   "outputs": [],
   "source": [
    "# print(\n",
    "#     f'RATIO OF TARGET IN THE ORIGINAL DATA\\n{dataset[\"District\"].value_counts() / len(dataset)}\\n\\n'\n",
    "#     + f\"RATIO OF TARGET IN THE TRAINING SET\\n{y_train.value_counts() / len(y_train)}\\n\\n\"\n",
    "#     + f\"RATIO OF TARGET IN THE TEST SET\\n{y_test.value_counts() / len(y_test)}\\n\\n\"\n",
    "#     + f\"RATIO OF TARGET IN THE VALIDATION SET\\n{y_val.value_counts() / len(y_val)}\"\n",
    "# )"
   ]
  },
  {
   "cell_type": "code",
   "execution_count": 16,
   "id": "d734e55f",
   "metadata": {
    "execution": {
     "iopub.execute_input": "2023-05-30T07:11:09.386377Z",
     "iopub.status.busy": "2023-05-30T07:11:09.385483Z",
     "iopub.status.idle": "2023-05-30T07:11:09.393849Z",
     "shell.execute_reply": "2023-05-30T07:11:09.392505Z"
    },
    "executionInfo": {
     "elapsed": 482,
     "status": "ok",
     "timestamp": 1678650929680,
     "user": {
      "displayName": "1578_Avishek Chowdhury",
      "userId": "14734427622886483691"
     },
     "user_tz": -360
    },
    "id": "qydb7AVI_s4C",
    "outputId": "e9dc8697-7fc9-473e-b666-e8657b341e30",
    "papermill": {
     "duration": 0.030401,
     "end_time": "2023-05-30T07:11:09.396697",
     "exception": false,
     "start_time": "2023-05-30T07:11:09.366296",
     "status": "completed"
    },
    "tags": []
   },
   "outputs": [
    {
     "name": "stdout",
     "output_type": "stream",
     "text": [
      "(8640, 80, 240, 3) (1728, 80, 240, 3) (1152, 80, 240, 3)\n"
     ]
    }
   ],
   "source": [
    "X_train = X_train.reshape(-1,new_height,new_weight,3)\n",
    "X_test = X_test.reshape(-1,new_height,new_weight,3)\n",
    "X_val = X_val.reshape(-1,new_height,new_weight,3)\n",
    "print(X_train.shape, X_test.shape, X_val.shape)"
   ]
  },
  {
   "cell_type": "markdown",
   "id": "01ce7cb7",
   "metadata": {
    "papermill": {
     "duration": 0.021703,
     "end_time": "2023-05-30T07:11:09.434766",
     "exception": false,
     "start_time": "2023-05-30T07:11:09.413063",
     "status": "completed"
    },
    "tags": []
   },
   "source": [
    "### Binarizing Output"
   ]
  },
  {
   "cell_type": "code",
   "execution_count": 17,
   "id": "330ca69f",
   "metadata": {
    "execution": {
     "iopub.execute_input": "2023-05-30T07:11:09.471857Z",
     "iopub.status.busy": "2023-05-30T07:11:09.470638Z",
     "iopub.status.idle": "2023-05-30T07:11:09.582905Z",
     "shell.execute_reply": "2023-05-30T07:11:09.580397Z"
    },
    "papermill": {
     "duration": 0.133541,
     "end_time": "2023-05-30T07:11:09.586704",
     "exception": false,
     "start_time": "2023-05-30T07:11:09.453163",
     "status": "completed"
    },
    "tags": []
   },
   "outputs": [
    {
     "name": "stdout",
     "output_type": "stream",
     "text": [
      "(8640, 64) (1728, 64) (1152, 64)\n"
     ]
    }
   ],
   "source": [
    "lb = LabelBinarizer()\n",
    "y_train = lb.fit_transform(y_train)\n",
    "y_test = lb.fit_transform(y_test)\n",
    "y_val = lb.fit_transform(y_val)\n",
    "print(y_train.shape, y_test.shape, y_val.shape)"
   ]
  },
  {
   "cell_type": "code",
   "execution_count": 18,
   "id": "0e9c7ef4",
   "metadata": {
    "execution": {
     "iopub.execute_input": "2023-05-30T07:11:09.624278Z",
     "iopub.status.busy": "2023-05-30T07:11:09.623365Z",
     "iopub.status.idle": "2023-05-30T07:11:09.632522Z",
     "shell.execute_reply": "2023-05-30T07:11:09.631224Z"
    },
    "papermill": {
     "duration": 0.030087,
     "end_time": "2023-05-30T07:11:09.635300",
     "exception": false,
     "start_time": "2023-05-30T07:11:09.605213",
     "status": "completed"
    },
    "tags": []
   },
   "outputs": [
    {
     "name": "stdout",
     "output_type": "stream",
     "text": [
      "[[0 0 0 ... 0 0 0]\n",
      " [0 0 0 ... 0 0 0]\n",
      " [0 0 0 ... 0 0 0]\n",
      " ...\n",
      " [0 0 0 ... 0 0 0]\n",
      " [0 0 0 ... 0 0 0]\n",
      " [0 0 0 ... 0 0 0]]\n",
      "[[0 0 0 ... 0 0 0]\n",
      " [0 0 0 ... 0 0 1]\n",
      " [0 0 0 ... 0 0 0]\n",
      " ...\n",
      " [0 0 0 ... 0 0 0]\n",
      " [0 0 0 ... 0 0 0]\n",
      " [0 0 0 ... 0 0 0]]\n",
      "[[0 0 0 ... 0 0 0]\n",
      " [0 0 0 ... 0 0 0]\n",
      " [0 0 0 ... 0 0 0]\n",
      " ...\n",
      " [0 0 0 ... 0 0 0]\n",
      " [0 0 0 ... 0 1 0]\n",
      " [0 0 0 ... 0 0 0]]\n"
     ]
    }
   ],
   "source": [
    "print(y_train)\n",
    "print(y_test)\n",
    "print(y_val)"
   ]
  },
  {
   "cell_type": "code",
   "execution_count": 19,
   "id": "403d3cfd",
   "metadata": {
    "execution": {
     "iopub.execute_input": "2023-05-30T07:11:09.671901Z",
     "iopub.status.busy": "2023-05-30T07:11:09.670854Z",
     "iopub.status.idle": "2023-05-30T07:11:09.678510Z",
     "shell.execute_reply": "2023-05-30T07:11:09.677159Z"
    },
    "papermill": {
     "duration": 0.028844,
     "end_time": "2023-05-30T07:11:09.681172",
     "exception": false,
     "start_time": "2023-05-30T07:11:09.652328",
     "status": "completed"
    },
    "tags": []
   },
   "outputs": [
    {
     "name": "stdout",
     "output_type": "stream",
     "text": [
      "(8640, 64)\n",
      "(1728, 64)\n"
     ]
    }
   ],
   "source": [
    "print(y_train.shape)\n",
    "print(y_test.shape)"
   ]
  },
  {
   "cell_type": "markdown",
   "id": "5a54ece3",
   "metadata": {
    "id": "hW66EaXA4vnR",
    "papermill": {
     "duration": 0.017335,
     "end_time": "2023-05-30T07:11:09.715123",
     "exception": false,
     "start_time": "2023-05-30T07:11:09.697788",
     "status": "completed"
    },
    "tags": []
   },
   "source": [
    "### Creating Model\n"
   ]
  },
  {
   "cell_type": "code",
   "execution_count": 20,
   "id": "de81f984",
   "metadata": {
    "execution": {
     "iopub.execute_input": "2023-05-30T07:11:09.752502Z",
     "iopub.status.busy": "2023-05-30T07:11:09.751404Z",
     "iopub.status.idle": "2023-05-30T07:11:09.756905Z",
     "shell.execute_reply": "2023-05-30T07:11:09.755869Z"
    },
    "id": "HO1XBt5P5bP2",
    "papermill": {
     "duration": 0.026624,
     "end_time": "2023-05-30T07:11:09.759394",
     "exception": false,
     "start_time": "2023-05-30T07:11:09.732770",
     "status": "completed"
    },
    "tags": []
   },
   "outputs": [],
   "source": [
    "# import datetime\n",
    "# from tensorflow.keras.callbacks import TensorBoard\n",
    "# log_dir = \"logs/inceptionV3/\" + datetime.datetime.now().strftime(\"%Y%m%d-%H%M%S\")\n",
    "# tensorboard_callback = tf.keras.callbacks.TensorBoard(log_dir=log_dir, histogram_freq=1)"
   ]
  },
  {
   "cell_type": "code",
   "execution_count": 21,
   "id": "9da22473",
   "metadata": {
    "execution": {
     "iopub.execute_input": "2023-05-30T07:11:09.804843Z",
     "iopub.status.busy": "2023-05-30T07:11:09.804021Z",
     "iopub.status.idle": "2023-05-30T07:11:09.818374Z",
     "shell.execute_reply": "2023-05-30T07:11:09.817285Z"
    },
    "id": "Na7WBFiuVxxC",
    "papermill": {
     "duration": 0.043844,
     "end_time": "2023-05-30T07:11:09.821961",
     "exception": false,
     "start_time": "2023-05-30T07:11:09.778117",
     "status": "completed"
    },
    "tags": []
   },
   "outputs": [],
   "source": [
    "num_classes = dataset.District.nunique()\n",
    "input_shape = (new_height, new_weight, 3)\n",
    "# input_shape = X.shape"
   ]
  },
  {
   "cell_type": "code",
   "execution_count": 22,
   "id": "ea9a727c",
   "metadata": {
    "execution": {
     "iopub.execute_input": "2023-05-30T07:11:09.862721Z",
     "iopub.status.busy": "2023-05-30T07:11:09.861709Z",
     "iopub.status.idle": "2023-05-30T07:11:09.867210Z",
     "shell.execute_reply": "2023-05-30T07:11:09.866053Z"
    },
    "id": "5w63KZn95bP3",
    "papermill": {
     "duration": 0.02715,
     "end_time": "2023-05-30T07:11:09.869752",
     "exception": false,
     "start_time": "2023-05-30T07:11:09.842602",
     "status": "completed"
    },
    "tags": []
   },
   "outputs": [],
   "source": [
    "# Set hyperparameters\n",
    "dropout_rate = 0.5"
   ]
  },
  {
   "cell_type": "code",
   "execution_count": 23,
   "id": "c3f064e4",
   "metadata": {
    "execution": {
     "iopub.execute_input": "2023-05-30T07:11:09.907000Z",
     "iopub.status.busy": "2023-05-30T07:11:09.905835Z",
     "iopub.status.idle": "2023-05-30T07:11:17.681511Z",
     "shell.execute_reply": "2023-05-30T07:11:17.680381Z"
    },
    "papermill": {
     "duration": 7.797791,
     "end_time": "2023-05-30T07:11:17.684562",
     "exception": false,
     "start_time": "2023-05-30T07:11:09.886771",
     "status": "completed"
    },
    "tags": []
   },
   "outputs": [
    {
     "name": "stdout",
     "output_type": "stream",
     "text": [
      "Downloading data from https://storage.googleapis.com/tensorflow/keras-applications/inception_v3/inception_v3_weights_tf_dim_ordering_tf_kernels_notop.h5\n",
      "87910968/87910968 [==============================] - 3s 0us/step\n"
     ]
    }
   ],
   "source": [
    "# Load the pre-trained model\n",
    "inceptionV3 = tf.keras.applications.InceptionV3(weights='imagenet',input_shape=input_shape, include_top=False)\n",
    "\n",
    "# Freeze the weights of the pre-trained layers\n",
    "for layer in inceptionV3.layers:\n",
    "    layer.trainable = False\n",
    "\n",
    "# Add your custom layers to the top of the pre-trained model\n",
    "inceptionV3_model = models.Sequential()\n",
    "inceptionV3_model.add(inceptionV3)\n",
    "inceptionV3_model.add(layers.Flatten())\n",
    "inceptionV3_model.add(layers.Dense(units=num_classes, activation='softmax'))"
   ]
  },
  {
   "cell_type": "code",
   "execution_count": 24,
   "id": "3f58f1c7",
   "metadata": {
    "execution": {
     "iopub.execute_input": "2023-05-30T07:11:17.731025Z",
     "iopub.status.busy": "2023-05-30T07:11:17.730318Z",
     "iopub.status.idle": "2023-05-30T07:11:17.775715Z",
     "shell.execute_reply": "2023-05-30T07:11:17.774397Z"
    },
    "executionInfo": {
     "elapsed": 423,
     "status": "ok",
     "timestamp": 1678650929689,
     "user": {
      "displayName": "1578_Avishek Chowdhury",
      "userId": "14734427622886483691"
     },
     "user_tz": -360
    },
    "id": "ATyz_NHT0GBM",
    "outputId": "952dba93-f347-4fd3-d995-035110067110",
    "papermill": {
     "duration": 0.071662,
     "end_time": "2023-05-30T07:11:17.778218",
     "exception": false,
     "start_time": "2023-05-30T07:11:17.706556",
     "status": "completed"
    },
    "tags": []
   },
   "outputs": [
    {
     "name": "stdout",
     "output_type": "stream",
     "text": [
      "Model: \"sequential\"\n",
      "_________________________________________________________________\n",
      " Layer (type)                Output Shape              Param #   \n",
      "=================================================================\n",
      " inception_v3 (Functional)   (None, 1, 6, 2048)        21802784  \n",
      "                                                                 \n",
      " flatten (Flatten)           (None, 12288)             0         \n",
      "                                                                 \n",
      " dense (Dense)               (None, 64)                786496    \n",
      "                                                                 \n",
      "=================================================================\n",
      "Total params: 22,589,280\n",
      "Trainable params: 786,496\n",
      "Non-trainable params: 21,802,784\n",
      "_________________________________________________________________\n"
     ]
    }
   ],
   "source": [
    "inceptionV3_model.summary()"
   ]
  },
  {
   "cell_type": "code",
   "execution_count": 25,
   "id": "a9a1328f",
   "metadata": {
    "execution": {
     "iopub.execute_input": "2023-05-30T07:11:17.826801Z",
     "iopub.status.busy": "2023-05-30T07:11:17.826360Z",
     "iopub.status.idle": "2023-05-30T07:11:17.830216Z",
     "shell.execute_reply": "2023-05-30T07:11:17.829313Z"
    },
    "papermill": {
     "duration": 0.031405,
     "end_time": "2023-05-30T07:11:17.832854",
     "exception": false,
     "start_time": "2023-05-30T07:11:17.801449",
     "status": "completed"
    },
    "tags": []
   },
   "outputs": [],
   "source": [
    "# !pip install visualkeras\n",
    "# import visualkeras"
   ]
  },
  {
   "cell_type": "code",
   "execution_count": 26,
   "id": "265bff83",
   "metadata": {
    "execution": {
     "iopub.execute_input": "2023-05-30T07:11:17.889791Z",
     "iopub.status.busy": "2023-05-30T07:11:17.889042Z",
     "iopub.status.idle": "2023-05-30T07:11:17.895447Z",
     "shell.execute_reply": "2023-05-30T07:11:17.894039Z"
    },
    "papermill": {
     "duration": 0.038674,
     "end_time": "2023-05-30T07:11:17.899873",
     "exception": false,
     "start_time": "2023-05-30T07:11:17.861199",
     "status": "completed"
    },
    "tags": []
   },
   "outputs": [],
   "source": [
    "# visualkeras.layered_view(inceptionV3_model, legend=True, draw_volume=False)"
   ]
  },
  {
   "cell_type": "code",
   "execution_count": 27,
   "id": "01e75cdd",
   "metadata": {
    "execution": {
     "iopub.execute_input": "2023-05-30T07:11:17.948762Z",
     "iopub.status.busy": "2023-05-30T07:11:17.947892Z",
     "iopub.status.idle": "2023-05-30T07:11:18.207448Z",
     "shell.execute_reply": "2023-05-30T07:11:18.205926Z"
    },
    "papermill": {
     "duration": 0.287466,
     "end_time": "2023-05-30T07:11:18.210513",
     "exception": false,
     "start_time": "2023-05-30T07:11:17.923047",
     "status": "completed"
    },
    "tags": []
   },
   "outputs": [
    {
     "data": {
      "image/png": "[encoded data removed]",
      "text/plain": [
       "<IPython.core.display.Image object>"
      ]
     },
     "execution_count": 27,
     "metadata": {},
     "output_type": "execute_result"
    }
   ],
   "source": [
    "from tensorflow.keras.utils import plot_model\n",
    "plot_model(inceptionV3_model, to_file='inceptionV3_model.png', show_shapes=True, show_layer_activations=True)"
   ]
  },
  {
   "cell_type": "markdown",
   "id": "5b0744bb",
   "metadata": {
    "papermill": {
     "duration": 0.02356,
     "end_time": "2023-05-30T07:11:18.258434",
     "exception": false,
     "start_time": "2023-05-30T07:11:18.234874",
     "status": "completed"
    },
    "tags": []
   },
   "source": [
    "### Training & Evaluating the Model\n"
   ]
  },
  {
   "cell_type": "code",
   "execution_count": 28,
   "id": "48ac4560",
   "metadata": {
    "execution": {
     "iopub.execute_input": "2023-05-30T07:11:18.308170Z",
     "iopub.status.busy": "2023-05-30T07:11:18.307708Z",
     "iopub.status.idle": "2023-05-30T07:11:18.313719Z",
     "shell.execute_reply": "2023-05-30T07:11:18.312328Z"
    },
    "papermill": {
     "duration": 0.03429,
     "end_time": "2023-05-30T07:11:18.316468",
     "exception": false,
     "start_time": "2023-05-30T07:11:18.282178",
     "status": "completed"
    },
    "tags": []
   },
   "outputs": [],
   "source": [
    "epochs = 25\n",
    "k = 5"
   ]
  },
  {
   "cell_type": "code",
   "execution_count": 29,
   "id": "f54e65e2",
   "metadata": {
    "execution": {
     "iopub.execute_input": "2023-05-30T07:11:18.366234Z",
     "iopub.status.busy": "2023-05-30T07:11:18.365785Z",
     "iopub.status.idle": "2023-05-30T07:11:18.402222Z",
     "shell.execute_reply": "2023-05-30T07:11:18.400923Z"
    },
    "id": "KyFKGexVET4M",
    "papermill": {
     "duration": 0.064813,
     "end_time": "2023-05-30T07:11:18.405196",
     "exception": false,
     "start_time": "2023-05-30T07:11:18.340383",
     "status": "completed"
    },
    "tags": []
   },
   "outputs": [],
   "source": [
    "inceptionV3_model.compile(optimizer='adam', loss='categorical_crossentropy', metrics=['accuracy','top_k_categorical_accuracy'])"
   ]
  },
  {
   "cell_type": "code",
   "execution_count": 30,
   "id": "f1614df2",
   "metadata": {
    "execution": {
     "iopub.execute_input": "2023-05-30T07:11:18.455810Z",
     "iopub.status.busy": "2023-05-30T07:11:18.454641Z",
     "iopub.status.idle": "2023-05-30T08:19:37.559901Z",
     "shell.execute_reply": "2023-05-30T08:19:37.557582Z"
    },
    "executionInfo": {
     "elapsed": 441840,
     "status": "ok",
     "timestamp": 1678651371331,
     "user": {
      "displayName": "1578_Avishek Chowdhury",
      "userId": "14734427622886483691"
     },
     "user_tz": -360
    },
    "id": "358VdnTrAD0A",
    "outputId": "9fed86f0-ab2f-4e9e-b2d6-d18c16fe7a36",
    "papermill": {
     "duration": 4099.783441,
     "end_time": "2023-05-30T08:19:38.212554",
     "exception": false,
     "start_time": "2023-05-30T07:11:18.429113",
     "status": "completed"
    },
    "tags": []
   },
   "outputs": [
    {
     "name": "stdout",
     "output_type": "stream",
     "text": [
      "Epoch 1/25\n",
      "270/270 [==============================] - 170s 610ms/step - loss: 2.7347 - accuracy: 0.3753 - top_k_categorical_accuracy: 0.6623 - val_loss: 1.8982 - val_accuracy: 0.5087 - val_top_k_categorical_accuracy: 0.8168\n",
      "Epoch 2/25\n",
      "270/270 [==============================] - 160s 593ms/step - loss: 0.8016 - accuracy: 0.7794 - top_k_categorical_accuracy: 0.9549 - val_loss: 1.5101 - val_accuracy: 0.6102 - val_top_k_categorical_accuracy: 0.8707\n",
      "Epoch 3/25\n",
      "270/270 [==============================] - 163s 604ms/step - loss: 0.3629 - accuracy: 0.9104 - top_k_categorical_accuracy: 0.9916 - val_loss: 1.4253 - val_accuracy: 0.6398 - val_top_k_categorical_accuracy: 0.8950\n",
      "Epoch 4/25\n",
      "270/270 [==============================] - 163s 605ms/step - loss: 0.1752 - accuracy: 0.9682 - top_k_categorical_accuracy: 0.9983 - val_loss: 1.2343 - val_accuracy: 0.6901 - val_top_k_categorical_accuracy: 0.9080\n",
      "Epoch 5/25\n",
      "270/270 [==============================] - 163s 604ms/step - loss: 0.0783 - accuracy: 0.9964 - top_k_categorical_accuracy: 0.9994 - val_loss: 1.0805 - val_accuracy: 0.7170 - val_top_k_categorical_accuracy: 0.9306\n",
      "Epoch 6/25\n",
      "270/270 [==============================] - 163s 603ms/step - loss: 0.0529 - accuracy: 0.9968 - top_k_categorical_accuracy: 0.9993 - val_loss: 1.0543 - val_accuracy: 0.7231 - val_top_k_categorical_accuracy: 0.9288\n",
      "Epoch 7/25\n",
      "270/270 [==============================] - 162s 601ms/step - loss: 0.0483 - accuracy: 0.9958 - top_k_categorical_accuracy: 0.9995 - val_loss: 1.0546 - val_accuracy: 0.7188 - val_top_k_categorical_accuracy: 0.9340\n",
      "Epoch 8/25\n",
      "270/270 [==============================] - 161s 595ms/step - loss: 0.0247 - accuracy: 0.9994 - top_k_categorical_accuracy: 0.9999 - val_loss: 1.0049 - val_accuracy: 0.7309 - val_top_k_categorical_accuracy: 0.9271\n",
      "Epoch 9/25\n",
      "270/270 [==============================] - 163s 605ms/step - loss: 0.0223 - accuracy: 0.9993 - top_k_categorical_accuracy: 0.9997 - val_loss: 1.0015 - val_accuracy: 0.7422 - val_top_k_categorical_accuracy: 0.9323\n",
      "Epoch 10/25\n",
      "270/270 [==============================] - 163s 605ms/step - loss: 0.0178 - accuracy: 0.9994 - top_k_categorical_accuracy: 0.9997 - val_loss: 1.0071 - val_accuracy: 0.7370 - val_top_k_categorical_accuracy: 0.9358\n",
      "Epoch 11/25\n",
      "270/270 [==============================] - 163s 602ms/step - loss: 0.0172 - accuracy: 0.9994 - top_k_categorical_accuracy: 0.9995 - val_loss: 1.0020 - val_accuracy: 0.7439 - val_top_k_categorical_accuracy: 0.9288\n",
      "Epoch 12/25\n",
      "270/270 [==============================] - 163s 603ms/step - loss: 0.1317 - accuracy: 0.9748 - top_k_categorical_accuracy: 0.9943 - val_loss: 3.2461 - val_accuracy: 0.5035 - val_top_k_categorical_accuracy: 0.7882\n",
      "Epoch 13/25\n",
      "270/270 [==============================] - 162s 598ms/step - loss: 1.2937 - accuracy: 0.7641 - top_k_categorical_accuracy: 0.9472 - val_loss: 2.8028 - val_accuracy: 0.5946 - val_top_k_categorical_accuracy: 0.8507\n",
      "Epoch 14/25\n",
      "270/270 [==============================] - 164s 606ms/step - loss: 0.2195 - accuracy: 0.9413 - top_k_categorical_accuracy: 0.9971 - val_loss: 2.0368 - val_accuracy: 0.6545 - val_top_k_categorical_accuracy: 0.8932\n",
      "Epoch 15/25\n",
      "270/270 [==============================] - 163s 605ms/step - loss: 0.0654 - accuracy: 0.9836 - top_k_categorical_accuracy: 0.9994 - val_loss: 1.7304 - val_accuracy: 0.7057 - val_top_k_categorical_accuracy: 0.9132\n",
      "Epoch 16/25\n",
      "270/270 [==============================] - 163s 605ms/step - loss: 0.0136 - accuracy: 0.9977 - top_k_categorical_accuracy: 0.9999 - val_loss: 1.5944 - val_accuracy: 0.7092 - val_top_k_categorical_accuracy: 0.9167\n",
      "Epoch 17/25\n",
      "270/270 [==============================] - 162s 597ms/step - loss: 0.0116 - accuracy: 0.9985 - top_k_categorical_accuracy: 0.9994 - val_loss: 1.5065 - val_accuracy: 0.7240 - val_top_k_categorical_accuracy: 0.9236\n",
      "Epoch 18/25\n",
      "270/270 [==============================] - 164s 607ms/step - loss: 0.0102 - accuracy: 0.9994 - top_k_categorical_accuracy: 0.9994 - val_loss: 1.5267 - val_accuracy: 0.7196 - val_top_k_categorical_accuracy: 0.9219\n",
      "Epoch 19/25\n",
      "270/270 [==============================] - 165s 610ms/step - loss: 0.0082 - accuracy: 0.9992 - top_k_categorical_accuracy: 0.9995 - val_loss: 1.4616 - val_accuracy: 0.7300 - val_top_k_categorical_accuracy: 0.9271\n",
      "Epoch 20/25\n",
      "270/270 [==============================] - 166s 613ms/step - loss: 0.0116 - accuracy: 0.9984 - top_k_categorical_accuracy: 0.9994 - val_loss: 1.7075 - val_accuracy: 0.7049 - val_top_k_categorical_accuracy: 0.9201\n",
      "Epoch 21/25\n",
      "270/270 [==============================] - 166s 615ms/step - loss: 0.1584 - accuracy: 0.9608 - top_k_categorical_accuracy: 0.9959 - val_loss: 2.6157 - val_accuracy: 0.6319 - val_top_k_categorical_accuracy: 0.8620\n",
      "Epoch 22/25\n",
      "270/270 [==============================] - 167s 619ms/step - loss: 0.3374 - accuracy: 0.9193 - top_k_categorical_accuracy: 0.9932 - val_loss: 2.6190 - val_accuracy: 0.6354 - val_top_k_categorical_accuracy: 0.8993\n",
      "Epoch 23/25\n",
      "270/270 [==============================] - 165s 612ms/step - loss: 0.1778 - accuracy: 0.9539 - top_k_categorical_accuracy: 0.9988 - val_loss: 2.6189 - val_accuracy: 0.6606 - val_top_k_categorical_accuracy: 0.8889\n",
      "Epoch 24/25\n",
      "270/270 [==============================] - 165s 609ms/step - loss: 0.0754 - accuracy: 0.9801 - top_k_categorical_accuracy: 0.9994 - val_loss: 2.2686 - val_accuracy: 0.6727 - val_top_k_categorical_accuracy: 0.9062\n",
      "Epoch 25/25\n",
      "270/270 [==============================] - 167s 617ms/step - loss: 0.0323 - accuracy: 0.9933 - top_k_categorical_accuracy: 0.9997 - val_loss: 2.0356 - val_accuracy: 0.7127 - val_top_k_categorical_accuracy: 0.8993\n"
     ]
    }
   ],
   "source": [
    "# history  = inceptionV3_model.fit(X_train, y_train, validation_data=(X_val, y_val), epochs=epochs, callbacks=[tensorboard_callback])\n",
    "history  = inceptionV3_model.fit(X_train, y_train, validation_data=(X_val, y_val), epochs=epochs)"
   ]
  },
  {
   "cell_type": "code",
   "execution_count": 31,
   "id": "7f8294a8",
   "metadata": {
    "execution": {
     "iopub.execute_input": "2023-05-30T08:19:39.604487Z",
     "iopub.status.busy": "2023-05-30T08:19:39.603978Z",
     "iopub.status.idle": "2023-05-30T08:20:22.569735Z",
     "shell.execute_reply": "2023-05-30T08:20:22.568112Z"
    },
    "id": "XejIje1UAHZK",
    "papermill": {
     "duration": 43.629989,
     "end_time": "2023-05-30T08:20:22.573209",
     "exception": false,
     "start_time": "2023-05-30T08:19:38.943220",
     "status": "completed"
    },
    "tags": []
   },
   "outputs": [
    {
     "name": "stdout",
     "output_type": "stream",
     "text": [
      "54/54 [==============================] - 29s 537ms/step - loss: 1.9839 - accuracy: 0.7037 - top_k_categorical_accuracy: 0.9109\n"
     ]
    }
   ],
   "source": [
    "# history_test = inceptionV3_model.evaluate(X_test, y_test, callbacks=[tensorboard_callback])\n",
    "history_test = inceptionV3_model.evaluate(X_test, y_test)"
   ]
  },
  {
   "cell_type": "code",
   "execution_count": 32,
   "id": "7034837c",
   "metadata": {
    "execution": {
     "iopub.execute_input": "2023-05-30T08:20:24.021781Z",
     "iopub.status.busy": "2023-05-30T08:20:24.020513Z",
     "iopub.status.idle": "2023-05-30T08:20:24.025725Z",
     "shell.execute_reply": "2023-05-30T08:20:24.024748Z"
    },
    "papermill": {
     "duration": 0.766988,
     "end_time": "2023-05-30T08:20:24.028349",
     "exception": false,
     "start_time": "2023-05-30T08:20:23.261361",
     "status": "completed"
    },
    "tags": []
   },
   "outputs": [],
   "source": [
    "# y_predicted = inceptionV3_model.predict(X_test)"
   ]
  },
  {
   "cell_type": "code",
   "execution_count": 33,
   "id": "bccb5603",
   "metadata": {
    "execution": {
     "iopub.execute_input": "2023-05-30T08:20:25.360342Z",
     "iopub.status.busy": "2023-05-30T08:20:25.359157Z",
     "iopub.status.idle": "2023-05-30T08:20:25.365017Z",
     "shell.execute_reply": "2023-05-30T08:20:25.363685Z"
    },
    "papermill": {
     "duration": 0.677452,
     "end_time": "2023-05-30T08:20:25.367843",
     "exception": false,
     "start_time": "2023-05-30T08:20:24.690391",
     "status": "completed"
    },
    "tags": []
   },
   "outputs": [],
   "source": [
    "# y_test_label = lb.inverse_transform(y_test)\n",
    "# y_predicted_label = lb.inverse_transform(y_predicted)"
   ]
  },
  {
   "cell_type": "code",
   "execution_count": 34,
   "id": "e7ece7be",
   "metadata": {
    "execution": {
     "iopub.execute_input": "2023-05-30T08:20:26.777806Z",
     "iopub.status.busy": "2023-05-30T08:20:26.776904Z",
     "iopub.status.idle": "2023-05-30T08:20:26.782095Z",
     "shell.execute_reply": "2023-05-30T08:20:26.780721Z"
    },
    "papermill": {
     "duration": 0.763414,
     "end_time": "2023-05-30T08:20:26.785219",
     "exception": false,
     "start_time": "2023-05-30T08:20:26.021805",
     "status": "completed"
    },
    "tags": []
   },
   "outputs": [],
   "source": [
    "# print(\"Classification Report:\")\n",
    "# clr = classification_report(y_test_label, y_predicted_label)\n",
    "# print(clr)"
   ]
  },
  {
   "cell_type": "code",
   "execution_count": 35,
   "id": "713fa2e7",
   "metadata": {
    "execution": {
     "iopub.execute_input": "2023-05-30T08:20:28.104868Z",
     "iopub.status.busy": "2023-05-30T08:20:28.104372Z",
     "iopub.status.idle": "2023-05-30T08:20:28.110036Z",
     "shell.execute_reply": "2023-05-30T08:20:28.108401Z"
    },
    "papermill": {
     "duration": 0.668302,
     "end_time": "2023-05-30T08:20:28.113079",
     "exception": false,
     "start_time": "2023-05-30T08:20:27.444777",
     "status": "completed"
    },
    "tags": []
   },
   "outputs": [],
   "source": [
    "# print(\"Confusion Matrix:\")\n",
    "# multilabel_cm = multilabel_confusion_matrix(y_test_label, y_predicted_label)\n",
    "# cm = confusion_matrix(y_test_label, y_predicted_label)\n",
    "# print(cm)"
   ]
  },
  {
   "cell_type": "code",
   "execution_count": 36,
   "id": "402fb53b",
   "metadata": {
    "execution": {
     "iopub.execute_input": "2023-05-30T08:20:29.559426Z",
     "iopub.status.busy": "2023-05-30T08:20:29.558335Z",
     "iopub.status.idle": "2023-05-30T08:20:29.564556Z",
     "shell.execute_reply": "2023-05-30T08:20:29.563210Z"
    },
    "papermill": {
     "duration": 0.772182,
     "end_time": "2023-05-30T08:20:29.567563",
     "exception": false,
     "start_time": "2023-05-30T08:20:28.795381",
     "status": "completed"
    },
    "tags": []
   },
   "outputs": [],
   "source": [
    "# cm_df = pd.DataFrame(cm, index = dataset.District.unique(), columns = dataset.District.unique())\n",
    "# plt.figure(figsize=(20,20))\n",
    "# cm_plot = sb.heatmap(cm_df, cmap=\"YlGnBu\", annot=True)\n",
    "# plt.title('Confusion Matrix')\n",
    "# plt.ylabel('Actual Class')\n",
    "# plt.xlabel('Predicted Class')\n",
    "# plt.show(cm_plot)"
   ]
  },
  {
   "cell_type": "code",
   "execution_count": 37,
   "id": "6cceb3e6",
   "metadata": {
    "execution": {
     "iopub.execute_input": "2023-05-30T08:20:30.893961Z",
     "iopub.status.busy": "2023-05-30T08:20:30.893097Z",
     "iopub.status.idle": "2023-05-30T08:20:30.898618Z",
     "shell.execute_reply": "2023-05-30T08:20:30.897534Z"
    },
    "id": "9eIEbjfq5bQF",
    "papermill": {
     "duration": 0.674858,
     "end_time": "2023-05-30T08:20:30.901720",
     "exception": false,
     "start_time": "2023-05-30T08:20:30.226862",
     "status": "completed"
    },
    "tags": []
   },
   "outputs": [],
   "source": [
    "# !zip -r logs.zip logs/"
   ]
  }
 ],
 "metadata": {
  "kernelspec": {
   "display_name": "Python 3",
   "language": "python",
   "name": "python3"
  },
  "language_info": {
   "codemirror_mode": {
    "name": "ipython",
    "version": 3
   },
   "file_extension": ".py",
   "mimetype": "text/x-python",
   "name": "python",
   "nbconvert_exporter": "python",
   "pygments_lexer": "ipython3",
   "version": "3.7.12"
  },
  "papermill": {
   "default_parameters": {},
   "duration": 4274.680621,
   "end_time": "2023-05-30T08:20:35.237574",
   "environment_variables": {},
   "exception": null,
   "input_path": "__notebook__.ipynb",
   "output_path": "__notebook__.ipynb",
   "parameters": {},
   "start_time": "2023-05-30T07:09:20.556953",
   "version": "2.4.0"
  }
 },
 "nbformat": 4,
 "nbformat_minor": 5
}
