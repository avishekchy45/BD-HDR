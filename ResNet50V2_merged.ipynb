{
 "cells": [
  {
   "cell_type": "markdown",
   "id": "65981665",
   "metadata": {
    "id": "h_wjgss_l-wv",
    "papermill": {
     "duration": 0.013261,
     "end_time": "2023-05-30T10:43:01.002815",
     "exception": false,
     "start_time": "2023-05-30T10:43:00.989554",
     "status": "completed"
    },
    "tags": []
   },
   "source": [
    "## Convolutional Neural Network"
   ]
  },
  {
   "cell_type": "markdown",
   "id": "ba8880c7",
   "metadata": {
    "id": "qHQuMV6VWYru",
    "papermill": {
     "duration": 0.011764,
     "end_time": "2023-05-30T10:43:01.026421",
     "exception": false,
     "start_time": "2023-05-30T10:43:01.014657",
     "status": "completed"
    },
    "tags": []
   },
   "source": [
    "### Mount Drive"
   ]
  },
  {
   "cell_type": "code",
   "execution_count": 1,
   "id": "d5d3906b",
   "metadata": {
    "execution": {
     "iopub.execute_input": "2023-05-30T10:43:01.054920Z",
     "iopub.status.busy": "2023-05-30T10:43:01.054454Z",
     "iopub.status.idle": "2023-05-30T10:43:01.060883Z",
     "shell.execute_reply": "2023-05-30T10:43:01.059501Z"
    },
    "id": "zt98eHYUWV-2",
    "papermill": {
     "duration": 0.027647,
     "end_time": "2023-05-30T10:43:01.066068",
     "exception": false,
     "start_time": "2023-05-30T10:43:01.038421",
     "status": "completed"
    },
    "tags": []
   },
   "outputs": [],
   "source": [
    "# from google.colab import drive\n",
    "# drive.mount(\"/content/drive\")"
   ]
  },
  {
   "cell_type": "markdown",
   "id": "62436670",
   "metadata": {
    "id": "Ud6hFF4rnhQK",
    "papermill": {
     "duration": 0.01133,
     "end_time": "2023-05-30T10:43:01.089443",
     "exception": false,
     "start_time": "2023-05-30T10:43:01.078113",
     "status": "completed"
    },
    "tags": []
   },
   "source": [
    "### Importing Packages"
   ]
  },
  {
   "cell_type": "code",
   "execution_count": 2,
   "id": "e1a88c34",
   "metadata": {
    "execution": {
     "iopub.execute_input": "2023-05-30T10:43:01.115620Z",
     "iopub.status.busy": "2023-05-30T10:43:01.115089Z",
     "iopub.status.idle": "2023-05-30T10:43:13.066783Z",
     "shell.execute_reply": "2023-05-30T10:43:13.065205Z"
    },
    "id": "RfU8VXwvngn0",
    "papermill": {
     "duration": 11.968937,
     "end_time": "2023-05-30T10:43:13.070149",
     "exception": false,
     "start_time": "2023-05-30T10:43:01.101212",
     "status": "completed"
    },
    "tags": []
   },
   "outputs": [],
   "source": [
    "# Fetching Dataset\n",
    "import pandas as pd\n",
    "\n",
    "# Reading Images\n",
    "import numpy as np\n",
    "import cv2 as cv\n",
    "\n",
    "# Scaling Features\n",
    "from sklearn.preprocessing import MinMaxScaler\n",
    "\n",
    "# Spliting Train & Test Set\n",
    "from sklearn.model_selection import train_test_split\n",
    "# from fast_ml.model_development import train_valid_test_split\n",
    "\n",
    "# Binarizing Output\n",
    "from sklearn.preprocessing import LabelBinarizer\n",
    "\n",
    "# Creating Model\n",
    "import tensorflow as tf\n",
    "from tensorflow.keras import layers,models\n",
    "\n",
    "# Training and Evaluating the Model\n",
    "from sklearn.metrics import (classification_report, multilabel_confusion_matrix, confusion_matrix)\n",
    "import seaborn as sb\n",
    "import matplotlib.pyplot as plt\n",
    "\n",
    "# Making Predictions\n",
    "\n",
    "# BD_DB_64\n"
   ]
  },
  {
   "cell_type": "markdown",
   "id": "665ee589",
   "metadata": {
    "id": "DOoaGBDk-FU_",
    "papermill": {
     "duration": 0.011183,
     "end_time": "2023-05-30T10:43:13.093323",
     "exception": false,
     "start_time": "2023-05-30T10:43:13.082140",
     "status": "completed"
    },
    "tags": []
   },
   "source": [
    "### Fetching Dataset"
   ]
  },
  {
   "cell_type": "code",
   "execution_count": 3,
   "id": "d260a76a",
   "metadata": {
    "execution": {
     "iopub.execute_input": "2023-05-30T10:43:13.119839Z",
     "iopub.status.busy": "2023-05-30T10:43:13.118758Z",
     "iopub.status.idle": "2023-05-30T10:43:13.156682Z",
     "shell.execute_reply": "2023-05-30T10:43:13.155126Z"
    },
    "id": "_bPX1QuDWDmS",
    "papermill": {
     "duration": 0.055062,
     "end_time": "2023-05-30T10:43:13.159935",
     "exception": false,
     "start_time": "2023-05-30T10:43:13.104873",
     "status": "completed"
    },
    "tags": []
   },
   "outputs": [],
   "source": [
    "# dataset_dir = \"/content/drive/MyDrive/Dataset/Dataset_Thesis/\"\n",
    "dataset_dir = \"/kaggle/input/dataset-thesis/\"\n",
    "dataset = pd.read_csv(dataset_dir + \"merged/merged.csv\")"
   ]
  },
  {
   "cell_type": "code",
   "execution_count": 4,
   "id": "2b11d738",
   "metadata": {
    "execution": {
     "iopub.execute_input": "2023-05-30T10:43:13.185668Z",
     "iopub.status.busy": "2023-05-30T10:43:13.185101Z",
     "iopub.status.idle": "2023-05-30T10:43:13.223142Z",
     "shell.execute_reply": "2023-05-30T10:43:13.221610Z"
    },
    "executionInfo": {
     "elapsed": 40,
     "status": "ok",
     "timestamp": 1678650881154,
     "user": {
      "displayName": "1578_Avishek Chowdhury",
      "userId": "14734427622886483691"
     },
     "user_tz": -360
    },
    "id": "PixqtQeFliAX",
    "outputId": "89a79bde-5ed5-4de9-ea75-43783ea85031",
    "papermill": {
     "duration": 0.054843,
     "end_time": "2023-05-30T10:43:13.226527",
     "exception": false,
     "start_time": "2023-05-30T10:43:13.171684",
     "status": "completed"
    },
    "tags": []
   },
   "outputs": [
    {
     "data": {
      "text/html": [
       "<div>\n",
       "<style scoped>\n",
       "    .dataframe tbody tr th:only-of-type {\n",
       "        vertical-align: middle;\n",
       "    }\n",
       "\n",
       "    .dataframe tbody tr th {\n",
       "        vertical-align: top;\n",
       "    }\n",
       "\n",
       "    .dataframe thead th {\n",
       "        text-align: right;\n",
       "    }\n",
       "</style>\n",
       "<table border=\"1\" class=\"dataframe\">\n",
       "  <thead>\n",
       "    <tr style=\"text-align: right;\">\n",
       "      <th></th>\n",
       "      <th>Filename</th>\n",
       "      <th>District</th>\n",
       "    </tr>\n",
       "  </thead>\n",
       "  <tbody>\n",
       "    <tr>\n",
       "      <th>0</th>\n",
       "      <td>0_16_1_0018_ (222).png</td>\n",
       "      <td>Bagerhat</td>\n",
       "    </tr>\n",
       "    <tr>\n",
       "      <th>1</th>\n",
       "      <td>0_14_1_0010_ (45).png</td>\n",
       "      <td>Bagerhat</td>\n",
       "    </tr>\n",
       "    <tr>\n",
       "      <th>2</th>\n",
       "      <td>0_14_1_0009_ (45).png</td>\n",
       "      <td>Bagerhat</td>\n",
       "    </tr>\n",
       "    <tr>\n",
       "      <th>3</th>\n",
       "      <td>0_16_1_0018_ (221).png</td>\n",
       "      <td>Bagerhat</td>\n",
       "    </tr>\n",
       "    <tr>\n",
       "      <th>4</th>\n",
       "      <td>0_16_1_0018_ (225).png</td>\n",
       "      <td>Bagerhat</td>\n",
       "    </tr>\n",
       "    <tr>\n",
       "      <th>...</th>\n",
       "      <td>...</td>\n",
       "      <td>...</td>\n",
       "    </tr>\n",
       "    <tr>\n",
       "      <th>11515</th>\n",
       "      <td>Thakurgaon_5 (2).jpg</td>\n",
       "      <td>Thakurgaon</td>\n",
       "    </tr>\n",
       "    <tr>\n",
       "      <th>11516</th>\n",
       "      <td>Thakurgaon_61.jpg</td>\n",
       "      <td>Thakurgaon</td>\n",
       "    </tr>\n",
       "    <tr>\n",
       "      <th>11517</th>\n",
       "      <td>Thakurgaon_19 (2).jpg</td>\n",
       "      <td>Thakurgaon</td>\n",
       "    </tr>\n",
       "    <tr>\n",
       "      <th>11518</th>\n",
       "      <td>Thakurgaon_60.jpg</td>\n",
       "      <td>Thakurgaon</td>\n",
       "    </tr>\n",
       "    <tr>\n",
       "      <th>11519</th>\n",
       "      <td>Thakurgaon_62.jpg</td>\n",
       "      <td>Thakurgaon</td>\n",
       "    </tr>\n",
       "  </tbody>\n",
       "</table>\n",
       "<p>11520 rows × 2 columns</p>\n",
       "</div>"
      ],
      "text/plain": [
       "                     Filename    District\n",
       "0      0_16_1_0018_ (222).png    Bagerhat\n",
       "1       0_14_1_0010_ (45).png    Bagerhat\n",
       "2       0_14_1_0009_ (45).png    Bagerhat\n",
       "3      0_16_1_0018_ (221).png    Bagerhat\n",
       "4      0_16_1_0018_ (225).png    Bagerhat\n",
       "...                       ...         ...\n",
       "11515    Thakurgaon_5 (2).jpg  Thakurgaon\n",
       "11516       Thakurgaon_61.jpg  Thakurgaon\n",
       "11517   Thakurgaon_19 (2).jpg  Thakurgaon\n",
       "11518       Thakurgaon_60.jpg  Thakurgaon\n",
       "11519       Thakurgaon_62.jpg  Thakurgaon\n",
       "\n",
       "[11520 rows x 2 columns]"
      ]
     },
     "execution_count": 4,
     "metadata": {},
     "output_type": "execute_result"
    }
   ],
   "source": [
    "dataset"
   ]
  },
  {
   "cell_type": "code",
   "execution_count": 5,
   "id": "feeb3b7e",
   "metadata": {
    "execution": {
     "iopub.execute_input": "2023-05-30T10:43:13.254593Z",
     "iopub.status.busy": "2023-05-30T10:43:13.254064Z",
     "iopub.status.idle": "2023-05-30T10:43:13.261756Z",
     "shell.execute_reply": "2023-05-30T10:43:13.260589Z"
    },
    "executionInfo": {
     "elapsed": 39,
     "status": "ok",
     "timestamp": 1678650881156,
     "user": {
      "displayName": "1578_Avishek Chowdhury",
      "userId": "14734427622886483691"
     },
     "user_tz": -360
    },
    "id": "QJxZ0txo1g00",
    "outputId": "dd4783e6-ab7e-4d33-dd82-8df25d27ecd4",
    "papermill": {
     "duration": 0.024971,
     "end_time": "2023-05-30T10:43:13.264170",
     "exception": false,
     "start_time": "2023-05-30T10:43:13.239199",
     "status": "completed"
    },
    "tags": []
   },
   "outputs": [
    {
     "name": "stdout",
     "output_type": "stream",
     "text": [
      "(11520,)\n",
      "(11520,)\n"
     ]
    }
   ],
   "source": [
    "X = dataset.iloc[:,0]\n",
    "y = dataset.iloc[:,1]\n",
    "print(X.shape)\n",
    "print(y.shape)"
   ]
  },
  {
   "cell_type": "markdown",
   "id": "6f0eab0a",
   "metadata": {
    "id": "OC7pi_STnmM_",
    "papermill": {
     "duration": 0.012246,
     "end_time": "2023-05-30T10:43:13.289375",
     "exception": false,
     "start_time": "2023-05-30T10:43:13.277129",
     "status": "completed"
    },
    "tags": []
   },
   "source": [
    "### Reading Images"
   ]
  },
  {
   "cell_type": "code",
   "execution_count": 6,
   "id": "72d1e7a0",
   "metadata": {
    "execution": {
     "iopub.execute_input": "2023-05-30T10:43:13.316038Z",
     "iopub.status.busy": "2023-05-30T10:43:13.315499Z",
     "iopub.status.idle": "2023-05-30T10:43:13.580552Z",
     "shell.execute_reply": "2023-05-30T10:43:13.579014Z"
    },
    "executionInfo": {
     "elapsed": 36,
     "status": "ok",
     "timestamp": 1678650881157,
     "user": {
      "displayName": "1578_Avishek Chowdhury",
      "userId": "14734427622886483691"
     },
     "user_tz": -360
    },
    "id": "3LKOqFRYnGbZ",
    "outputId": "5ceb75e3-5092-417f-abaf-8ec12ae65caf",
    "papermill": {
     "duration": 0.282017,
     "end_time": "2023-05-30T10:43:13.583355",
     "exception": false,
     "start_time": "2023-05-30T10:43:13.301338",
     "status": "completed"
    },
    "tags": []
   },
   "outputs": [
    {
     "data": {
      "text/plain": [
       "(11520, 80, 240, 3)"
      ]
     },
     "execution_count": 6,
     "metadata": {},
     "output_type": "execute_result"
    }
   ],
   "source": [
    "new_weight = 240\n",
    "new_height = 80\n",
    "x_data = np.empty((len(X), new_height, new_weight, 3), dtype=np.int64)\n",
    "x_data.shape"
   ]
  },
  {
   "cell_type": "code",
   "execution_count": 7,
   "id": "5d32acd2",
   "metadata": {
    "execution": {
     "iopub.execute_input": "2023-05-30T10:43:13.611678Z",
     "iopub.status.busy": "2023-05-30T10:43:13.610475Z",
     "iopub.status.idle": "2023-05-30T10:43:13.616790Z",
     "shell.execute_reply": "2023-05-30T10:43:13.615292Z"
    },
    "id": "N1CFL7phu16x",
    "papermill": {
     "duration": 0.023697,
     "end_time": "2023-05-30T10:43:13.619607",
     "exception": false,
     "start_time": "2023-05-30T10:43:13.595910",
     "status": "completed"
    },
    "tags": []
   },
   "outputs": [],
   "source": [
    "# for i, img_path in enumerate(X):\n",
    "#   # Reading Image\n",
    "#   candidate_image = cv.imread(dataset_dir + \"merged/raw/\" + y[i] + \"/\" + img_path)\n",
    "#   # Resizing Image\n",
    "#   candidate_rs = cv.resize(candidate_image, dsize=(new_weight, new_height))\n",
    "#   # Converting Image to Grayscale\n",
    "#   candidate_gray = cv.cvtColor(candidate_rs, cv.COLOR_BGR2GRAY)\n",
    "#   # Computing a Global Threshold Value from Grayscale Image(Using Otsu's Method) & Converting to Binary Image\n",
    "#   ret, candidate_bw = cv.threshold(candidate_gray, 0, 255, cv.THRESH_BINARY + cv.THRESH_OTSU)\n",
    "#   # ret, candidate_bw = cv.threshold(candidate_gray, 0, 255, cv.THRESH_BINARY_INV + cv.THRESH_OTSU)\n",
    "  \n",
    "#   # print(img_path, end =\" \")\n",
    "#   x_data[i] = candidate_bw"
   ]
  },
  {
   "cell_type": "code",
   "execution_count": 8,
   "id": "480f8c23",
   "metadata": {
    "execution": {
     "iopub.execute_input": "2023-05-30T10:43:13.647126Z",
     "iopub.status.busy": "2023-05-30T10:43:13.646347Z",
     "iopub.status.idle": "2023-05-30T10:44:06.865388Z",
     "shell.execute_reply": "2023-05-30T10:44:06.863998Z"
    },
    "id": "sdnDa8TsVOEr",
    "papermill": {
     "duration": 53.236902,
     "end_time": "2023-05-30T10:44:06.868716",
     "exception": false,
     "start_time": "2023-05-30T10:43:13.631814",
     "status": "completed"
    },
    "tags": []
   },
   "outputs": [],
   "source": [
    "for i, img_path in enumerate(X):\n",
    "    candidate_image = cv.imread(dataset_dir + \"merged/converted_80_240/\" + y[i] + \"/\" + img_path)\n",
    "    # candidate_rs = cv.resize(candidate_image, dsize=(new_weight, new_height))\n",
    "    x_data[i] = candidate_image"
   ]
  },
  {
   "cell_type": "code",
   "execution_count": 9,
   "id": "a76cf117",
   "metadata": {
    "execution": {
     "iopub.execute_input": "2023-05-30T10:44:06.896274Z",
     "iopub.status.busy": "2023-05-30T10:44:06.895153Z",
     "iopub.status.idle": "2023-05-30T10:44:06.901465Z",
     "shell.execute_reply": "2023-05-30T10:44:06.899936Z"
    },
    "id": "n2E7m-iKqjCn",
    "papermill": {
     "duration": 0.023374,
     "end_time": "2023-05-30T10:44:06.904554",
     "exception": false,
     "start_time": "2023-05-30T10:44:06.881180",
     "status": "completed"
    },
    "tags": []
   },
   "outputs": [],
   "source": [
    "# plt.imshow(x_data[1], cmap=\"gray\")\n",
    "# len(x_data[0][0])"
   ]
  },
  {
   "cell_type": "code",
   "execution_count": 10,
   "id": "ff3b8dab",
   "metadata": {
    "execution": {
     "iopub.execute_input": "2023-05-30T10:44:06.932174Z",
     "iopub.status.busy": "2023-05-30T10:44:06.930659Z",
     "iopub.status.idle": "2023-05-30T10:44:06.940174Z",
     "shell.execute_reply": "2023-05-30T10:44:06.938850Z"
    },
    "executionInfo": {
     "elapsed": 564,
     "status": "ok",
     "timestamp": 1678650929654,
     "user": {
      "displayName": "1578_Avishek Chowdhury",
      "userId": "14734427622886483691"
     },
     "user_tz": -360
    },
    "id": "qHatxo9Jn6kC",
    "outputId": "3109adb5-1a27-4e79-88ab-4b83203cb486",
    "papermill": {
     "duration": 0.026056,
     "end_time": "2023-05-30T10:44:06.942837",
     "exception": false,
     "start_time": "2023-05-30T10:44:06.916781",
     "status": "completed"
    },
    "tags": []
   },
   "outputs": [
    {
     "data": {
      "text/plain": [
       "(11520, 57600)"
      ]
     },
     "execution_count": 10,
     "metadata": {},
     "output_type": "execute_result"
    }
   ],
   "source": [
    "X = np.reshape(x_data,(X.shape[0],new_height*new_weight*3))\n",
    "X.shape"
   ]
  },
  {
   "cell_type": "markdown",
   "id": "19479904",
   "metadata": {
    "id": "VhtYg63_32mi",
    "papermill": {
     "duration": 0.013182,
     "end_time": "2023-05-30T10:44:06.968487",
     "exception": false,
     "start_time": "2023-05-30T10:44:06.955305",
     "status": "completed"
    },
    "tags": []
   },
   "source": [
    "### Scaling Features"
   ]
  },
  {
   "cell_type": "code",
   "execution_count": 11,
   "id": "7403ac15",
   "metadata": {
    "execution": {
     "iopub.execute_input": "2023-05-30T10:44:06.996522Z",
     "iopub.status.busy": "2023-05-30T10:44:06.995052Z",
     "iopub.status.idle": "2023-05-30T10:44:16.408457Z",
     "shell.execute_reply": "2023-05-30T10:44:16.406678Z"
    },
    "id": "2HSHvUQx3pVm",
    "papermill": {
     "duration": 9.431178,
     "end_time": "2023-05-30T10:44:16.412104",
     "exception": false,
     "start_time": "2023-05-30T10:44:06.980926",
     "status": "completed"
    },
    "tags": []
   },
   "outputs": [],
   "source": [
    "sc = MinMaxScaler()\n",
    "X = sc.fit_transform(X)"
   ]
  },
  {
   "cell_type": "code",
   "execution_count": 12,
   "id": "0174447c",
   "metadata": {
    "execution": {
     "iopub.execute_input": "2023-05-30T10:44:16.439166Z",
     "iopub.status.busy": "2023-05-30T10:44:16.438722Z",
     "iopub.status.idle": "2023-05-30T10:44:16.448633Z",
     "shell.execute_reply": "2023-05-30T10:44:16.447193Z"
    },
    "executionInfo": {
     "elapsed": 493,
     "status": "ok",
     "timestamp": 1678650929656,
     "user": {
      "displayName": "1578_Avishek Chowdhury",
      "userId": "14734427622886483691"
     },
     "user_tz": -360
    },
    "id": "jSj6M9SO5W1m",
    "outputId": "29b9d3c3-99ec-4411-b84d-f7e12ad99852",
    "papermill": {
     "duration": 0.027003,
     "end_time": "2023-05-30T10:44:16.451449",
     "exception": false,
     "start_time": "2023-05-30T10:44:16.424446",
     "status": "completed"
    },
    "tags": []
   },
   "outputs": [
    {
     "data": {
      "text/plain": [
       "array([[0., 0., 0., ..., 0., 0., 0.],\n",
       "       [0., 0., 0., ..., 0., 0., 0.],\n",
       "       [0., 0., 0., ..., 0., 0., 0.],\n",
       "       ...,\n",
       "       [0., 0., 0., ..., 0., 0., 0.],\n",
       "       [0., 0., 0., ..., 0., 0., 0.],\n",
       "       [1., 1., 1., ..., 1., 1., 1.]])"
      ]
     },
     "execution_count": 12,
     "metadata": {},
     "output_type": "execute_result"
    }
   ],
   "source": [
    "X"
   ]
  },
  {
   "cell_type": "markdown",
   "id": "539328ba",
   "metadata": {
    "id": "W_9dK6Iw5EXZ",
    "papermill": {
     "duration": 0.01193,
     "end_time": "2023-05-30T10:44:16.475792",
     "exception": false,
     "start_time": "2023-05-30T10:44:16.463862",
     "status": "completed"
    },
    "tags": []
   },
   "source": [
    "### Spliting Train & Test Set\n"
   ]
  },
  {
   "cell_type": "code",
   "execution_count": 13,
   "id": "1ff12f7b",
   "metadata": {
    "execution": {
     "iopub.execute_input": "2023-05-30T10:44:16.503005Z",
     "iopub.status.busy": "2023-05-30T10:44:16.502489Z",
     "iopub.status.idle": "2023-05-30T10:44:19.575136Z",
     "shell.execute_reply": "2023-05-30T10:44:19.573196Z"
    },
    "executionInfo": {
     "elapsed": 488,
     "status": "ok",
     "timestamp": 1678650929679,
     "user": {
      "displayName": "1578_Avishek Chowdhury",
      "userId": "14734427622886483691"
     },
     "user_tz": -360
    },
    "id": "ARtvOrWsWImO",
    "outputId": "a052e7ac-0eb4-4d33-c74f-89393c77e9e8",
    "papermill": {
     "duration": 3.090724,
     "end_time": "2023-05-30T10:44:19.578954",
     "exception": false,
     "start_time": "2023-05-30T10:44:16.488230",
     "status": "completed"
    },
    "tags": []
   },
   "outputs": [
    {
     "name": "stdout",
     "output_type": "stream",
     "text": [
      "(8640, 57600) (1728, 57600) (1152, 57600) (8640,) (1728,) (1152,)\n"
     ]
    }
   ],
   "source": [
    "# X_train, X_test, y_train, y_test = train_test_split(X, y, test_size=0.15, random_state=45, stratify=dataset[\"District\"])\n",
    "X_train, X_rem, y_train, y_rem = train_test_split(X, y, train_size=0.75, random_state=45, stratify=y)\n",
    "X_val, X_test, y_val, y_test = train_test_split(X_rem, y_rem, test_size=0.60, stratify=y_rem)\n",
    "print(X_train.shape, X_test.shape, X_val.shape, y_train.shape, y_test.shape, y_val.shape)"
   ]
  },
  {
   "cell_type": "code",
   "execution_count": 14,
   "id": "42720199",
   "metadata": {
    "execution": {
     "iopub.execute_input": "2023-05-30T10:44:19.619751Z",
     "iopub.status.busy": "2023-05-30T10:44:19.618545Z",
     "iopub.status.idle": "2023-05-30T10:44:19.624673Z",
     "shell.execute_reply": "2023-05-30T10:44:19.623338Z"
    },
    "papermill": {
     "duration": 0.029915,
     "end_time": "2023-05-30T10:44:19.627882",
     "exception": false,
     "start_time": "2023-05-30T10:44:19.597967",
     "status": "completed"
    },
    "tags": []
   },
   "outputs": [],
   "source": [
    "# print(\n",
    "#     f'NUMBER OF TARGET IN THE ORIGINAL DATA\\n{dataset[\"District\"].value_counts()}\\n\\n'\n",
    "#     + f\"NUMBER OF TARGET IN THE TRAINING SET\\n{y_train.value_counts()}\\n\\n\"\n",
    "#     + f\"NUMBER OF TARGET IN THE TEST SET\\n{y_test.value_counts()}\\n\\n\"\n",
    "#     + f\"NUMBER OF TARGET IN THE VALIDATION SET\\n{y_val.value_counts()}\"\n",
    "# )"
   ]
  },
  {
   "cell_type": "code",
   "execution_count": 15,
   "id": "6b7eca87",
   "metadata": {
    "execution": {
     "iopub.execute_input": "2023-05-30T10:44:19.662474Z",
     "iopub.status.busy": "2023-05-30T10:44:19.660149Z",
     "iopub.status.idle": "2023-05-30T10:44:19.667891Z",
     "shell.execute_reply": "2023-05-30T10:44:19.666839Z"
    },
    "papermill": {
     "duration": 0.026082,
     "end_time": "2023-05-30T10:44:19.670913",
     "exception": false,
     "start_time": "2023-05-30T10:44:19.644831",
     "status": "completed"
    },
    "tags": []
   },
   "outputs": [],
   "source": [
    "# print(\n",
    "#     f'RATIO OF TARGET IN THE ORIGINAL DATA\\n{dataset[\"District\"].value_counts() / len(dataset)}\\n\\n'\n",
    "#     + f\"RATIO OF TARGET IN THE TRAINING SET\\n{y_train.value_counts() / len(y_train)}\\n\\n\"\n",
    "#     + f\"RATIO OF TARGET IN THE TEST SET\\n{y_test.value_counts() / len(y_test)}\\n\\n\"\n",
    "#     + f\"RATIO OF TARGET IN THE VALIDATION SET\\n{y_val.value_counts() / len(y_val)}\"\n",
    "# )"
   ]
  },
  {
   "cell_type": "code",
   "execution_count": 16,
   "id": "1b4ec6e8",
   "metadata": {
    "execution": {
     "iopub.execute_input": "2023-05-30T10:44:19.698912Z",
     "iopub.status.busy": "2023-05-30T10:44:19.697814Z",
     "iopub.status.idle": "2023-05-30T10:44:19.706770Z",
     "shell.execute_reply": "2023-05-30T10:44:19.705278Z"
    },
    "executionInfo": {
     "elapsed": 482,
     "status": "ok",
     "timestamp": 1678650929680,
     "user": {
      "displayName": "1578_Avishek Chowdhury",
      "userId": "14734427622886483691"
     },
     "user_tz": -360
    },
    "id": "qydb7AVI_s4C",
    "outputId": "e9dc8697-7fc9-473e-b666-e8657b341e30",
    "papermill": {
     "duration": 0.02669,
     "end_time": "2023-05-30T10:44:19.710019",
     "exception": false,
     "start_time": "2023-05-30T10:44:19.683329",
     "status": "completed"
    },
    "tags": []
   },
   "outputs": [
    {
     "name": "stdout",
     "output_type": "stream",
     "text": [
      "(8640, 80, 240, 3) (1728, 80, 240, 3) (1152, 80, 240, 3)\n"
     ]
    }
   ],
   "source": [
    "X_train = X_train.reshape(-1,new_height,new_weight,3)\n",
    "X_test = X_test.reshape(-1,new_height,new_weight,3)\n",
    "X_val = X_val.reshape(-1,new_height,new_weight,3)\n",
    "print(X_train.shape, X_test.shape, X_val.shape)"
   ]
  },
  {
   "cell_type": "markdown",
   "id": "a2df440f",
   "metadata": {
    "papermill": {
     "duration": 0.012292,
     "end_time": "2023-05-30T10:44:19.741269",
     "exception": false,
     "start_time": "2023-05-30T10:44:19.728977",
     "status": "completed"
    },
    "tags": []
   },
   "source": [
    "### Binarizing Output"
   ]
  },
  {
   "cell_type": "code",
   "execution_count": 17,
   "id": "db2966dd",
   "metadata": {
    "execution": {
     "iopub.execute_input": "2023-05-30T10:44:19.769496Z",
     "iopub.status.busy": "2023-05-30T10:44:19.768430Z",
     "iopub.status.idle": "2023-05-30T10:44:19.832658Z",
     "shell.execute_reply": "2023-05-30T10:44:19.831131Z"
    },
    "papermill": {
     "duration": 0.081762,
     "end_time": "2023-05-30T10:44:19.835587",
     "exception": false,
     "start_time": "2023-05-30T10:44:19.753825",
     "status": "completed"
    },
    "tags": []
   },
   "outputs": [
    {
     "name": "stdout",
     "output_type": "stream",
     "text": [
      "(8640, 64) (1728, 64) (1152, 64)\n"
     ]
    }
   ],
   "source": [
    "lb = LabelBinarizer()\n",
    "y_train = lb.fit_transform(y_train)\n",
    "y_test = lb.fit_transform(y_test)\n",
    "y_val = lb.fit_transform(y_val)\n",
    "print(y_train.shape, y_test.shape, y_val.shape)"
   ]
  },
  {
   "cell_type": "code",
   "execution_count": 18,
   "id": "b2cad510",
   "metadata": {
    "execution": {
     "iopub.execute_input": "2023-05-30T10:44:19.864411Z",
     "iopub.status.busy": "2023-05-30T10:44:19.863377Z",
     "iopub.status.idle": "2023-05-30T10:44:19.872023Z",
     "shell.execute_reply": "2023-05-30T10:44:19.870555Z"
    },
    "papermill": {
     "duration": 0.027302,
     "end_time": "2023-05-30T10:44:19.875628",
     "exception": false,
     "start_time": "2023-05-30T10:44:19.848326",
     "status": "completed"
    },
    "tags": []
   },
   "outputs": [
    {
     "name": "stdout",
     "output_type": "stream",
     "text": [
      "[[0 0 0 ... 0 0 0]\n",
      " [0 0 0 ... 0 0 0]\n",
      " [0 0 0 ... 0 0 0]\n",
      " ...\n",
      " [0 0 0 ... 0 0 0]\n",
      " [0 0 0 ... 0 0 0]\n",
      " [0 0 0 ... 0 0 0]]\n",
      "[[0 0 0 ... 0 0 0]\n",
      " [0 0 0 ... 0 0 0]\n",
      " [0 0 0 ... 0 0 0]\n",
      " ...\n",
      " [0 0 0 ... 0 0 1]\n",
      " [0 0 0 ... 0 0 0]\n",
      " [0 0 0 ... 1 0 0]]\n",
      "[[0 0 0 ... 0 0 0]\n",
      " [0 0 0 ... 0 0 0]\n",
      " [0 0 0 ... 0 0 0]\n",
      " ...\n",
      " [0 0 0 ... 0 0 0]\n",
      " [0 0 0 ... 0 0 0]\n",
      " [0 1 0 ... 0 0 0]]\n"
     ]
    }
   ],
   "source": [
    "print(y_train)\n",
    "print(y_test)\n",
    "print(y_val)"
   ]
  },
  {
   "cell_type": "code",
   "execution_count": 19,
   "id": "afc035ad",
   "metadata": {
    "execution": {
     "iopub.execute_input": "2023-05-30T10:44:19.904713Z",
     "iopub.status.busy": "2023-05-30T10:44:19.903653Z",
     "iopub.status.idle": "2023-05-30T10:44:19.911284Z",
     "shell.execute_reply": "2023-05-30T10:44:19.909832Z"
    },
    "papermill": {
     "duration": 0.025445,
     "end_time": "2023-05-30T10:44:19.914110",
     "exception": false,
     "start_time": "2023-05-30T10:44:19.888665",
     "status": "completed"
    },
    "tags": []
   },
   "outputs": [
    {
     "name": "stdout",
     "output_type": "stream",
     "text": [
      "(8640, 64)\n",
      "(1728, 64)\n"
     ]
    }
   ],
   "source": [
    "print(y_train.shape)\n",
    "print(y_test.shape)"
   ]
  },
  {
   "cell_type": "markdown",
   "id": "83a64f0e",
   "metadata": {
    "id": "hW66EaXA4vnR",
    "papermill": {
     "duration": 0.012295,
     "end_time": "2023-05-30T10:44:19.939150",
     "exception": false,
     "start_time": "2023-05-30T10:44:19.926855",
     "status": "completed"
    },
    "tags": []
   },
   "source": [
    "### Creating Model\n"
   ]
  },
  {
   "cell_type": "code",
   "execution_count": 20,
   "id": "e05aefc9",
   "metadata": {
    "execution": {
     "iopub.execute_input": "2023-05-30T10:44:19.969001Z",
     "iopub.status.busy": "2023-05-30T10:44:19.968035Z",
     "iopub.status.idle": "2023-05-30T10:44:19.973537Z",
     "shell.execute_reply": "2023-05-30T10:44:19.972551Z"
    },
    "id": "HO1XBt5P5bP2",
    "papermill": {
     "duration": 0.024235,
     "end_time": "2023-05-30T10:44:19.976166",
     "exception": false,
     "start_time": "2023-05-30T10:44:19.951931",
     "status": "completed"
    },
    "tags": []
   },
   "outputs": [],
   "source": [
    "# import datetime\n",
    "# from tensorflow.keras.callbacks import TensorBoard\n",
    "# log_dir = \"logs/inceptionV3/\" + datetime.datetime.now().strftime(\"%Y%m%d-%H%M%S\")\n",
    "# tensorboard_callback = tf.keras.callbacks.TensorBoard(log_dir=log_dir, histogram_freq=1)"
   ]
  },
  {
   "cell_type": "code",
   "execution_count": 21,
   "id": "3ec5c886",
   "metadata": {
    "execution": {
     "iopub.execute_input": "2023-05-30T10:44:20.003607Z",
     "iopub.status.busy": "2023-05-30T10:44:20.002819Z",
     "iopub.status.idle": "2023-05-30T10:44:20.016642Z",
     "shell.execute_reply": "2023-05-30T10:44:20.015504Z"
    },
    "id": "Na7WBFiuVxxC",
    "papermill": {
     "duration": 0.030912,
     "end_time": "2023-05-30T10:44:20.019669",
     "exception": false,
     "start_time": "2023-05-30T10:44:19.988757",
     "status": "completed"
    },
    "tags": []
   },
   "outputs": [],
   "source": [
    "num_classes = dataset.District.nunique()\n",
    "input_shape = (new_height, new_weight, 3)\n",
    "# input_shape = X.shape"
   ]
  },
  {
   "cell_type": "code",
   "execution_count": 22,
   "id": "e57b448b",
   "metadata": {
    "execution": {
     "iopub.execute_input": "2023-05-30T10:44:20.047025Z",
     "iopub.status.busy": "2023-05-30T10:44:20.046296Z",
     "iopub.status.idle": "2023-05-30T10:44:20.051481Z",
     "shell.execute_reply": "2023-05-30T10:44:20.050544Z"
    },
    "id": "5w63KZn95bP3",
    "papermill": {
     "duration": 0.021581,
     "end_time": "2023-05-30T10:44:20.053838",
     "exception": false,
     "start_time": "2023-05-30T10:44:20.032257",
     "status": "completed"
    },
    "tags": []
   },
   "outputs": [],
   "source": [
    "# Set hyperparameters\n",
    "dropout_rate = 0.5"
   ]
  },
  {
   "cell_type": "code",
   "execution_count": 23,
   "id": "45237737",
   "metadata": {
    "execution": {
     "iopub.execute_input": "2023-05-30T10:44:20.080503Z",
     "iopub.status.busy": "2023-05-30T10:44:20.080045Z",
     "iopub.status.idle": "2023-05-30T10:44:24.100634Z",
     "shell.execute_reply": "2023-05-30T10:44:24.099096Z"
    },
    "papermill": {
     "duration": 4.037817,
     "end_time": "2023-05-30T10:44:24.103932",
     "exception": false,
     "start_time": "2023-05-30T10:44:20.066115",
     "status": "completed"
    },
    "tags": []
   },
   "outputs": [
    {
     "name": "stdout",
     "output_type": "stream",
     "text": [
      "Downloading data from https://storage.googleapis.com/tensorflow/keras-applications/resnet/resnet50v2_weights_tf_dim_ordering_tf_kernels_notop.h5\n",
      "94668760/94668760 [==============================] - 1s 0us/step\n"
     ]
    }
   ],
   "source": [
    "# Load the pre-trained model\n",
    "resnet50V2 = tf.keras.applications.ResNet50V2(weights='imagenet',input_shape=input_shape, include_top=False)\n",
    "\n",
    "# Freeze the weights of the pre-trained layers\n",
    "for layer in resnet50V2.layers:\n",
    "    layer.trainable = False\n",
    "\n",
    "# Add your custom layers to the top of the pre-trained model\n",
    "resnet50v2_model = models.Sequential()\n",
    "resnet50v2_model.add(resnet50V2)\n",
    "resnet50v2_model.add(layers.Flatten())\n",
    "resnet50v2_model.add(layers.Dense(units=num_classes, activation='softmax'))"
   ]
  },
  {
   "cell_type": "code",
   "execution_count": 24,
   "id": "f27d076b",
   "metadata": {
    "execution": {
     "iopub.execute_input": "2023-05-30T10:44:24.133757Z",
     "iopub.status.busy": "2023-05-30T10:44:24.133230Z",
     "iopub.status.idle": "2023-05-30T10:44:24.165282Z",
     "shell.execute_reply": "2023-05-30T10:44:24.164148Z"
    },
    "executionInfo": {
     "elapsed": 423,
     "status": "ok",
     "timestamp": 1678650929689,
     "user": {
      "displayName": "1578_Avishek Chowdhury",
      "userId": "14734427622886483691"
     },
     "user_tz": -360
    },
    "id": "ATyz_NHT0GBM",
    "outputId": "952dba93-f347-4fd3-d995-035110067110",
    "papermill": {
     "duration": 0.050802,
     "end_time": "2023-05-30T10:44:24.168072",
     "exception": false,
     "start_time": "2023-05-30T10:44:24.117270",
     "status": "completed"
    },
    "tags": []
   },
   "outputs": [
    {
     "name": "stdout",
     "output_type": "stream",
     "text": [
      "Model: \"sequential\"\n",
      "_________________________________________________________________\n",
      " Layer (type)                Output Shape              Param #   \n",
      "=================================================================\n",
      " resnet50v2 (Functional)     (None, 3, 8, 2048)        23564800  \n",
      "                                                                 \n",
      " flatten (Flatten)           (None, 49152)             0         \n",
      "                                                                 \n",
      " dense (Dense)               (None, 64)                3145792   \n",
      "                                                                 \n",
      "=================================================================\n",
      "Total params: 26,710,592\n",
      "Trainable params: 3,145,792\n",
      "Non-trainable params: 23,564,800\n",
      "_________________________________________________________________\n"
     ]
    }
   ],
   "source": [
    "resnet50v2_model.summary()"
   ]
  },
  {
   "cell_type": "code",
   "execution_count": 25,
   "id": "39a4580c",
   "metadata": {
    "execution": {
     "iopub.execute_input": "2023-05-30T10:44:24.199949Z",
     "iopub.status.busy": "2023-05-30T10:44:24.199539Z",
     "iopub.status.idle": "2023-05-30T10:44:24.205175Z",
     "shell.execute_reply": "2023-05-30T10:44:24.203343Z"
    },
    "papermill": {
     "duration": 0.025522,
     "end_time": "2023-05-30T10:44:24.208190",
     "exception": false,
     "start_time": "2023-05-30T10:44:24.182668",
     "status": "completed"
    },
    "tags": []
   },
   "outputs": [],
   "source": [
    "# !pip install visualkeras\n",
    "# import visualkeras"
   ]
  },
  {
   "cell_type": "code",
   "execution_count": 26,
   "id": "0c8d310a",
   "metadata": {
    "execution": {
     "iopub.execute_input": "2023-05-30T10:44:24.239969Z",
     "iopub.status.busy": "2023-05-30T10:44:24.239459Z",
     "iopub.status.idle": "2023-05-30T10:44:24.246081Z",
     "shell.execute_reply": "2023-05-30T10:44:24.244616Z"
    },
    "papermill": {
     "duration": 0.025885,
     "end_time": "2023-05-30T10:44:24.248739",
     "exception": false,
     "start_time": "2023-05-30T10:44:24.222854",
     "status": "completed"
    },
    "tags": []
   },
   "outputs": [],
   "source": [
    "# visualkeras.layered_view(resnet50v2_model, legend=True, draw_volume=False)"
   ]
  },
  {
   "cell_type": "code",
   "execution_count": 27,
   "id": "89f1f578",
   "metadata": {
    "execution": {
     "iopub.execute_input": "2023-05-30T10:44:24.280181Z",
     "iopub.status.busy": "2023-05-30T10:44:24.279681Z",
     "iopub.status.idle": "2023-05-30T10:44:24.575868Z",
     "shell.execute_reply": "2023-05-30T10:44:24.573828Z"
    },
    "papermill": {
     "duration": 0.314916,
     "end_time": "2023-05-30T10:44:24.578725",
     "exception": false,
     "start_time": "2023-05-30T10:44:24.263809",
     "status": "completed"
    },
    "tags": []
   },
   "outputs": [
    {
     "data": {
      "image/png": "[encoded data removed]",
      "text/plain": [
       "<IPython.core.display.Image object>"
      ]
     },
     "execution_count": 27,
     "metadata": {},
     "output_type": "execute_result"
    }
   ],
   "source": [
    "from tensorflow.keras.utils import plot_model\n",
    "plot_model(resnet50v2_model, to_file='resnet50v2_model.png', show_shapes=True, show_layer_activations=True)"
   ]
  },
  {
   "cell_type": "markdown",
   "id": "132e6cf2",
   "metadata": {
    "papermill": {
     "duration": 0.01455,
     "end_time": "2023-05-30T10:44:24.608255",
     "exception": false,
     "start_time": "2023-05-30T10:44:24.593705",
     "status": "completed"
    },
    "tags": []
   },
   "source": [
    "### Training & Evaluating the Model\n"
   ]
  },
  {
   "cell_type": "code",
   "execution_count": 28,
   "id": "6cc35301",
   "metadata": {
    "execution": {
     "iopub.execute_input": "2023-05-30T10:44:24.640678Z",
     "iopub.status.busy": "2023-05-30T10:44:24.640091Z",
     "iopub.status.idle": "2023-05-30T10:44:24.646865Z",
     "shell.execute_reply": "2023-05-30T10:44:24.645523Z"
    },
    "papermill": {
     "duration": 0.026252,
     "end_time": "2023-05-30T10:44:24.649284",
     "exception": false,
     "start_time": "2023-05-30T10:44:24.623032",
     "status": "completed"
    },
    "tags": []
   },
   "outputs": [],
   "source": [
    "epochs = 25\n",
    "k = 5"
   ]
  },
  {
   "cell_type": "code",
   "execution_count": 29,
   "id": "5160ad95",
   "metadata": {
    "execution": {
     "iopub.execute_input": "2023-05-30T10:44:24.682244Z",
     "iopub.status.busy": "2023-05-30T10:44:24.681736Z",
     "iopub.status.idle": "2023-05-30T10:44:24.716725Z",
     "shell.execute_reply": "2023-05-30T10:44:24.714979Z"
    },
    "id": "KyFKGexVET4M",
    "papermill": {
     "duration": 0.055736,
     "end_time": "2023-05-30T10:44:24.720350",
     "exception": false,
     "start_time": "2023-05-30T10:44:24.664614",
     "status": "completed"
    },
    "tags": []
   },
   "outputs": [],
   "source": [
    "resnet50v2_model.compile(optimizer='adam', loss='categorical_crossentropy', metrics=['accuracy','top_k_categorical_accuracy'])"
   ]
  },
  {
   "cell_type": "code",
   "execution_count": 30,
   "id": "17a66577",
   "metadata": {
    "execution": {
     "iopub.execute_input": "2023-05-30T10:44:24.753082Z",
     "iopub.status.busy": "2023-05-30T10:44:24.752580Z",
     "iopub.status.idle": "2023-05-30T12:51:09.917687Z",
     "shell.execute_reply": "2023-05-30T12:51:09.915899Z"
    },
    "executionInfo": {
     "elapsed": 441840,
     "status": "ok",
     "timestamp": 1678651371331,
     "user": {
      "displayName": "1578_Avishek Chowdhury",
      "userId": "14734427622886483691"
     },
     "user_tz": -360
    },
    "id": "358VdnTrAD0A",
    "outputId": "9fed86f0-ab2f-4e9e-b2d6-d18c16fe7a36",
    "papermill": {
     "duration": 7605.671387,
     "end_time": "2023-05-30T12:51:10.406639",
     "exception": false,
     "start_time": "2023-05-30T10:44:24.735252",
     "status": "completed"
    },
    "tags": []
   },
   "outputs": [
    {
     "name": "stdout",
     "output_type": "stream",
     "text": [
      "Epoch 1/25\n",
      "270/270 [==============================] - 310s 1s/step - loss: 2.8815 - accuracy: 0.5367 - top_k_categorical_accuracy: 0.7932 - val_loss: 1.7771 - val_accuracy: 0.7161 - val_top_k_categorical_accuracy: 0.9201\n",
      "Epoch 2/25\n",
      "270/270 [==============================] - 298s 1s/step - loss: 0.2702 - accuracy: 0.9323 - top_k_categorical_accuracy: 0.9950 - val_loss: 1.3512 - val_accuracy: 0.7648 - val_top_k_categorical_accuracy: 0.9514\n",
      "Epoch 3/25\n",
      "270/270 [==============================] - 303s 1s/step - loss: 0.1216 - accuracy: 0.9685 - top_k_categorical_accuracy: 0.9992 - val_loss: 1.4241 - val_accuracy: 0.7839 - val_top_k_categorical_accuracy: 0.9479\n",
      "Epoch 4/25\n",
      "270/270 [==============================] - 306s 1s/step - loss: 0.0947 - accuracy: 0.9770 - top_k_categorical_accuracy: 0.9992 - val_loss: 1.3640 - val_accuracy: 0.8030 - val_top_k_categorical_accuracy: 0.9470\n",
      "Epoch 5/25\n",
      "270/270 [==============================] - 305s 1s/step - loss: 0.1159 - accuracy: 0.9701 - top_k_categorical_accuracy: 0.9985 - val_loss: 2.0822 - val_accuracy: 0.7240 - val_top_k_categorical_accuracy: 0.9358\n",
      "Epoch 6/25\n",
      "270/270 [==============================] - 304s 1s/step - loss: 0.1817 - accuracy: 0.9601 - top_k_categorical_accuracy: 0.9980 - val_loss: 2.2613 - val_accuracy: 0.7378 - val_top_k_categorical_accuracy: 0.9323\n",
      "Epoch 7/25\n",
      "270/270 [==============================] - 296s 1s/step - loss: 0.3751 - accuracy: 0.9372 - top_k_categorical_accuracy: 0.9944 - val_loss: 2.5884 - val_accuracy: 0.7387 - val_top_k_categorical_accuracy: 0.9306\n",
      "Epoch 8/25\n",
      "270/270 [==============================] - 300s 1s/step - loss: 0.2722 - accuracy: 0.9515 - top_k_categorical_accuracy: 0.9972 - val_loss: 2.3266 - val_accuracy: 0.7717 - val_top_k_categorical_accuracy: 0.9401\n",
      "Epoch 9/25\n",
      "270/270 [==============================] - 305s 1s/step - loss: 0.1819 - accuracy: 0.9668 - top_k_categorical_accuracy: 0.9986 - val_loss: 2.8967 - val_accuracy: 0.7500 - val_top_k_categorical_accuracy: 0.9366\n",
      "Epoch 10/25\n",
      "270/270 [==============================] - 306s 1s/step - loss: 0.0861 - accuracy: 0.9859 - top_k_categorical_accuracy: 0.9988 - val_loss: 2.5862 - val_accuracy: 0.7648 - val_top_k_categorical_accuracy: 0.9410\n",
      "Epoch 11/25\n",
      "270/270 [==============================] - 305s 1s/step - loss: 0.1221 - accuracy: 0.9781 - top_k_categorical_accuracy: 0.9997 - val_loss: 2.8270 - val_accuracy: 0.7630 - val_top_k_categorical_accuracy: 0.9462\n",
      "Epoch 12/25\n",
      "270/270 [==============================] - 306s 1s/step - loss: 0.1279 - accuracy: 0.9795 - top_k_categorical_accuracy: 0.9990 - val_loss: 3.3775 - val_accuracy: 0.7474 - val_top_k_categorical_accuracy: 0.9375\n",
      "Epoch 13/25\n",
      "270/270 [==============================] - 306s 1s/step - loss: 0.1568 - accuracy: 0.9743 - top_k_categorical_accuracy: 0.9995 - val_loss: 3.1781 - val_accuracy: 0.7691 - val_top_k_categorical_accuracy: 0.9384\n",
      "Epoch 14/25\n",
      "270/270 [==============================] - 305s 1s/step - loss: 0.1580 - accuracy: 0.9736 - top_k_categorical_accuracy: 0.9994 - val_loss: 3.6665 - val_accuracy: 0.7578 - val_top_k_categorical_accuracy: 0.9306\n",
      "Epoch 15/25\n",
      "270/270 [==============================] - 306s 1s/step - loss: 0.1589 - accuracy: 0.9771 - top_k_categorical_accuracy: 0.9984 - val_loss: 3.2949 - val_accuracy: 0.7865 - val_top_k_categorical_accuracy: 0.9488\n",
      "Epoch 16/25\n",
      "270/270 [==============================] - 305s 1s/step - loss: 0.0965 - accuracy: 0.9860 - top_k_categorical_accuracy: 0.9994 - val_loss: 3.4401 - val_accuracy: 0.7778 - val_top_k_categorical_accuracy: 0.9470\n",
      "Epoch 17/25\n",
      "270/270 [==============================] - 299s 1s/step - loss: 0.1177 - accuracy: 0.9823 - top_k_categorical_accuracy: 0.9992 - val_loss: 3.1421 - val_accuracy: 0.7899 - val_top_k_categorical_accuracy: 0.9462\n",
      "Epoch 18/25\n",
      "270/270 [==============================] - 305s 1s/step - loss: 0.1729 - accuracy: 0.9787 - top_k_categorical_accuracy: 0.9983 - val_loss: 3.7246 - val_accuracy: 0.7517 - val_top_k_categorical_accuracy: 0.9306\n",
      "Epoch 19/25\n",
      "270/270 [==============================] - 306s 1s/step - loss: 0.1036 - accuracy: 0.9855 - top_k_categorical_accuracy: 0.9991 - val_loss: 3.4530 - val_accuracy: 0.7995 - val_top_k_categorical_accuracy: 0.9488\n",
      "Epoch 20/25\n",
      "270/270 [==============================] - 302s 1s/step - loss: 0.0802 - accuracy: 0.9870 - top_k_categorical_accuracy: 0.9998 - val_loss: 3.6583 - val_accuracy: 0.7891 - val_top_k_categorical_accuracy: 0.9505\n",
      "Epoch 21/25\n",
      "270/270 [==============================] - 300s 1s/step - loss: 0.1029 - accuracy: 0.9869 - top_k_categorical_accuracy: 0.9997 - val_loss: 3.4531 - val_accuracy: 0.7882 - val_top_k_categorical_accuracy: 0.9549\n",
      "Epoch 22/25\n",
      "270/270 [==============================] - 307s 1s/step - loss: 0.1057 - accuracy: 0.9876 - top_k_categorical_accuracy: 0.9998 - val_loss: 3.4418 - val_accuracy: 0.7969 - val_top_k_categorical_accuracy: 0.9470\n",
      "Epoch 23/25\n",
      "270/270 [==============================] - 308s 1s/step - loss: 0.1204 - accuracy: 0.9856 - top_k_categorical_accuracy: 0.9995 - val_loss: 4.1966 - val_accuracy: 0.7552 - val_top_k_categorical_accuracy: 0.9531\n",
      "Epoch 24/25\n",
      "270/270 [==============================] - 301s 1s/step - loss: 0.1571 - accuracy: 0.9807 - top_k_categorical_accuracy: 0.9988 - val_loss: 3.6630 - val_accuracy: 0.7899 - val_top_k_categorical_accuracy: 0.9601\n",
      "Epoch 25/25\n",
      "270/270 [==============================] - 306s 1s/step - loss: 0.1853 - accuracy: 0.9793 - top_k_categorical_accuracy: 0.9995 - val_loss: 4.5168 - val_accuracy: 0.7656 - val_top_k_categorical_accuracy: 0.9401\n"
     ]
    }
   ],
   "source": [
    "# history  = resnet50v2_model.fit(X_train, y_train, validation_data=(X_val, y_val), epochs=epochs, callbacks=[tensorboard_callback])\n",
    "history  = resnet50v2_model.fit(X_train, y_train, validation_data=(X_val, y_val), epochs=epochs)"
   ]
  },
  {
   "cell_type": "code",
   "execution_count": 31,
   "id": "8eb76f9a",
   "metadata": {
    "execution": {
     "iopub.execute_input": "2023-05-30T12:51:11.496656Z",
     "iopub.status.busy": "2023-05-30T12:51:11.495090Z",
     "iopub.status.idle": "2023-05-30T12:52:05.697602Z",
     "shell.execute_reply": "2023-05-30T12:52:05.695594Z"
    },
    "id": "XejIje1UAHZK",
    "papermill": {
     "duration": 54.805216,
     "end_time": "2023-05-30T12:52:05.701134",
     "exception": false,
     "start_time": "2023-05-30T12:51:10.895918",
     "status": "completed"
    },
    "tags": []
   },
   "outputs": [
    {
     "name": "stdout",
     "output_type": "stream",
     "text": [
      "54/54 [==============================] - 52s 961ms/step - loss: 4.5762 - accuracy: 0.7622 - top_k_categorical_accuracy: 0.9433\n"
     ]
    }
   ],
   "source": [
    "# history_test = resnet50v2_model.evaluate(X_test, y_test, callbacks=[tensorboard_callback])\n",
    "history_test = resnet50v2_model.evaluate(X_test, y_test)"
   ]
  },
  {
   "cell_type": "code",
   "execution_count": 32,
   "id": "e2ea0c28",
   "metadata": {
    "execution": {
     "iopub.execute_input": "2023-05-30T12:52:06.679218Z",
     "iopub.status.busy": "2023-05-30T12:52:06.678683Z",
     "iopub.status.idle": "2023-05-30T12:52:06.684613Z",
     "shell.execute_reply": "2023-05-30T12:52:06.683150Z"
    },
    "papermill": {
     "duration": 0.498462,
     "end_time": "2023-05-30T12:52:06.687052",
     "exception": false,
     "start_time": "2023-05-30T12:52:06.188590",
     "status": "completed"
    },
    "tags": []
   },
   "outputs": [],
   "source": [
    "# y_predicted = resnet50v2_model.predict(X_test)"
   ]
  },
  {
   "cell_type": "code",
   "execution_count": 33,
   "id": "b3e10470",
   "metadata": {
    "execution": {
     "iopub.execute_input": "2023-05-30T12:52:07.621160Z",
     "iopub.status.busy": "2023-05-30T12:52:07.619191Z",
     "iopub.status.idle": "2023-05-30T12:52:07.625910Z",
     "shell.execute_reply": "2023-05-30T12:52:07.624629Z"
    },
    "papermill": {
     "duration": 0.474958,
     "end_time": "2023-05-30T12:52:07.628538",
     "exception": false,
     "start_time": "2023-05-30T12:52:07.153580",
     "status": "completed"
    },
    "tags": []
   },
   "outputs": [],
   "source": [
    "# y_test_label = lb.inverse_transform(y_test)\n",
    "# y_predicted_label = lb.inverse_transform(y_predicted)"
   ]
  },
  {
   "cell_type": "code",
   "execution_count": 34,
   "id": "09fa0d29",
   "metadata": {
    "execution": {
     "iopub.execute_input": "2023-05-30T12:52:08.652358Z",
     "iopub.status.busy": "2023-05-30T12:52:08.651364Z",
     "iopub.status.idle": "2023-05-30T12:52:08.657147Z",
     "shell.execute_reply": "2023-05-30T12:52:08.656075Z"
    },
    "papermill": {
     "duration": 0.476906,
     "end_time": "2023-05-30T12:52:08.659791",
     "exception": false,
     "start_time": "2023-05-30T12:52:08.182885",
     "status": "completed"
    },
    "tags": []
   },
   "outputs": [],
   "source": [
    "# print(\"Classification Report:\")\n",
    "# clr = classification_report(y_test_label, y_predicted_label)\n",
    "# print(clr)"
   ]
  },
  {
   "cell_type": "code",
   "execution_count": 35,
   "id": "143b91a8",
   "metadata": {
    "execution": {
     "iopub.execute_input": "2023-05-30T12:52:09.591739Z",
     "iopub.status.busy": "2023-05-30T12:52:09.589856Z",
     "iopub.status.idle": "2023-05-30T12:52:09.597243Z",
     "shell.execute_reply": "2023-05-30T12:52:09.594761Z"
    },
    "papermill": {
     "duration": 0.482411,
     "end_time": "2023-05-30T12:52:09.602058",
     "exception": false,
     "start_time": "2023-05-30T12:52:09.119647",
     "status": "completed"
    },
    "tags": []
   },
   "outputs": [],
   "source": [
    "# print(\"Confusion Matrix:\")\n",
    "# multilabel_cm = multilabel_confusion_matrix(y_test_label, y_predicted_label)\n",
    "# cm = confusion_matrix(y_test_label, y_predicted_label)\n",
    "# print(cm)"
   ]
  },
  {
   "cell_type": "code",
   "execution_count": 36,
   "id": "af7bcec1",
   "metadata": {
    "execution": {
     "iopub.execute_input": "2023-05-30T12:52:10.617827Z",
     "iopub.status.busy": "2023-05-30T12:52:10.616223Z",
     "iopub.status.idle": "2023-05-30T12:52:10.622462Z",
     "shell.execute_reply": "2023-05-30T12:52:10.621165Z"
    },
    "papermill": {
     "duration": 0.550715,
     "end_time": "2023-05-30T12:52:10.624833",
     "exception": false,
     "start_time": "2023-05-30T12:52:10.074118",
     "status": "completed"
    },
    "tags": []
   },
   "outputs": [],
   "source": [
    "# cm_df = pd.DataFrame(cm, index = dataset.District.unique(), columns = dataset.District.unique())\n",
    "# plt.figure(figsize=(20,20))\n",
    "# cm_plot = sb.heatmap(cm_df, cmap=\"YlGnBu\", annot=True)\n",
    "# plt.title('Confusion Matrix')\n",
    "# plt.ylabel('Actual Class')\n",
    "# plt.xlabel('Predicted Class')\n",
    "# plt.show(cm_plot)"
   ]
  },
  {
   "cell_type": "code",
   "execution_count": 37,
   "id": "a6e7634d",
   "metadata": {
    "execution": {
     "iopub.execute_input": "2023-05-30T12:52:11.616091Z",
     "iopub.status.busy": "2023-05-30T12:52:11.615543Z",
     "iopub.status.idle": "2023-05-30T12:52:11.620853Z",
     "shell.execute_reply": "2023-05-30T12:52:11.619719Z"
    },
    "id": "9eIEbjfq5bQF",
    "papermill": {
     "duration": 0.507302,
     "end_time": "2023-05-30T12:52:11.623806",
     "exception": false,
     "start_time": "2023-05-30T12:52:11.116504",
     "status": "completed"
    },
    "tags": []
   },
   "outputs": [],
   "source": [
    "# !zip -r logs.zip logs/"
   ]
  }
 ],
 "metadata": {
  "kernelspec": {
   "display_name": "Python 3",
   "language": "python",
   "name": "python3"
  },
  "language_info": {
   "codemirror_mode": {
    "name": "ipython",
    "version": 3
   },
   "file_extension": ".py",
   "mimetype": "text/x-python",
   "name": "python",
   "nbconvert_exporter": "python",
   "pygments_lexer": "ipython3",
   "version": "3.7.12"
  },
  "papermill": {
   "default_parameters": {},
   "duration": 7767.740769,
   "end_time": "2023-05-30T12:52:15.504233",
   "environment_variables": {},
   "exception": null,
   "input_path": "__notebook__.ipynb",
   "output_path": "__notebook__.ipynb",
   "parameters": {},
   "start_time": "2023-05-30T10:42:47.763464",
   "version": "2.4.0"
  }
 },
 "nbformat": 4,
 "nbformat_minor": 5
}
