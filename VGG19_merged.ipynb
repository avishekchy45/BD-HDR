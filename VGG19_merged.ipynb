{
 "cells": [
  {
   "cell_type": "markdown",
   "id": "67ae0cdb",
   "metadata": {
    "id": "h_wjgss_l-wv",
    "papermill": {
     "duration": 0.016317,
     "end_time": "2023-05-30T09:39:00.029647",
     "exception": false,
     "start_time": "2023-05-30T09:39:00.013330",
     "status": "completed"
    },
    "tags": []
   },
   "source": [
    "## Convolutional Neural Network"
   ]
  },
  {
   "cell_type": "markdown",
   "id": "16c7fbc5",
   "metadata": {
    "id": "qHQuMV6VWYru",
    "papermill": {
     "duration": 0.015036,
     "end_time": "2023-05-30T09:39:00.061725",
     "exception": false,
     "start_time": "2023-05-30T09:39:00.046689",
     "status": "completed"
    },
    "tags": []
   },
   "source": [
    "### Mount Drive"
   ]
  },
  {
   "cell_type": "code",
   "execution_count": 1,
   "id": "c2ebb7a9",
   "metadata": {
    "execution": {
     "iopub.execute_input": "2023-05-30T09:39:00.094248Z",
     "iopub.status.busy": "2023-05-30T09:39:00.093782Z",
     "iopub.status.idle": "2023-05-30T09:39:00.099641Z",
     "shell.execute_reply": "2023-05-30T09:39:00.098571Z"
    },
    "id": "zt98eHYUWV-2",
    "papermill": {
     "duration": 0.031371,
     "end_time": "2023-05-30T09:39:00.108410",
     "exception": false,
     "start_time": "2023-05-30T09:39:00.077039",
     "status": "completed"
    },
    "tags": []
   },
   "outputs": [],
   "source": [
    "# from google.colab import drive\n",
    "# drive.mount(\"/content/drive\")"
   ]
  },
  {
   "cell_type": "markdown",
   "id": "441baa84",
   "metadata": {
    "id": "Ud6hFF4rnhQK",
    "papermill": {
     "duration": 0.015865,
     "end_time": "2023-05-30T09:39:00.140894",
     "exception": false,
     "start_time": "2023-05-30T09:39:00.125029",
     "status": "completed"
    },
    "tags": []
   },
   "source": [
    "### Importing Packages"
   ]
  },
  {
   "cell_type": "code",
   "execution_count": 2,
   "id": "c2912bfa",
   "metadata": {
    "execution": {
     "iopub.execute_input": "2023-05-30T09:39:00.174404Z",
     "iopub.status.busy": "2023-05-30T09:39:00.173503Z",
     "iopub.status.idle": "2023-05-30T09:39:12.928672Z",
     "shell.execute_reply": "2023-05-30T09:39:12.926937Z"
    },
    "id": "RfU8VXwvngn0",
    "papermill": {
     "duration": 12.775625,
     "end_time": "2023-05-30T09:39:12.932167",
     "exception": false,
     "start_time": "2023-05-30T09:39:00.156542",
     "status": "completed"
    },
    "tags": []
   },
   "outputs": [],
   "source": [
    "# Fetching Dataset\n",
    "import pandas as pd\n",
    "\n",
    "# Reading Images\n",
    "import numpy as np\n",
    "import cv2 as cv\n",
    "\n",
    "# Scaling Features\n",
    "from sklearn.preprocessing import MinMaxScaler\n",
    "\n",
    "# Spliting Train & Test Set\n",
    "from sklearn.model_selection import train_test_split\n",
    "# from fast_ml.model_development import train_valid_test_split\n",
    "\n",
    "# Binarizing Output\n",
    "from sklearn.preprocessing import LabelBinarizer\n",
    "\n",
    "# Creating Model\n",
    "import tensorflow as tf\n",
    "from tensorflow.keras import layers,models\n",
    "\n",
    "# Training and Evaluating the Model\n",
    "from sklearn.metrics import (classification_report, multilabel_confusion_matrix, confusion_matrix)\n",
    "import seaborn as sb\n",
    "import matplotlib.pyplot as plt\n",
    "\n",
    "# Making Predictions\n",
    "\n",
    "# BD_DB_64\n"
   ]
  },
  {
   "cell_type": "markdown",
   "id": "3fee4c24",
   "metadata": {
    "id": "DOoaGBDk-FU_",
    "papermill": {
     "duration": 0.015443,
     "end_time": "2023-05-30T09:39:12.962968",
     "exception": false,
     "start_time": "2023-05-30T09:39:12.947525",
     "status": "completed"
    },
    "tags": []
   },
   "source": [
    "### Fetching Dataset"
   ]
  },
  {
   "cell_type": "code",
   "execution_count": 3,
   "id": "53605be7",
   "metadata": {
    "execution": {
     "iopub.execute_input": "2023-05-30T09:39:12.997663Z",
     "iopub.status.busy": "2023-05-30T09:39:12.996724Z",
     "iopub.status.idle": "2023-05-30T09:39:13.047108Z",
     "shell.execute_reply": "2023-05-30T09:39:13.045725Z"
    },
    "id": "_bPX1QuDWDmS",
    "papermill": {
     "duration": 0.071385,
     "end_time": "2023-05-30T09:39:13.050159",
     "exception": false,
     "start_time": "2023-05-30T09:39:12.978774",
     "status": "completed"
    },
    "tags": []
   },
   "outputs": [],
   "source": [
    "# dataset_dir = \"/content/drive/MyDrive/Dataset/Dataset_Thesis/\"\n",
    "dataset_dir = \"/kaggle/input/dataset-thesis/\"\n",
    "dataset = pd.read_csv(dataset_dir + \"merged/merged.csv\")"
   ]
  },
  {
   "cell_type": "code",
   "execution_count": 4,
   "id": "b691bd03",
   "metadata": {
    "execution": {
     "iopub.execute_input": "2023-05-30T09:39:13.084020Z",
     "iopub.status.busy": "2023-05-30T09:39:13.083199Z",
     "iopub.status.idle": "2023-05-30T09:39:13.118401Z",
     "shell.execute_reply": "2023-05-30T09:39:13.116689Z"
    },
    "executionInfo": {
     "elapsed": 40,
     "status": "ok",
     "timestamp": 1678650881154,
     "user": {
      "displayName": "1578_Avishek Chowdhury",
      "userId": "14734427622886483691"
     },
     "user_tz": -360
    },
    "id": "PixqtQeFliAX",
    "outputId": "89a79bde-5ed5-4de9-ea75-43783ea85031",
    "papermill": {
     "duration": 0.056311,
     "end_time": "2023-05-30T09:39:13.121891",
     "exception": false,
     "start_time": "2023-05-30T09:39:13.065580",
     "status": "completed"
    },
    "tags": []
   },
   "outputs": [
    {
     "data": {
      "text/html": [
       "<div>\n",
       "<style scoped>\n",
       "    .dataframe tbody tr th:only-of-type {\n",
       "        vertical-align: middle;\n",
       "    }\n",
       "\n",
       "    .dataframe tbody tr th {\n",
       "        vertical-align: top;\n",
       "    }\n",
       "\n",
       "    .dataframe thead th {\n",
       "        text-align: right;\n",
       "    }\n",
       "</style>\n",
       "<table border=\"1\" class=\"dataframe\">\n",
       "  <thead>\n",
       "    <tr style=\"text-align: right;\">\n",
       "      <th></th>\n",
       "      <th>Filename</th>\n",
       "      <th>District</th>\n",
       "    </tr>\n",
       "  </thead>\n",
       "  <tbody>\n",
       "    <tr>\n",
       "      <th>0</th>\n",
       "      <td>0_16_1_0018_ (222).png</td>\n",
       "      <td>Bagerhat</td>\n",
       "    </tr>\n",
       "    <tr>\n",
       "      <th>1</th>\n",
       "      <td>0_14_1_0010_ (45).png</td>\n",
       "      <td>Bagerhat</td>\n",
       "    </tr>\n",
       "    <tr>\n",
       "      <th>2</th>\n",
       "      <td>0_14_1_0009_ (45).png</td>\n",
       "      <td>Bagerhat</td>\n",
       "    </tr>\n",
       "    <tr>\n",
       "      <th>3</th>\n",
       "      <td>0_16_1_0018_ (221).png</td>\n",
       "      <td>Bagerhat</td>\n",
       "    </tr>\n",
       "    <tr>\n",
       "      <th>4</th>\n",
       "      <td>0_16_1_0018_ (225).png</td>\n",
       "      <td>Bagerhat</td>\n",
       "    </tr>\n",
       "    <tr>\n",
       "      <th>...</th>\n",
       "      <td>...</td>\n",
       "      <td>...</td>\n",
       "    </tr>\n",
       "    <tr>\n",
       "      <th>11515</th>\n",
       "      <td>Thakurgaon_5 (2).jpg</td>\n",
       "      <td>Thakurgaon</td>\n",
       "    </tr>\n",
       "    <tr>\n",
       "      <th>11516</th>\n",
       "      <td>Thakurgaon_61.jpg</td>\n",
       "      <td>Thakurgaon</td>\n",
       "    </tr>\n",
       "    <tr>\n",
       "      <th>11517</th>\n",
       "      <td>Thakurgaon_19 (2).jpg</td>\n",
       "      <td>Thakurgaon</td>\n",
       "    </tr>\n",
       "    <tr>\n",
       "      <th>11518</th>\n",
       "      <td>Thakurgaon_60.jpg</td>\n",
       "      <td>Thakurgaon</td>\n",
       "    </tr>\n",
       "    <tr>\n",
       "      <th>11519</th>\n",
       "      <td>Thakurgaon_62.jpg</td>\n",
       "      <td>Thakurgaon</td>\n",
       "    </tr>\n",
       "  </tbody>\n",
       "</table>\n",
       "<p>11520 rows × 2 columns</p>\n",
       "</div>"
      ],
      "text/plain": [
       "                     Filename    District\n",
       "0      0_16_1_0018_ (222).png    Bagerhat\n",
       "1       0_14_1_0010_ (45).png    Bagerhat\n",
       "2       0_14_1_0009_ (45).png    Bagerhat\n",
       "3      0_16_1_0018_ (221).png    Bagerhat\n",
       "4      0_16_1_0018_ (225).png    Bagerhat\n",
       "...                       ...         ...\n",
       "11515    Thakurgaon_5 (2).jpg  Thakurgaon\n",
       "11516       Thakurgaon_61.jpg  Thakurgaon\n",
       "11517   Thakurgaon_19 (2).jpg  Thakurgaon\n",
       "11518       Thakurgaon_60.jpg  Thakurgaon\n",
       "11519       Thakurgaon_62.jpg  Thakurgaon\n",
       "\n",
       "[11520 rows x 2 columns]"
      ]
     },
     "execution_count": 4,
     "metadata": {},
     "output_type": "execute_result"
    }
   ],
   "source": [
    "dataset"
   ]
  },
  {
   "cell_type": "code",
   "execution_count": 5,
   "id": "2f791780",
   "metadata": {
    "execution": {
     "iopub.execute_input": "2023-05-30T09:39:13.156346Z",
     "iopub.status.busy": "2023-05-30T09:39:13.155845Z",
     "iopub.status.idle": "2023-05-30T09:39:13.165273Z",
     "shell.execute_reply": "2023-05-30T09:39:13.163164Z"
    },
    "executionInfo": {
     "elapsed": 39,
     "status": "ok",
     "timestamp": 1678650881156,
     "user": {
      "displayName": "1578_Avishek Chowdhury",
      "userId": "14734427622886483691"
     },
     "user_tz": -360
    },
    "id": "QJxZ0txo1g00",
    "outputId": "dd4783e6-ab7e-4d33-dd82-8df25d27ecd4",
    "papermill": {
     "duration": 0.030427,
     "end_time": "2023-05-30T09:39:13.168418",
     "exception": false,
     "start_time": "2023-05-30T09:39:13.137991",
     "status": "completed"
    },
    "tags": []
   },
   "outputs": [
    {
     "name": "stdout",
     "output_type": "stream",
     "text": [
      "(11520,)\n",
      "(11520,)\n"
     ]
    }
   ],
   "source": [
    "X = dataset.iloc[:,0]\n",
    "y = dataset.iloc[:,1]\n",
    "print(X.shape)\n",
    "print(y.shape)"
   ]
  },
  {
   "cell_type": "markdown",
   "id": "6b89ebc1",
   "metadata": {
    "id": "OC7pi_STnmM_",
    "papermill": {
     "duration": 0.015679,
     "end_time": "2023-05-30T09:39:13.199892",
     "exception": false,
     "start_time": "2023-05-30T09:39:13.184213",
     "status": "completed"
    },
    "tags": []
   },
   "source": [
    "### Reading Images"
   ]
  },
  {
   "cell_type": "code",
   "execution_count": 6,
   "id": "a0bd94c1",
   "metadata": {
    "execution": {
     "iopub.execute_input": "2023-05-30T09:39:13.233644Z",
     "iopub.status.busy": "2023-05-30T09:39:13.232737Z",
     "iopub.status.idle": "2023-05-30T09:39:13.241979Z",
     "shell.execute_reply": "2023-05-30T09:39:13.240518Z"
    },
    "executionInfo": {
     "elapsed": 36,
     "status": "ok",
     "timestamp": 1678650881157,
     "user": {
      "displayName": "1578_Avishek Chowdhury",
      "userId": "14734427622886483691"
     },
     "user_tz": -360
    },
    "id": "3LKOqFRYnGbZ",
    "outputId": "5ceb75e3-5092-417f-abaf-8ec12ae65caf",
    "papermill": {
     "duration": 0.029572,
     "end_time": "2023-05-30T09:39:13.245058",
     "exception": false,
     "start_time": "2023-05-30T09:39:13.215486",
     "status": "completed"
    },
    "tags": []
   },
   "outputs": [
    {
     "data": {
      "text/plain": [
       "(11520, 80, 240, 3)"
      ]
     },
     "execution_count": 6,
     "metadata": {},
     "output_type": "execute_result"
    }
   ],
   "source": [
    "new_weight = 240\n",
    "new_height = 80\n",
    "x_data = np.empty((len(X), new_height, new_weight, 3), dtype=np.int64)\n",
    "x_data.shape"
   ]
  },
  {
   "cell_type": "code",
   "execution_count": 7,
   "id": "cce50a47",
   "metadata": {
    "execution": {
     "iopub.execute_input": "2023-05-30T09:39:13.281051Z",
     "iopub.status.busy": "2023-05-30T09:39:13.279787Z",
     "iopub.status.idle": "2023-05-30T09:39:13.286119Z",
     "shell.execute_reply": "2023-05-30T09:39:13.284983Z"
    },
    "id": "N1CFL7phu16x",
    "papermill": {
     "duration": 0.02775,
     "end_time": "2023-05-30T09:39:13.288964",
     "exception": false,
     "start_time": "2023-05-30T09:39:13.261214",
     "status": "completed"
    },
    "tags": []
   },
   "outputs": [],
   "source": [
    "# for i, img_path in enumerate(X):\n",
    "#   # Reading Image\n",
    "#   candidate_image = cv.imread(dataset_dir + \"merged/raw/\" + y[i] + \"/\" + img_path)\n",
    "#   # Resizing Image\n",
    "#   candidate_rs = cv.resize(candidate_image, dsize=(new_weight, new_height))\n",
    "#   # Converting Image to Grayscale\n",
    "#   candidate_gray = cv.cvtColor(candidate_rs, cv.COLOR_BGR2GRAY)\n",
    "#   # Computing a Global Threshold Value from Grayscale Image(Using Otsu's Method) & Converting to Binary Image\n",
    "#   ret, candidate_bw = cv.threshold(candidate_gray, 0, 255, cv.THRESH_BINARY + cv.THRESH_OTSU)\n",
    "#   # ret, candidate_bw = cv.threshold(candidate_gray, 0, 255, cv.THRESH_BINARY_INV + cv.THRESH_OTSU)\n",
    "  \n",
    "#   # print(img_path, end =\" \")\n",
    "#   x_data[i] = candidate_bw"
   ]
  },
  {
   "cell_type": "code",
   "execution_count": 8,
   "id": "f0b4065f",
   "metadata": {
    "execution": {
     "iopub.execute_input": "2023-05-30T09:39:13.323934Z",
     "iopub.status.busy": "2023-05-30T09:39:13.322607Z",
     "iopub.status.idle": "2023-05-30T09:41:15.833024Z",
     "shell.execute_reply": "2023-05-30T09:41:15.831731Z"
    },
    "id": "sdnDa8TsVOEr",
    "papermill": {
     "duration": 122.53133,
     "end_time": "2023-05-30T09:41:15.836269",
     "exception": false,
     "start_time": "2023-05-30T09:39:13.304939",
     "status": "completed"
    },
    "tags": []
   },
   "outputs": [],
   "source": [
    "for i, img_path in enumerate(X):\n",
    "    candidate_image = cv.imread(dataset_dir + \"merged/converted_80_240/\" + y[i] + \"/\" + img_path)\n",
    "    # candidate_rs = cv.resize(candidate_image, dsize=(new_weight, new_height))\n",
    "    x_data[i] = candidate_image"
   ]
  },
  {
   "cell_type": "code",
   "execution_count": 9,
   "id": "886e5b14",
   "metadata": {
    "execution": {
     "iopub.execute_input": "2023-05-30T09:41:15.875031Z",
     "iopub.status.busy": "2023-05-30T09:41:15.874291Z",
     "iopub.status.idle": "2023-05-30T09:41:15.879399Z",
     "shell.execute_reply": "2023-05-30T09:41:15.878273Z"
    },
    "id": "n2E7m-iKqjCn",
    "papermill": {
     "duration": 0.028502,
     "end_time": "2023-05-30T09:41:15.882381",
     "exception": false,
     "start_time": "2023-05-30T09:41:15.853879",
     "status": "completed"
    },
    "tags": []
   },
   "outputs": [],
   "source": [
    "# plt.imshow(x_data[1], cmap=\"gray\")\n",
    "# len(x_data[0][0])"
   ]
  },
  {
   "cell_type": "code",
   "execution_count": 10,
   "id": "31c4c898",
   "metadata": {
    "execution": {
     "iopub.execute_input": "2023-05-30T09:41:15.916933Z",
     "iopub.status.busy": "2023-05-30T09:41:15.916398Z",
     "iopub.status.idle": "2023-05-30T09:41:15.924839Z",
     "shell.execute_reply": "2023-05-30T09:41:15.923720Z"
    },
    "executionInfo": {
     "elapsed": 564,
     "status": "ok",
     "timestamp": 1678650929654,
     "user": {
      "displayName": "1578_Avishek Chowdhury",
      "userId": "14734427622886483691"
     },
     "user_tz": -360
    },
    "id": "qHatxo9Jn6kC",
    "outputId": "3109adb5-1a27-4e79-88ab-4b83203cb486",
    "papermill": {
     "duration": 0.028979,
     "end_time": "2023-05-30T09:41:15.927298",
     "exception": false,
     "start_time": "2023-05-30T09:41:15.898319",
     "status": "completed"
    },
    "tags": []
   },
   "outputs": [
    {
     "data": {
      "text/plain": [
       "(11520, 57600)"
      ]
     },
     "execution_count": 10,
     "metadata": {},
     "output_type": "execute_result"
    }
   ],
   "source": [
    "X = np.reshape(x_data,(X.shape[0],new_height*new_weight*3))\n",
    "X.shape"
   ]
  },
  {
   "cell_type": "markdown",
   "id": "ce5ad490",
   "metadata": {
    "id": "VhtYg63_32mi",
    "papermill": {
     "duration": 0.015562,
     "end_time": "2023-05-30T09:41:15.958796",
     "exception": false,
     "start_time": "2023-05-30T09:41:15.943234",
     "status": "completed"
    },
    "tags": []
   },
   "source": [
    "### Scaling Features"
   ]
  },
  {
   "cell_type": "code",
   "execution_count": 11,
   "id": "9ea73133",
   "metadata": {
    "execution": {
     "iopub.execute_input": "2023-05-30T09:41:15.993617Z",
     "iopub.status.busy": "2023-05-30T09:41:15.992702Z",
     "iopub.status.idle": "2023-05-30T09:41:24.212891Z",
     "shell.execute_reply": "2023-05-30T09:41:24.211357Z"
    },
    "id": "2HSHvUQx3pVm",
    "papermill": {
     "duration": 8.241549,
     "end_time": "2023-05-30T09:41:24.216260",
     "exception": false,
     "start_time": "2023-05-30T09:41:15.974711",
     "status": "completed"
    },
    "tags": []
   },
   "outputs": [],
   "source": [
    "sc = MinMaxScaler()\n",
    "X = sc.fit_transform(X)"
   ]
  },
  {
   "cell_type": "code",
   "execution_count": 12,
   "id": "ca96d89d",
   "metadata": {
    "execution": {
     "iopub.execute_input": "2023-05-30T09:41:24.252941Z",
     "iopub.status.busy": "2023-05-30T09:41:24.252446Z",
     "iopub.status.idle": "2023-05-30T09:41:24.261564Z",
     "shell.execute_reply": "2023-05-30T09:41:24.259999Z"
    },
    "executionInfo": {
     "elapsed": 493,
     "status": "ok",
     "timestamp": 1678650929656,
     "user": {
      "displayName": "1578_Avishek Chowdhury",
      "userId": "14734427622886483691"
     },
     "user_tz": -360
    },
    "id": "jSj6M9SO5W1m",
    "outputId": "29b9d3c3-99ec-4411-b84d-f7e12ad99852",
    "papermill": {
     "duration": 0.031465,
     "end_time": "2023-05-30T09:41:24.264791",
     "exception": false,
     "start_time": "2023-05-30T09:41:24.233326",
     "status": "completed"
    },
    "tags": []
   },
   "outputs": [
    {
     "data": {
      "text/plain": [
       "array([[0., 0., 0., ..., 0., 0., 0.],\n",
       "       [0., 0., 0., ..., 0., 0., 0.],\n",
       "       [0., 0., 0., ..., 0., 0., 0.],\n",
       "       ...,\n",
       "       [0., 0., 0., ..., 0., 0., 0.],\n",
       "       [0., 0., 0., ..., 0., 0., 0.],\n",
       "       [1., 1., 1., ..., 1., 1., 1.]])"
      ]
     },
     "execution_count": 12,
     "metadata": {},
     "output_type": "execute_result"
    }
   ],
   "source": [
    "X"
   ]
  },
  {
   "cell_type": "markdown",
   "id": "ac110ed7",
   "metadata": {
    "id": "W_9dK6Iw5EXZ",
    "papermill": {
     "duration": 0.015758,
     "end_time": "2023-05-30T09:41:24.296938",
     "exception": false,
     "start_time": "2023-05-30T09:41:24.281180",
     "status": "completed"
    },
    "tags": []
   },
   "source": [
    "### Spliting Train & Test Set\n"
   ]
  },
  {
   "cell_type": "code",
   "execution_count": 13,
   "id": "a7e81cec",
   "metadata": {
    "execution": {
     "iopub.execute_input": "2023-05-30T09:41:24.331776Z",
     "iopub.status.busy": "2023-05-30T09:41:24.331245Z",
     "iopub.status.idle": "2023-05-30T09:41:27.202298Z",
     "shell.execute_reply": "2023-05-30T09:41:27.200058Z"
    },
    "executionInfo": {
     "elapsed": 488,
     "status": "ok",
     "timestamp": 1678650929679,
     "user": {
      "displayName": "1578_Avishek Chowdhury",
      "userId": "14734427622886483691"
     },
     "user_tz": -360
    },
    "id": "ARtvOrWsWImO",
    "outputId": "a052e7ac-0eb4-4d33-c74f-89393c77e9e8",
    "papermill": {
     "duration": 2.893829,
     "end_time": "2023-05-30T09:41:27.206889",
     "exception": false,
     "start_time": "2023-05-30T09:41:24.313060",
     "status": "completed"
    },
    "tags": []
   },
   "outputs": [
    {
     "name": "stdout",
     "output_type": "stream",
     "text": [
      "(8640, 57600) (1728, 57600) (1152, 57600) (8640,) (1728,) (1152,)\n"
     ]
    }
   ],
   "source": [
    "# X_train, X_test, y_train, y_test = train_test_split(X, y, test_size=0.15, random_state=45, stratify=dataset[\"District\"])\n",
    "X_train, X_rem, y_train, y_rem = train_test_split(X, y, train_size=0.75, random_state=45, stratify=y)\n",
    "X_val, X_test, y_val, y_test = train_test_split(X_rem, y_rem, test_size=0.60, stratify=y_rem)\n",
    "print(X_train.shape, X_test.shape, X_val.shape, y_train.shape, y_test.shape, y_val.shape)"
   ]
  },
  {
   "cell_type": "code",
   "execution_count": 14,
   "id": "8a3b8a15",
   "metadata": {
    "execution": {
     "iopub.execute_input": "2023-05-30T09:41:27.242408Z",
     "iopub.status.busy": "2023-05-30T09:41:27.241953Z",
     "iopub.status.idle": "2023-05-30T09:41:27.247871Z",
     "shell.execute_reply": "2023-05-30T09:41:27.246691Z"
    },
    "papermill": {
     "duration": 0.027603,
     "end_time": "2023-05-30T09:41:27.250723",
     "exception": false,
     "start_time": "2023-05-30T09:41:27.223120",
     "status": "completed"
    },
    "tags": []
   },
   "outputs": [],
   "source": [
    "# print(\n",
    "#     f'NUMBER OF TARGET IN THE ORIGINAL DATA\\n{dataset[\"District\"].value_counts()}\\n\\n'\n",
    "#     + f\"NUMBER OF TARGET IN THE TRAINING SET\\n{y_train.value_counts()}\\n\\n\"\n",
    "#     + f\"NUMBER OF TARGET IN THE TEST SET\\n{y_test.value_counts()}\\n\\n\"\n",
    "#     + f\"NUMBER OF TARGET IN THE VALIDATION SET\\n{y_val.value_counts()}\"\n",
    "# )"
   ]
  },
  {
   "cell_type": "code",
   "execution_count": 15,
   "id": "72603ed1",
   "metadata": {
    "execution": {
     "iopub.execute_input": "2023-05-30T09:41:27.286274Z",
     "iopub.status.busy": "2023-05-30T09:41:27.285781Z",
     "iopub.status.idle": "2023-05-30T09:41:27.292169Z",
     "shell.execute_reply": "2023-05-30T09:41:27.290298Z"
    },
    "papermill": {
     "duration": 0.027904,
     "end_time": "2023-05-30T09:41:27.295671",
     "exception": false,
     "start_time": "2023-05-30T09:41:27.267767",
     "status": "completed"
    },
    "tags": []
   },
   "outputs": [],
   "source": [
    "# print(\n",
    "#     f'RATIO OF TARGET IN THE ORIGINAL DATA\\n{dataset[\"District\"].value_counts() / len(dataset)}\\n\\n'\n",
    "#     + f\"RATIO OF TARGET IN THE TRAINING SET\\n{y_train.value_counts() / len(y_train)}\\n\\n\"\n",
    "#     + f\"RATIO OF TARGET IN THE TEST SET\\n{y_test.value_counts() / len(y_test)}\\n\\n\"\n",
    "#     + f\"RATIO OF TARGET IN THE VALIDATION SET\\n{y_val.value_counts() / len(y_val)}\"\n",
    "# )"
   ]
  },
  {
   "cell_type": "code",
   "execution_count": 16,
   "id": "eb1b4ae9",
   "metadata": {
    "execution": {
     "iopub.execute_input": "2023-05-30T09:41:27.330689Z",
     "iopub.status.busy": "2023-05-30T09:41:27.330186Z",
     "iopub.status.idle": "2023-05-30T09:41:27.338239Z",
     "shell.execute_reply": "2023-05-30T09:41:27.336658Z"
    },
    "executionInfo": {
     "elapsed": 482,
     "status": "ok",
     "timestamp": 1678650929680,
     "user": {
      "displayName": "1578_Avishek Chowdhury",
      "userId": "14734427622886483691"
     },
     "user_tz": -360
    },
    "id": "qydb7AVI_s4C",
    "outputId": "e9dc8697-7fc9-473e-b666-e8657b341e30",
    "papermill": {
     "duration": 0.029214,
     "end_time": "2023-05-30T09:41:27.341302",
     "exception": false,
     "start_time": "2023-05-30T09:41:27.312088",
     "status": "completed"
    },
    "tags": []
   },
   "outputs": [
    {
     "name": "stdout",
     "output_type": "stream",
     "text": [
      "(8640, 80, 240, 3) (1728, 80, 240, 3) (1152, 80, 240, 3)\n"
     ]
    }
   ],
   "source": [
    "X_train = X_train.reshape(-1,new_height,new_weight,3)\n",
    "X_test = X_test.reshape(-1,new_height,new_weight,3)\n",
    "X_val = X_val.reshape(-1,new_height,new_weight,3)\n",
    "print(X_train.shape, X_test.shape, X_val.shape)"
   ]
  },
  {
   "cell_type": "markdown",
   "id": "3ab2dd08",
   "metadata": {
    "papermill": {
     "duration": 0.016524,
     "end_time": "2023-05-30T09:41:27.374613",
     "exception": false,
     "start_time": "2023-05-30T09:41:27.358089",
     "status": "completed"
    },
    "tags": []
   },
   "source": [
    "### Binarizing Output"
   ]
  },
  {
   "cell_type": "code",
   "execution_count": 17,
   "id": "d6758725",
   "metadata": {
    "execution": {
     "iopub.execute_input": "2023-05-30T09:41:27.410385Z",
     "iopub.status.busy": "2023-05-30T09:41:27.409795Z",
     "iopub.status.idle": "2023-05-30T09:41:27.521888Z",
     "shell.execute_reply": "2023-05-30T09:41:27.520346Z"
    },
    "papermill": {
     "duration": 0.133436,
     "end_time": "2023-05-30T09:41:27.524975",
     "exception": false,
     "start_time": "2023-05-30T09:41:27.391539",
     "status": "completed"
    },
    "tags": []
   },
   "outputs": [
    {
     "name": "stdout",
     "output_type": "stream",
     "text": [
      "(8640, 64) (1728, 64) (1152, 64)\n"
     ]
    }
   ],
   "source": [
    "lb = LabelBinarizer()\n",
    "y_train = lb.fit_transform(y_train)\n",
    "y_test = lb.fit_transform(y_test)\n",
    "y_val = lb.fit_transform(y_val)\n",
    "print(y_train.shape, y_test.shape, y_val.shape)"
   ]
  },
  {
   "cell_type": "code",
   "execution_count": 18,
   "id": "3106f7c5",
   "metadata": {
    "execution": {
     "iopub.execute_input": "2023-05-30T09:41:27.560825Z",
     "iopub.status.busy": "2023-05-30T09:41:27.559577Z",
     "iopub.status.idle": "2023-05-30T09:41:27.568110Z",
     "shell.execute_reply": "2023-05-30T09:41:27.566427Z"
    },
    "papermill": {
     "duration": 0.029412,
     "end_time": "2023-05-30T09:41:27.571062",
     "exception": false,
     "start_time": "2023-05-30T09:41:27.541650",
     "status": "completed"
    },
    "tags": []
   },
   "outputs": [
    {
     "name": "stdout",
     "output_type": "stream",
     "text": [
      "[[0 0 0 ... 0 0 0]\n",
      " [0 0 0 ... 0 0 0]\n",
      " [0 0 0 ... 0 0 0]\n",
      " ...\n",
      " [0 0 0 ... 0 0 0]\n",
      " [0 0 0 ... 0 0 0]\n",
      " [0 0 0 ... 0 0 0]]\n",
      "[[0 0 0 ... 0 0 0]\n",
      " [0 0 0 ... 0 0 0]\n",
      " [0 0 0 ... 0 0 0]\n",
      " ...\n",
      " [0 0 0 ... 0 0 0]\n",
      " [0 0 0 ... 0 0 0]\n",
      " [0 0 0 ... 0 0 0]]\n",
      "[[0 0 0 ... 0 0 0]\n",
      " [0 0 0 ... 0 0 0]\n",
      " [0 0 0 ... 0 0 0]\n",
      " ...\n",
      " [0 0 0 ... 0 0 0]\n",
      " [0 0 0 ... 0 0 0]\n",
      " [0 0 0 ... 0 0 0]]\n"
     ]
    }
   ],
   "source": [
    "print(y_train)\n",
    "print(y_test)\n",
    "print(y_val)"
   ]
  },
  {
   "cell_type": "code",
   "execution_count": 19,
   "id": "c0855256",
   "metadata": {
    "execution": {
     "iopub.execute_input": "2023-05-30T09:41:27.606374Z",
     "iopub.status.busy": "2023-05-30T09:41:27.605864Z",
     "iopub.status.idle": "2023-05-30T09:41:27.612590Z",
     "shell.execute_reply": "2023-05-30T09:41:27.611168Z"
    },
    "papermill": {
     "duration": 0.028235,
     "end_time": "2023-05-30T09:41:27.615732",
     "exception": false,
     "start_time": "2023-05-30T09:41:27.587497",
     "status": "completed"
    },
    "tags": []
   },
   "outputs": [
    {
     "name": "stdout",
     "output_type": "stream",
     "text": [
      "(8640, 64)\n",
      "(1728, 64)\n"
     ]
    }
   ],
   "source": [
    "print(y_train.shape)\n",
    "print(y_test.shape)"
   ]
  },
  {
   "cell_type": "markdown",
   "id": "6a19aa88",
   "metadata": {
    "id": "hW66EaXA4vnR",
    "papermill": {
     "duration": 0.016429,
     "end_time": "2023-05-30T09:41:27.649873",
     "exception": false,
     "start_time": "2023-05-30T09:41:27.633444",
     "status": "completed"
    },
    "tags": []
   },
   "source": [
    "### Creating Model\n"
   ]
  },
  {
   "cell_type": "code",
   "execution_count": 20,
   "id": "fa985a98",
   "metadata": {
    "execution": {
     "iopub.execute_input": "2023-05-30T09:41:27.686156Z",
     "iopub.status.busy": "2023-05-30T09:41:27.685671Z",
     "iopub.status.idle": "2023-05-30T09:41:27.691519Z",
     "shell.execute_reply": "2023-05-30T09:41:27.689682Z"
    },
    "id": "HO1XBt5P5bP2",
    "papermill": {
     "duration": 0.02824,
     "end_time": "2023-05-30T09:41:27.694759",
     "exception": false,
     "start_time": "2023-05-30T09:41:27.666519",
     "status": "completed"
    },
    "tags": []
   },
   "outputs": [],
   "source": [
    "# import datetime\n",
    "# from tensorflow.keras.callbacks import TensorBoard\n",
    "# log_dir = \"logs/vgg19/\" + datetime.datetime.now().strftime(\"%Y%m%d-%H%M%S\")\n",
    "# tensorboard_callback = tf.keras.callbacks.TensorBoard(log_dir=log_dir, histogram_freq=1)"
   ]
  },
  {
   "cell_type": "code",
   "execution_count": 21,
   "id": "74a657f7",
   "metadata": {
    "execution": {
     "iopub.execute_input": "2023-05-30T09:41:27.731040Z",
     "iopub.status.busy": "2023-05-30T09:41:27.730590Z",
     "iopub.status.idle": "2023-05-30T09:41:27.744050Z",
     "shell.execute_reply": "2023-05-30T09:41:27.742889Z"
    },
    "id": "Na7WBFiuVxxC",
    "papermill": {
     "duration": 0.034979,
     "end_time": "2023-05-30T09:41:27.746933",
     "exception": false,
     "start_time": "2023-05-30T09:41:27.711954",
     "status": "completed"
    },
    "tags": []
   },
   "outputs": [],
   "source": [
    "num_classes = dataset.District.nunique()\n",
    "input_shape = (new_height, new_weight, 3)\n",
    "# input_shape = X.shape"
   ]
  },
  {
   "cell_type": "code",
   "execution_count": 22,
   "id": "3bc3e0fe",
   "metadata": {
    "execution": {
     "iopub.execute_input": "2023-05-30T09:41:27.782375Z",
     "iopub.status.busy": "2023-05-30T09:41:27.781927Z",
     "iopub.status.idle": "2023-05-30T09:41:27.788141Z",
     "shell.execute_reply": "2023-05-30T09:41:27.786528Z"
    },
    "id": "5w63KZn95bP3",
    "papermill": {
     "duration": 0.027695,
     "end_time": "2023-05-30T09:41:27.791025",
     "exception": false,
     "start_time": "2023-05-30T09:41:27.763330",
     "status": "completed"
    },
    "tags": []
   },
   "outputs": [],
   "source": [
    "# Set hyperparameters\n",
    "dropout_rate = 0.5"
   ]
  },
  {
   "cell_type": "code",
   "execution_count": 23,
   "id": "3faee9e8",
   "metadata": {
    "execution": {
     "iopub.execute_input": "2023-05-30T09:41:27.827216Z",
     "iopub.status.busy": "2023-05-30T09:41:27.826295Z",
     "iopub.status.idle": "2023-05-30T09:41:29.501851Z",
     "shell.execute_reply": "2023-05-30T09:41:29.499896Z"
    },
    "papermill": {
     "duration": 1.697611,
     "end_time": "2023-05-30T09:41:29.505400",
     "exception": false,
     "start_time": "2023-05-30T09:41:27.807789",
     "status": "completed"
    },
    "tags": []
   },
   "outputs": [
    {
     "name": "stdout",
     "output_type": "stream",
     "text": [
      "Downloading data from https://storage.googleapis.com/tensorflow/keras-applications/vgg19/vgg19_weights_tf_dim_ordering_tf_kernels_notop.h5\n",
      "80134624/80134624 [==============================] - 1s 0us/step\n"
     ]
    }
   ],
   "source": [
    "# Load the pre-trained model\n",
    "vgg19 = tf.keras.applications.VGG19(weights='imagenet',input_shape=input_shape, include_top=False)\n",
    "\n",
    "# Freeze the weights of the pre-trained layers\n",
    "for layer in vgg19.layers:\n",
    "    layer.trainable = False\n",
    "\n",
    "# Add your custom layers to the top of the pre-trained model\n",
    "vgg19_model = models.Sequential()\n",
    "vgg19_model.add(vgg19)\n",
    "vgg19_model.add(layers.Flatten())\n",
    "vgg19_model.add(layers.Dense(units=num_classes, activation='softmax'))"
   ]
  },
  {
   "cell_type": "code",
   "execution_count": 24,
   "id": "308aa3d9",
   "metadata": {
    "execution": {
     "iopub.execute_input": "2023-05-30T09:41:29.545129Z",
     "iopub.status.busy": "2023-05-30T09:41:29.544674Z",
     "iopub.status.idle": "2023-05-30T09:41:29.563908Z",
     "shell.execute_reply": "2023-05-30T09:41:29.562631Z"
    },
    "executionInfo": {
     "elapsed": 423,
     "status": "ok",
     "timestamp": 1678650929689,
     "user": {
      "displayName": "1578_Avishek Chowdhury",
      "userId": "14734427622886483691"
     },
     "user_tz": -360
    },
    "id": "ATyz_NHT0GBM",
    "outputId": "952dba93-f347-4fd3-d995-035110067110",
    "papermill": {
     "duration": 0.05133,
     "end_time": "2023-05-30T09:41:29.576260",
     "exception": false,
     "start_time": "2023-05-30T09:41:29.524930",
     "status": "completed"
    },
    "tags": []
   },
   "outputs": [
    {
     "name": "stdout",
     "output_type": "stream",
     "text": [
      "Model: \"sequential\"\n",
      "_________________________________________________________________\n",
      " Layer (type)                Output Shape              Param #   \n",
      "=================================================================\n",
      " vgg19 (Functional)          (None, 2, 7, 512)         20024384  \n",
      "                                                                 \n",
      " flatten (Flatten)           (None, 7168)              0         \n",
      "                                                                 \n",
      " dense (Dense)               (None, 64)                458816    \n",
      "                                                                 \n",
      "=================================================================\n",
      "Total params: 20,483,200\n",
      "Trainable params: 458,816\n",
      "Non-trainable params: 20,024,384\n",
      "_________________________________________________________________\n"
     ]
    }
   ],
   "source": [
    "vgg19_model.summary()"
   ]
  },
  {
   "cell_type": "code",
   "execution_count": 25,
   "id": "fed5ecce",
   "metadata": {
    "execution": {
     "iopub.execute_input": "2023-05-30T09:41:29.632218Z",
     "iopub.status.busy": "2023-05-30T09:41:29.631508Z",
     "iopub.status.idle": "2023-05-30T09:41:29.637805Z",
     "shell.execute_reply": "2023-05-30T09:41:29.636424Z"
    },
    "papermill": {
     "duration": 0.034831,
     "end_time": "2023-05-30T09:41:29.640653",
     "exception": false,
     "start_time": "2023-05-30T09:41:29.605822",
     "status": "completed"
    },
    "tags": []
   },
   "outputs": [],
   "source": [
    "# !pip install visualkeras\n",
    "# import visualkeras"
   ]
  },
  {
   "cell_type": "code",
   "execution_count": 26,
   "id": "7808a4e5",
   "metadata": {
    "execution": {
     "iopub.execute_input": "2023-05-30T09:41:29.694157Z",
     "iopub.status.busy": "2023-05-30T09:41:29.693722Z",
     "iopub.status.idle": "2023-05-30T09:41:29.698460Z",
     "shell.execute_reply": "2023-05-30T09:41:29.697604Z"
    },
    "papermill": {
     "duration": 0.040958,
     "end_time": "2023-05-30T09:41:29.702861",
     "exception": false,
     "start_time": "2023-05-30T09:41:29.661903",
     "status": "completed"
    },
    "tags": []
   },
   "outputs": [],
   "source": [
    "# visualkeras.layered_view(vgg19_model, legend=True, draw_volume=False)"
   ]
  },
  {
   "cell_type": "code",
   "execution_count": 27,
   "id": "dd86e24b",
   "metadata": {
    "execution": {
     "iopub.execute_input": "2023-05-30T09:41:29.744036Z",
     "iopub.status.busy": "2023-05-30T09:41:29.743506Z",
     "iopub.status.idle": "2023-05-30T09:41:30.063410Z",
     "shell.execute_reply": "2023-05-30T09:41:30.061972Z"
    },
    "papermill": {
     "duration": 0.344156,
     "end_time": "2023-05-30T09:41:30.066233",
     "exception": false,
     "start_time": "2023-05-30T09:41:29.722077",
     "status": "completed"
    },
    "tags": []
   },
   "outputs": [
    {
     "data": {
      "image/png": "[encoded data removed]",
      "text/plain": [
       "<IPython.core.display.Image object>"
      ]
     },
     "execution_count": 27,
     "metadata": {},
     "output_type": "execute_result"
    }
   ],
   "source": [
    "from tensorflow.keras.utils import plot_model\n",
    "plot_model(vgg19_model, to_file='vgg19_model.png', show_shapes=True, show_layer_activations=True)"
   ]
  },
  {
   "cell_type": "markdown",
   "id": "9eb233d6",
   "metadata": {
    "papermill": {
     "duration": 0.019955,
     "end_time": "2023-05-30T09:41:30.106855",
     "exception": false,
     "start_time": "2023-05-30T09:41:30.086900",
     "status": "completed"
    },
    "tags": []
   },
   "source": [
    "### Training & Evaluating the Model\n"
   ]
  },
  {
   "cell_type": "code",
   "execution_count": 28,
   "id": "3cc7f9ec",
   "metadata": {
    "execution": {
     "iopub.execute_input": "2023-05-30T09:41:30.151370Z",
     "iopub.status.busy": "2023-05-30T09:41:30.149624Z",
     "iopub.status.idle": "2023-05-30T09:41:30.157629Z",
     "shell.execute_reply": "2023-05-30T09:41:30.155873Z"
    },
    "papermill": {
     "duration": 0.034299,
     "end_time": "2023-05-30T09:41:30.160978",
     "exception": false,
     "start_time": "2023-05-30T09:41:30.126679",
     "status": "completed"
    },
    "tags": []
   },
   "outputs": [],
   "source": [
    "epochs = 25\n",
    "k = 5"
   ]
  },
  {
   "cell_type": "code",
   "execution_count": 29,
   "id": "1d3e1876",
   "metadata": {
    "execution": {
     "iopub.execute_input": "2023-05-30T09:41:30.204093Z",
     "iopub.status.busy": "2023-05-30T09:41:30.203637Z",
     "iopub.status.idle": "2023-05-30T09:41:30.234068Z",
     "shell.execute_reply": "2023-05-30T09:41:30.232265Z"
    },
    "id": "KyFKGexVET4M",
    "papermill": {
     "duration": 0.055892,
     "end_time": "2023-05-30T09:41:30.237249",
     "exception": false,
     "start_time": "2023-05-30T09:41:30.181357",
     "status": "completed"
    },
    "tags": []
   },
   "outputs": [],
   "source": [
    "vgg19_model.compile(optimizer='adam', loss='categorical_crossentropy', metrics=['accuracy','top_k_categorical_accuracy'])"
   ]
  },
  {
   "cell_type": "code",
   "execution_count": 30,
   "id": "97b0c408",
   "metadata": {
    "execution": {
     "iopub.execute_input": "2023-05-30T09:41:30.280240Z",
     "iopub.status.busy": "2023-05-30T09:41:30.279744Z",
     "iopub.status.idle": "2023-05-30T19:00:57.069295Z",
     "shell.execute_reply": "2023-05-30T19:00:57.068081Z"
    },
    "executionInfo": {
     "elapsed": 441840,
     "status": "ok",
     "timestamp": 1678651371331,
     "user": {
      "displayName": "1578_Avishek Chowdhury",
      "userId": "14734427622886483691"
     },
     "user_tz": -360
    },
    "id": "358VdnTrAD0A",
    "outputId": "9fed86f0-ab2f-4e9e-b2d6-d18c16fe7a36",
    "papermill": {
     "duration": 33566.814776,
     "end_time": "2023-05-30T19:00:57.072664",
     "exception": false,
     "start_time": "2023-05-30T09:41:30.257888",
     "status": "completed"
    },
    "tags": []
   },
   "outputs": [
    {
     "name": "stdout",
     "output_type": "stream",
     "text": [
      "Epoch 1/25\n",
      "270/270 [==============================] - 1348s 5s/step - loss: 2.1963 - accuracy: 0.4729 - top_k_categorical_accuracy: 0.7446 - val_loss: 1.2311 - val_accuracy: 0.7179 - val_top_k_categorical_accuracy: 0.9366\n",
      "Epoch 2/25\n",
      "270/270 [==============================] - 1290s 5s/step - loss: 0.7744 - accuracy: 0.8439 - top_k_categorical_accuracy: 0.9778 - val_loss: 0.8467 - val_accuracy: 0.8012 - val_top_k_categorical_accuracy: 0.9635\n",
      "Epoch 3/25\n",
      "270/270 [==============================] - 1339s 5s/step - loss: 0.4506 - accuracy: 0.9234 - top_k_categorical_accuracy: 0.9929 - val_loss: 0.6423 - val_accuracy: 0.8542 - val_top_k_categorical_accuracy: 0.9696\n",
      "Epoch 4/25\n",
      "270/270 [==============================] - 1282s 5s/step - loss: 0.2913 - accuracy: 0.9600 - top_k_categorical_accuracy: 0.9972 - val_loss: 0.5708 - val_accuracy: 0.8672 - val_top_k_categorical_accuracy: 0.9731\n",
      "Epoch 5/25\n",
      "270/270 [==============================] - 1284s 5s/step - loss: 0.2046 - accuracy: 0.9759 - top_k_categorical_accuracy: 0.9986 - val_loss: 0.4965 - val_accuracy: 0.8776 - val_top_k_categorical_accuracy: 0.9774\n",
      "Epoch 6/25\n",
      "270/270 [==============================] - 1296s 5s/step - loss: 0.1427 - accuracy: 0.9905 - top_k_categorical_accuracy: 0.9994 - val_loss: 0.4987 - val_accuracy: 0.8698 - val_top_k_categorical_accuracy: 0.9757\n",
      "Epoch 7/25\n",
      "270/270 [==============================] - 1288s 5s/step - loss: 0.1102 - accuracy: 0.9928 - top_k_categorical_accuracy: 1.0000 - val_loss: 0.4613 - val_accuracy: 0.8845 - val_top_k_categorical_accuracy: 0.9809\n",
      "Epoch 8/25\n",
      "270/270 [==============================] - 1294s 5s/step - loss: 0.0827 - accuracy: 0.9970 - top_k_categorical_accuracy: 0.9999 - val_loss: 0.4175 - val_accuracy: 0.8906 - val_top_k_categorical_accuracy: 0.9800\n",
      "Epoch 9/25\n",
      "270/270 [==============================] - 1305s 5s/step - loss: 0.0648 - accuracy: 0.9978 - top_k_categorical_accuracy: 1.0000 - val_loss: 0.3999 - val_accuracy: 0.8976 - val_top_k_categorical_accuracy: 0.9800\n",
      "Epoch 10/25\n",
      "270/270 [==============================] - 1309s 5s/step - loss: 0.0523 - accuracy: 0.9984 - top_k_categorical_accuracy: 1.0000 - val_loss: 0.3803 - val_accuracy: 0.9045 - val_top_k_categorical_accuracy: 0.9826\n",
      "Epoch 11/25\n",
      "270/270 [==============================] - 1365s 5s/step - loss: 0.0440 - accuracy: 0.9991 - top_k_categorical_accuracy: 1.0000 - val_loss: 0.3665 - val_accuracy: 0.9045 - val_top_k_categorical_accuracy: 0.9818\n",
      "Epoch 12/25\n",
      "270/270 [==============================] - 1361s 5s/step - loss: 0.0343 - accuracy: 0.9992 - top_k_categorical_accuracy: 1.0000 - val_loss: 0.3591 - val_accuracy: 0.9062 - val_top_k_categorical_accuracy: 0.9809\n",
      "Epoch 13/25\n",
      "270/270 [==============================] - 1372s 5s/step - loss: 0.0294 - accuracy: 0.9991 - top_k_categorical_accuracy: 1.0000 - val_loss: 0.3542 - val_accuracy: 0.9028 - val_top_k_categorical_accuracy: 0.9809\n",
      "Epoch 14/25\n",
      "270/270 [==============================] - 1372s 5s/step - loss: 0.0251 - accuracy: 0.9993 - top_k_categorical_accuracy: 1.0000 - val_loss: 0.3412 - val_accuracy: 0.9132 - val_top_k_categorical_accuracy: 0.9800\n",
      "Epoch 15/25\n",
      "270/270 [==============================] - 1370s 5s/step - loss: 0.0208 - accuracy: 0.9994 - top_k_categorical_accuracy: 1.0000 - val_loss: 0.3604 - val_accuracy: 0.9010 - val_top_k_categorical_accuracy: 0.9792\n",
      "Epoch 16/25\n",
      "270/270 [==============================] - 1361s 5s/step - loss: 0.0193 - accuracy: 0.9992 - top_k_categorical_accuracy: 1.0000 - val_loss: 0.3899 - val_accuracy: 0.8932 - val_top_k_categorical_accuracy: 0.9818\n",
      "Epoch 17/25\n",
      "270/270 [==============================] - 1326s 5s/step - loss: 0.0161 - accuracy: 0.9995 - top_k_categorical_accuracy: 1.0000 - val_loss: 0.3396 - val_accuracy: 0.9097 - val_top_k_categorical_accuracy: 0.9818\n",
      "Epoch 18/25\n",
      "270/270 [==============================] - 1379s 5s/step - loss: 0.0153 - accuracy: 0.9988 - top_k_categorical_accuracy: 1.0000 - val_loss: 0.3566 - val_accuracy: 0.9010 - val_top_k_categorical_accuracy: 0.9835\n",
      "Epoch 19/25\n",
      "270/270 [==============================] - 1382s 5s/step - loss: 0.0158 - accuracy: 0.9987 - top_k_categorical_accuracy: 1.0000 - val_loss: 0.3338 - val_accuracy: 0.9089 - val_top_k_categorical_accuracy: 0.9835\n",
      "Epoch 20/25\n",
      "270/270 [==============================] - 1342s 5s/step - loss: 0.0107 - accuracy: 0.9995 - top_k_categorical_accuracy: 1.0000 - val_loss: 0.3256 - val_accuracy: 0.9062 - val_top_k_categorical_accuracy: 0.9870\n",
      "Epoch 21/25\n",
      "270/270 [==============================] - 1395s 5s/step - loss: 0.0137 - accuracy: 0.9985 - top_k_categorical_accuracy: 1.0000 - val_loss: 0.3339 - val_accuracy: 0.9071 - val_top_k_categorical_accuracy: 0.9844\n",
      "Epoch 22/25\n",
      "270/270 [==============================] - 1355s 5s/step - loss: 0.0112 - accuracy: 0.9988 - top_k_categorical_accuracy: 1.0000 - val_loss: 0.3535 - val_accuracy: 0.9028 - val_top_k_categorical_accuracy: 0.9844\n",
      "Epoch 23/25\n",
      "270/270 [==============================] - 1393s 5s/step - loss: 0.0082 - accuracy: 0.9994 - top_k_categorical_accuracy: 1.0000 - val_loss: 0.3538 - val_accuracy: 0.9036 - val_top_k_categorical_accuracy: 0.9809\n",
      "Epoch 24/25\n",
      "270/270 [==============================] - 1391s 5s/step - loss: 0.0102 - accuracy: 0.9987 - top_k_categorical_accuracy: 1.0000 - val_loss: 0.3553 - val_accuracy: 0.9036 - val_top_k_categorical_accuracy: 0.9835\n",
      "Epoch 25/25\n",
      "270/270 [==============================] - 1344s 5s/step - loss: 0.0100 - accuracy: 0.9985 - top_k_categorical_accuracy: 1.0000 - val_loss: 0.3263 - val_accuracy: 0.9080 - val_top_k_categorical_accuracy: 0.9852\n"
     ]
    }
   ],
   "source": [
    "# history  = vgg19_model.fit(X_train, y_train, validation_data=(X_val, y_val), epochs=epochs, callbacks=[tensorboard_callback])\n",
    "history  = vgg19_model.fit(X_train, y_train, validation_data=(X_val, y_val), epochs=epochs)"
   ]
  },
  {
   "cell_type": "code",
   "execution_count": 31,
   "id": "cf2812ca",
   "metadata": {
    "execution": {
     "iopub.execute_input": "2023-05-30T19:00:58.402956Z",
     "iopub.status.busy": "2023-05-30T19:00:58.402464Z",
     "iopub.status.idle": "2023-05-30T19:05:21.583913Z",
     "shell.execute_reply": "2023-05-30T19:05:21.582362Z"
    },
    "id": "XejIje1UAHZK",
    "papermill": {
     "duration": 263.840119,
     "end_time": "2023-05-30T19:05:21.588127",
     "exception": false,
     "start_time": "2023-05-30T19:00:57.748008",
     "status": "completed"
    },
    "tags": []
   },
   "outputs": [
    {
     "name": "stdout",
     "output_type": "stream",
     "text": [
      "54/54 [==============================] - 239s 4s/step - loss: 0.2941 - accuracy: 0.9201 - top_k_categorical_accuracy: 0.9884\n"
     ]
    }
   ],
   "source": [
    "# history_test = vgg19_model.evaluate(X_test, y_test, callbacks=[tensorboard_callback])\n",
    "history_test = vgg19_model.evaluate(X_test, y_test)"
   ]
  },
  {
   "cell_type": "code",
   "execution_count": 32,
   "id": "5c3b3f21",
   "metadata": {
    "execution": {
     "iopub.execute_input": "2023-05-30T19:05:23.062890Z",
     "iopub.status.busy": "2023-05-30T19:05:23.062377Z",
     "iopub.status.idle": "2023-05-30T19:05:23.069238Z",
     "shell.execute_reply": "2023-05-30T19:05:23.067008Z"
    },
    "papermill": {
     "duration": 0.746046,
     "end_time": "2023-05-30T19:05:23.073001",
     "exception": false,
     "start_time": "2023-05-30T19:05:22.326955",
     "status": "completed"
    },
    "tags": []
   },
   "outputs": [],
   "source": [
    "# y_predicted = vgg19_model.predict(X_test)"
   ]
  },
  {
   "cell_type": "code",
   "execution_count": 33,
   "id": "9b1eb784",
   "metadata": {
    "execution": {
     "iopub.execute_input": "2023-05-30T19:05:24.423858Z",
     "iopub.status.busy": "2023-05-30T19:05:24.422398Z",
     "iopub.status.idle": "2023-05-30T19:05:24.429060Z",
     "shell.execute_reply": "2023-05-30T19:05:24.427620Z"
    },
    "papermill": {
     "duration": 0.686652,
     "end_time": "2023-05-30T19:05:24.432087",
     "exception": false,
     "start_time": "2023-05-30T19:05:23.745435",
     "status": "completed"
    },
    "tags": []
   },
   "outputs": [],
   "source": [
    "# y_test_label = lb.inverse_transform(y_test)\n",
    "# y_predicted_label = lb.inverse_transform(y_predicted)"
   ]
  },
  {
   "cell_type": "code",
   "execution_count": 34,
   "id": "6411e806",
   "metadata": {
    "execution": {
     "iopub.execute_input": "2023-05-30T19:05:25.936030Z",
     "iopub.status.busy": "2023-05-30T19:05:25.935068Z",
     "iopub.status.idle": "2023-05-30T19:05:25.940983Z",
     "shell.execute_reply": "2023-05-30T19:05:25.939661Z"
    },
    "papermill": {
     "duration": 0.823717,
     "end_time": "2023-05-30T19:05:25.944065",
     "exception": false,
     "start_time": "2023-05-30T19:05:25.120348",
     "status": "completed"
    },
    "tags": []
   },
   "outputs": [],
   "source": [
    "# print(\"Classification Report:\")\n",
    "# clr = classification_report(y_test_label, y_predicted_label)\n",
    "# print(clr)"
   ]
  },
  {
   "cell_type": "code",
   "execution_count": 35,
   "id": "d9a22936",
   "metadata": {
    "execution": {
     "iopub.execute_input": "2023-05-30T19:05:27.325665Z",
     "iopub.status.busy": "2023-05-30T19:05:27.324725Z",
     "iopub.status.idle": "2023-05-30T19:05:27.332318Z",
     "shell.execute_reply": "2023-05-30T19:05:27.328942Z"
    },
    "papermill": {
     "duration": 0.719609,
     "end_time": "2023-05-30T19:05:27.336484",
     "exception": false,
     "start_time": "2023-05-30T19:05:26.616875",
     "status": "completed"
    },
    "tags": []
   },
   "outputs": [],
   "source": [
    "# print(\"Confusion Matrix:\")\n",
    "# multilabel_cm = multilabel_confusion_matrix(y_test_label, y_predicted_label)\n",
    "# cm = confusion_matrix(y_test_label, y_predicted_label)\n",
    "# print(cm)"
   ]
  },
  {
   "cell_type": "code",
   "execution_count": 36,
   "id": "2095bbea",
   "metadata": {
    "execution": {
     "iopub.execute_input": "2023-05-30T19:05:28.704642Z",
     "iopub.status.busy": "2023-05-30T19:05:28.703395Z",
     "iopub.status.idle": "2023-05-30T19:05:28.709384Z",
     "shell.execute_reply": "2023-05-30T19:05:28.707962Z"
    },
    "papermill": {
     "duration": 0.691995,
     "end_time": "2023-05-30T19:05:28.713341",
     "exception": false,
     "start_time": "2023-05-30T19:05:28.021346",
     "status": "completed"
    },
    "tags": []
   },
   "outputs": [],
   "source": [
    "# cm_df = pd.DataFrame(cm, index = dataset.District.unique(), columns = dataset.District.unique())\n",
    "# plt.figure(figsize=(20,20))\n",
    "# cm_plot = sb.heatmap(cm_df, cmap=\"YlGnBu\", annot=True)\n",
    "# plt.title('Confusion Matrix')\n",
    "# plt.ylabel('Actual Class')\n",
    "# plt.xlabel('Predicted Class')\n",
    "# plt.show(cm_plot)"
   ]
  },
  {
   "cell_type": "code",
   "execution_count": 37,
   "id": "66cc0d31",
   "metadata": {
    "execution": {
     "iopub.execute_input": "2023-05-30T19:05:30.098115Z",
     "iopub.status.busy": "2023-05-30T19:05:30.097113Z",
     "iopub.status.idle": "2023-05-30T19:05:30.103327Z",
     "shell.execute_reply": "2023-05-30T19:05:30.101750Z"
    },
    "id": "9eIEbjfq5bQF",
    "papermill": {
     "duration": 0.701264,
     "end_time": "2023-05-30T19:05:30.107127",
     "exception": false,
     "start_time": "2023-05-30T19:05:29.405863",
     "status": "completed"
    },
    "tags": []
   },
   "outputs": [],
   "source": [
    "# !zip -r logs.zip logs/"
   ]
  }
 ],
 "metadata": {
  "kernelspec": {
   "display_name": "Python 3",
   "language": "python",
   "name": "python3"
  },
  "language_info": {
   "codemirror_mode": {
    "name": "ipython",
    "version": 3
   },
   "file_extension": ".py",
   "mimetype": "text/x-python",
   "name": "python",
   "nbconvert_exporter": "python",
   "pygments_lexer": "ipython3",
   "version": "3.7.12"
  },
  "papermill": {
   "default_parameters": {},
   "duration": 34008.875597,
   "end_time": "2023-05-30T19:05:33.625586",
   "environment_variables": {},
   "exception": null,
   "input_path": "__notebook__.ipynb",
   "output_path": "__notebook__.ipynb",
   "parameters": {},
   "start_time": "2023-05-30T09:38:44.749989",
   "version": "2.4.0"
  }
 },
 "nbformat": 4,
 "nbformat_minor": 5
}
